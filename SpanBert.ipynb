{
 "cells": [
  {
   "cell_type": "markdown",
   "metadata": {
    "id": "t5SJUP5BnsBP"
   },
   "source": [
    "# Read dataset"
   ]
  },
  {
   "cell_type": "markdown",
   "metadata": {
    "id": "89QaLwLmn3m3"
   },
   "source": [
    "# Install necessary modules"
   ]
  },
  {
   "cell_type": "code",
   "execution_count": null,
   "metadata": {
    "ExecuteTime": {
     "end_time": "2023-12-11T21:56:22.142055Z",
     "start_time": "2023-12-11T21:56:20.509235Z"
    },
    "colab": {
     "base_uri": "https://localhost:8080/"
    },
    "id": "LMcn4ZFo0qtI",
    "outputId": "562db138-bac6-4a8b-b896-d6e14f2deab2"
   },
   "outputs": [
    {
     "name": "stdout",
     "output_type": "stream",
     "text": [
      "Requirement already satisfied: transformers in /usr/local/lib/python3.10/dist-packages (4.35.2)\n",
      "Requirement already satisfied: torch in /usr/local/lib/python3.10/dist-packages (2.1.0+cu121)\n",
      "Requirement already satisfied: filelock in /usr/local/lib/python3.10/dist-packages (from transformers) (3.13.1)\n",
      "Requirement already satisfied: huggingface-hub<1.0,>=0.16.4 in /usr/local/lib/python3.10/dist-packages (from transformers) (0.20.2)\n",
      "Requirement already satisfied: numpy>=1.17 in /usr/local/lib/python3.10/dist-packages (from transformers) (1.23.5)\n",
      "Requirement already satisfied: packaging>=20.0 in /usr/local/lib/python3.10/dist-packages (from transformers) (23.2)\n",
      "Requirement already satisfied: pyyaml>=5.1 in /usr/local/lib/python3.10/dist-packages (from transformers) (6.0.1)\n",
      "Requirement already satisfied: regex!=2019.12.17 in /usr/local/lib/python3.10/dist-packages (from transformers) (2023.6.3)\n",
      "Requirement already satisfied: requests in /usr/local/lib/python3.10/dist-packages (from transformers) (2.31.0)\n",
      "Requirement already satisfied: tokenizers<0.19,>=0.14 in /usr/local/lib/python3.10/dist-packages (from transformers) (0.15.0)\n",
      "Requirement already satisfied: safetensors>=0.3.1 in /usr/local/lib/python3.10/dist-packages (from transformers) (0.4.1)\n",
      "Requirement already satisfied: tqdm>=4.27 in /usr/local/lib/python3.10/dist-packages (from transformers) (4.66.1)\n",
      "Requirement already satisfied: typing-extensions in /usr/local/lib/python3.10/dist-packages (from torch) (4.5.0)\n",
      "Requirement already satisfied: sympy in /usr/local/lib/python3.10/dist-packages (from torch) (1.12)\n",
      "Requirement already satisfied: networkx in /usr/local/lib/python3.10/dist-packages (from torch) (3.2.1)\n",
      "Requirement already satisfied: jinja2 in /usr/local/lib/python3.10/dist-packages (from torch) (3.1.2)\n",
      "Requirement already satisfied: fsspec in /usr/local/lib/python3.10/dist-packages (from torch) (2023.6.0)\n",
      "Requirement already satisfied: triton==2.1.0 in /usr/local/lib/python3.10/dist-packages (from torch) (2.1.0)\n",
      "Requirement already satisfied: MarkupSafe>=2.0 in /usr/local/lib/python3.10/dist-packages (from jinja2->torch) (2.1.3)\n",
      "Requirement already satisfied: charset-normalizer<4,>=2 in /usr/local/lib/python3.10/dist-packages (from requests->transformers) (3.3.2)\n",
      "Requirement already satisfied: idna<4,>=2.5 in /usr/local/lib/python3.10/dist-packages (from requests->transformers) (3.6)\n",
      "Requirement already satisfied: urllib3<3,>=1.21.1 in /usr/local/lib/python3.10/dist-packages (from requests->transformers) (2.0.7)\n",
      "Requirement already satisfied: certifi>=2017.4.17 in /usr/local/lib/python3.10/dist-packages (from requests->transformers) (2023.11.17)\n",
      "Requirement already satisfied: mpmath>=0.19 in /usr/local/lib/python3.10/dist-packages (from sympy->torch) (1.3.0)\n"
     ]
    }
   ],
   "source": [
    "!pip install transformers torch"
   ]
  },
  {
   "cell_type": "markdown",
   "metadata": {
    "id": "ySqc1g0Vn700"
   },
   "source": [
    "# Prepare pytorch's dataset"
   ]
  },
  {
   "cell_type": "code",
   "execution_count": null,
   "metadata": {
    "ExecuteTime": {
     "end_time": "2023-12-11T21:56:23.623221Z",
     "start_time": "2023-12-11T21:56:22.149512Z"
    },
    "colab": {
     "base_uri": "https://localhost:8080/",
     "height": 587,
     "referenced_widgets": [
      "c6e6bf9ff8804ae9a448dfc8a8b9908d",
      "89968ed741d7405a860781727ae2331c",
      "893a018d1ea442b6af8689ee9be9cbe2",
      "4972457a41da4056b5e47f7617874d2f",
      "46676b57f831451e9111413f3d478925",
      "129809fd80264a86b441c93fbe60f125",
      "53b46fcad8fe4ece82454b946e2dc5e0",
      "f634cf7e36b54aecb9e0b27ffe499370",
      "84e7ef08a81846a79fb79a170fcd55f6",
      "7eb6296f35ba4548adbb42141d2e951a",
      "d5900f5156fb4ccf9153e9e35adb8070",
      "843155f5652f4a6abce27910b3738cb3",
      "2ee80f1d7da848609478fb875a1883f8",
      "f43ccf27c4624b35870953a5aece9355",
      "9da8c47af257419fa82239575aa8cf1c",
      "57d53936198c4dfaaac4d63403697ddf",
      "525b68b6086043c8a8ca150a4646ef90",
      "75d4cfaead934a75ab7e52f3f1766ac9",
      "db4e4f2e9b8b484197416776e6d8bdea",
      "d1d0bcd99e4f48f98f6c10db0323118c",
      "95a34e018b2d472ca1adcc626ded77e2",
      "4b54c2475749477c89fae1d428cd620e"
     ]
    },
    "id": "VpLdDoGdap2t",
    "outputId": "3d7fa40b-bb0f-4cd8-ad27-d378787b4343"
   },
   "outputs": [
    {
     "name": "stderr",
     "output_type": "stream",
     "text": [
      "/usr/local/lib/python3.10/dist-packages/huggingface_hub/utils/_token.py:88: UserWarning: \n",
      "The secret `HF_TOKEN` does not exist in your Colab secrets.\n",
      "To authenticate with the Hugging Face Hub, create a token in your settings tab (https://huggingface.co/settings/tokens), set it as secret in your Google Colab and restart your session.\n",
      "You will be able to reuse this secret in all of your notebooks.\n",
      "Please note that authentication is recommended but still optional to access public models or datasets.\n",
      "  warnings.warn(\n"
     ]
    },
    {
     "data": {
      "application/vnd.jupyter.widget-view+json": {
       "model_id": "c6e6bf9ff8804ae9a448dfc8a8b9908d",
       "version_major": 2,
       "version_minor": 0
      },
      "text/plain": [
       "config.json:   0%|          | 0.00/413 [00:00<?, ?B/s]"
      ]
     },
     "metadata": {},
     "output_type": "display_data"
    },
    {
     "data": {
      "application/vnd.jupyter.widget-view+json": {
       "model_id": "843155f5652f4a6abce27910b3738cb3",
       "version_major": 2,
       "version_minor": 0
      },
      "text/plain": [
       "vocab.txt:   0%|          | 0.00/213k [00:00<?, ?B/s]"
      ]
     },
     "metadata": {},
     "output_type": "display_data"
    },
    {
     "name": "stdout",
     "output_type": "stream",
     "text": [
      "512\n",
      "512\n",
      "512\n",
      "512\n",
      "512\n",
      "512\n",
      "512\n",
      "512\n",
      "512\n",
      "512\n",
      "512\n",
      "512\n",
      "512\n",
      "512\n",
      "512\n",
      "512\n",
      "512\n",
      "512\n",
      "512\n",
      "512\n",
      "512\n",
      "512\n"
     ]
    }
   ],
   "source": [
    "from transformers import AutoTokenizer\n",
    "import json\n",
    "\n",
    "# Load the tokenizer\n",
    "tokenizer = AutoTokenizer.from_pretrained(\"SpanBERT/spanbert-base-cased\")\n",
    "\n",
    "with open('data.json') as json_file:\n",
    "    dataset = json.load(json_file)\n",
    "\n",
    "output = []\n",
    "for data_point in dataset:\n",
    "    tokens = data_point['tokens']\n",
    "    labels = data_point['labels']\n",
    "\n",
    "    # replace, start, inside, and end with their actual values\n",
    "\n",
    "    for i, label in enumerate(labels):\n",
    "        end = label.split(\"-\")\n",
    "        if len(end) == 2:\n",
    "            labels[i] = end[1]\n",
    "        else:\n",
    "            labels[i] = end[0]\n",
    "\n",
    "    tokenized_tokens = []\n",
    "    tokenized_labels = []\n",
    "    tokenized_attention_mask = []\n",
    "\n",
    "    for i, token in enumerate(tokens):\n",
    "        tokenized_token = tokenizer(token.split(), is_split_into_words=True)\n",
    "        tokenized_label = [labels[i]] * len(tokenized_token[\"input_ids\"])\n",
    "\n",
    "        tokenized_tokens.extend(tokenized_token[\"input_ids\"])\n",
    "        tokenized_labels.extend(tokenized_label)\n",
    "        tokenized_attention_mask.extend(tokenized_token[\"attention_mask\"])\n",
    "\n",
    "    output.append({\"tokens\": tokenized_tokens, \"labels\": tokenized_labels, \"attention_mask\": tokenized_attention_mask})\n",
    "\n",
    "\n",
    "def chunk_and_pad(output):\n",
    "    all_json = []\n",
    "    for data_point in output:\n",
    "        tokens = data_point[\"tokens\"]\n",
    "\n",
    "        labels = data_point[\"labels\"]\n",
    "        attention_mask = data_point[\"attention_mask\"]\n",
    "\n",
    "        chunked_tokens = []\n",
    "        chunked_labels = []\n",
    "        chunked_attention_mask = []\n",
    "\n",
    "        for i in range(0, len(tokens), 512):\n",
    "            chunked_tokens.append(tokens[i:i + 512])\n",
    "            chunked_labels.append(labels[i:i + 512])\n",
    "            chunked_attention_mask.append(attention_mask[i:i + 512])\n",
    "\n",
    "        for i in range(len(chunked_tokens)):\n",
    "            chunked_tokens[i] = chunked_tokens[i] + [0] * (512 - len(chunked_tokens[i]))\n",
    "            chunked_labels[i] = chunked_labels[i] + [\"O\"] * (512 - len(chunked_labels[i]))\n",
    "            chunked_attention_mask[i] = chunked_attention_mask[i] + [0] * (512 - len(chunked_attention_mask[i]))\n",
    "\n",
    "        print(len(chunked_tokens[0]))\n",
    "\n",
    "        for i in range(len(chunked_tokens)):\n",
    "            all_json.append(\n",
    "                {\"tokens\": chunked_tokens[i], \"labels\": chunked_labels[i], \"attention_mask\": chunked_attention_mask[i]})\n",
    "\n",
    "    return all_json\n",
    "\n",
    "\n",
    "all_json = chunk_and_pad(output)"
   ]
  },
  {
   "cell_type": "code",
   "execution_count": null,
   "metadata": {
    "ExecuteTime": {
     "end_time": "2023-12-11T21:56:23.623548Z",
     "start_time": "2023-12-11T21:56:23.620064Z"
    },
    "colab": {
     "base_uri": "https://localhost:8080/"
    },
    "id": "XtqXos8hgfqu",
    "outputId": "68918928-e9f4-41a7-d921-7aa2a3f43eb5"
   },
   "outputs": [
    {
     "name": "stdout",
     "output_type": "stream",
     "text": [
      "143\n"
     ]
    }
   ],
   "source": [
    "print(len(all_json))"
   ]
  },
  {
   "cell_type": "code",
   "execution_count": null,
   "metadata": {
    "ExecuteTime": {
     "end_time": "2023-12-11T21:56:23.629176Z",
     "start_time": "2023-12-11T21:56:23.624613Z"
    },
    "id": "KYuR7qpY0twc"
   },
   "outputs": [],
   "source": [
    "from torch import nn\n",
    "import torch\n",
    "from torch.utils.data import Dataset\n",
    "\n",
    "\n",
    "class NERDataset(Dataset):\n",
    "    def __init__(self, data, tokenizer, label_to_id):\n",
    "        self.data = data\n",
    "        self.tokenizer = tokenizer\n",
    "        self.label_to_id = label_to_id\n",
    "\n",
    "    def __len__(self):\n",
    "        return len(self.data)\n",
    "\n",
    "    def chunk_list(self, lst, chunk_size):\n",
    "        \"\"\"Yield successive chunks of size chunk_size from lst.\"\"\"\n",
    "        for i in range(0, len(lst), chunk_size):\n",
    "            yield lst[i:i + chunk_size]\n",
    "\n",
    "    def __getitem__(self, idx):\n",
    "        item = self.data[idx]\n",
    "\n",
    "        # Convert labels to IDs\n",
    "        label_ids = [self.label_to_id.get(label, 0) for label in item['labels']]\n",
    "        # Ensure label_ids length matches input_ids length\n",
    "\n",
    "        return {\n",
    "            \"input_ids\": torch.tensor(item[\"tokens\"]),\n",
    "            \"attention_mask\": torch.tensor(item[\"attention_mask\"]),\n",
    "            \"labels\": torch.LongTensor(label_ids)\n",
    "        }\n",
    "\n",
    "\n",
    "label_to_id = {'Requirement': 0, 'Exception': 1, 'Selection': 2,\n",
    "               'Application': 3}\n",
    "\n",
    "# Initialize the dataset\n",
    "ner_dataset = NERDataset(all_json, tokenizer, label_to_id)"
   ]
  },
  {
   "cell_type": "code",
   "execution_count": null,
   "metadata": {
    "ExecuteTime": {
     "end_time": "2023-12-11T21:56:23.634677Z",
     "start_time": "2023-12-11T21:56:23.626914Z"
    },
    "colab": {
     "base_uri": "https://localhost:8080/"
    },
    "id": "_HIpvbfciNEk",
    "outputId": "ae1f6eef-1510-4dab-959b-d216749b9574"
   },
   "outputs": [
    {
     "name": "stdout",
     "output_type": "stream",
     "text": [
      "tensor([0, 0, 0, 0, 0, 0, 0, 0, 0, 0, 0, 0, 0, 0, 0, 0, 0, 0, 0, 0, 0, 0, 0, 0,\n",
      "        0, 0, 0, 0, 0, 0, 0, 0, 0, 0, 0, 0, 0, 0, 0, 0, 0, 0, 0, 0, 0, 0, 0, 0,\n",
      "        0, 0, 0, 0, 0, 0, 0, 0, 0, 0, 0, 0, 0, 0, 0, 0, 0, 0, 0, 0, 0, 3, 3, 3,\n",
      "        3, 3, 3, 3, 3, 3, 3, 3, 3, 3, 3, 3, 3, 3, 3, 3, 3, 3, 3, 3, 3, 3, 3, 3,\n",
      "        3, 3, 3, 0, 0, 0, 0, 0, 0, 1, 1, 1, 0, 0, 0, 1, 1, 1, 1, 1, 1, 0, 0, 0,\n",
      "        1, 1, 1, 3, 3, 3, 0, 0, 0, 0, 0, 0, 1, 1, 1, 0, 0, 0, 1, 1, 1, 1, 1, 1,\n",
      "        0, 0, 0, 1, 1, 1, 3, 3, 3, 0, 0, 0, 0, 0, 0, 0, 1, 1, 1, 0, 0, 0, 1, 1,\n",
      "        1, 1, 1, 1, 0, 0, 0, 1, 1, 1, 0, 0, 0, 0, 3, 3, 3, 3, 3, 3, 3, 3, 3, 3,\n",
      "        3, 3, 3, 3, 3, 1, 1, 1, 0, 0, 0, 1, 1, 1, 0, 0, 0, 0, 0, 0, 0, 0, 0, 0,\n",
      "        0, 0, 0, 0, 0, 0, 0, 0, 0, 0, 0, 0, 0, 0, 0, 0, 0, 0, 0, 0, 0, 0, 0, 0,\n",
      "        0, 0, 0, 0, 0, 0, 0, 0, 0, 0, 0, 0, 0, 0, 0, 0, 0, 0, 0, 0, 0, 0, 0, 0,\n",
      "        0, 0, 0, 0, 0, 0, 0, 0, 0, 0, 0, 0, 0, 0, 0, 0, 0, 0, 0, 0, 0, 0, 0, 0,\n",
      "        0, 0, 0, 0, 0, 0, 0, 0, 0, 0, 0, 0, 0, 0, 0, 0, 0, 0, 0, 0, 0, 0, 0, 0,\n",
      "        0, 0, 0, 0, 0, 0, 0, 0, 0, 0, 0, 0, 0, 0, 0, 0, 0, 0, 0, 0, 0, 0, 0, 0,\n",
      "        0, 0, 0, 0, 0, 0, 0, 0, 0, 0, 0, 0, 0, 0, 0, 0, 0, 0, 0, 0, 0, 0, 0, 0,\n",
      "        0, 0, 0, 0, 0, 0, 0, 0, 0, 0, 0, 0, 0, 0, 0, 0, 0, 0, 0, 0, 0, 0, 0, 0,\n",
      "        0, 0, 0, 0, 0, 0, 0, 0, 0, 0, 0, 0, 0, 0, 0, 0, 0, 3, 3, 3, 2, 2, 2, 2,\n",
      "        2, 2, 2, 2, 2, 3, 3, 3, 0, 0, 0, 3, 3, 3, 3, 3, 3, 0, 0, 0, 3, 3, 3, 3,\n",
      "        3, 0, 0, 0, 0, 0, 0, 0, 0, 0, 0, 0, 0, 0, 0, 0, 0, 0, 0, 0, 0, 0, 0, 0,\n",
      "        0, 0, 0, 0, 0, 0, 0, 0, 0, 0, 0, 0, 0, 0, 0, 0, 0, 0, 0, 0, 0, 0, 0, 0,\n",
      "        0, 0, 0, 0, 0, 0, 0, 0, 0, 0, 0, 0, 0, 0, 0, 0, 0, 0, 0, 0, 0, 0, 0, 0,\n",
      "        0, 0, 0, 0, 0, 0, 0, 0])\n"
     ]
    }
   ],
   "source": [
    "print(ner_dataset[0][\"labels\"])"
   ]
  },
  {
   "cell_type": "markdown",
   "metadata": {
    "id": "qquu6ugJoEEB"
   },
   "source": [
    "# Train, Validate and Save best model"
   ]
  },
  {
   "cell_type": "code",
   "execution_count": null,
   "metadata": {
    "ExecuteTime": {
     "end_time": "2023-12-11T21:56:24.836681Z",
     "start_time": "2023-12-11T21:56:23.631891Z"
    },
    "colab": {
     "base_uri": "https://localhost:8080/"
    },
    "id": "JR_r09sG7Tyr",
    "outputId": "e438e7b0-c343-4b48-ccef-c8970cac6ef2"
   },
   "outputs": [
    {
     "name": "stdout",
     "output_type": "stream",
     "text": [
      "Requirement already satisfied: scikit-learn in /usr/local/lib/python3.10/dist-packages (1.2.2)\n",
      "Requirement already satisfied: numpy>=1.17.3 in /usr/local/lib/python3.10/dist-packages (from scikit-learn) (1.23.5)\n",
      "Requirement already satisfied: scipy>=1.3.2 in /usr/local/lib/python3.10/dist-packages (from scikit-learn) (1.11.4)\n",
      "Requirement already satisfied: joblib>=1.1.1 in /usr/local/lib/python3.10/dist-packages (from scikit-learn) (1.3.2)\n",
      "Requirement already satisfied: threadpoolctl>=2.0.0 in /usr/local/lib/python3.10/dist-packages (from scikit-learn) (3.2.0)\n"
     ]
    }
   ],
   "source": [
    "!pip install scikit-learn"
   ]
  },
  {
   "cell_type": "code",
   "execution_count": null,
   "metadata": {
    "ExecuteTime": {
     "end_time": "2023-12-11T22:08:34.972398Z",
     "start_time": "2023-12-11T21:56:24.837152Z"
    },
    "colab": {
     "base_uri": "https://localhost:8080/",
     "height": 1000,
     "referenced_widgets": [
      "81b4008e38834e39935c6e5e5b6cf5f3",
      "f598f661f1d74c29b74eb00d2aac15af",
      "04aa329a547f4ca59ae0afcaa21f03a7",
      "b020ada1595e480daf00bcc9486b0b30",
      "8ed8b3e65e8341708c5ef00a9b33da9d",
      "a27797bfe1834fafb708d2ac6c6a69f5",
      "0f58ee2ddab543d2aa4ea3cf90b7b362",
      "b7948062760144b5a53677768b9c606f",
      "cade109247184a49be46246684bf05e7",
      "063b009c9d4b4ac7b70e6ef6f9872a0e",
      "6954a3fc1c2f4ba99d0bd0cc356dc830"
     ]
    },
    "id": "Lb97vc3JnrJY",
    "outputId": "213d818b-5351-4a9d-cdaa-30c26abc2ef9"
   },
   "outputs": [
    {
     "data": {
      "application/vnd.jupyter.widget-view+json": {
       "model_id": "81b4008e38834e39935c6e5e5b6cf5f3",
       "version_major": 2,
       "version_minor": 0
      },
      "text/plain": [
       "pytorch_model.bin:   0%|          | 0.00/215M [00:00<?, ?B/s]"
      ]
     },
     "metadata": {},
     "output_type": "display_data"
    },
    {
     "name": "stderr",
     "output_type": "stream",
     "text": [
      "Some weights of BertForTokenClassification were not initialized from the model checkpoint at SpanBERT/spanbert-base-cased and are newly initialized: ['classifier.bias', 'classifier.weight']\n",
      "You should probably TRAIN this model on a down-stream task to be able to use it for predictions and inference.\n",
      "/usr/local/lib/python3.10/dist-packages/transformers/optimization.py:411: FutureWarning: This implementation of AdamW is deprecated and will be removed in a future version. Use the PyTorch implementation torch.optim.AdamW instead, or set `no_deprecation_warning=True` to disable this warning\n",
      "  warnings.warn(\n",
      "Training Epoch 1: 100%|██████████| 15/15 [00:11<00:00,  1.26it/s]\n"
     ]
    },
    {
     "name": "stdout",
     "output_type": "stream",
     "text": [
      "Epoch 1: Train: Loss = 0.994410530726115, Accuracy = 0.7266138980263158, Precision = 0.6148448894786788, Recall = 0.7266138980263158, F1 = 0.645054773800628\n"
     ]
    },
    {
     "name": "stderr",
     "output_type": "stream",
     "text": [
      "Validation Epoch 1: 100%|██████████| 4/4 [00:00<00:00,  4.77it/s]\n",
      "/usr/local/lib/python3.10/dist-packages/sklearn/metrics/_classification.py:1344: UndefinedMetricWarning: Precision is ill-defined and being set to 0.0 in labels with no predicted samples. Use `zero_division` parameter to control this behavior.\n",
      "  _warn_prf(average, modifier, msg_start, len(result))\n"
     ]
    },
    {
     "name": "stdout",
     "output_type": "stream",
     "text": [
      "Epoch 1: Validation: Loss = 0.7955668270587921, Accuracy = 0.7581492456896551, Precision = 0.574790278739793, Recall = 0.7581492456896551, F1 = 0.6538583458133268\n",
      "Val loss improved from inf to 0.7955668270587921\n",
      "\n"
     ]
    },
    {
     "name": "stderr",
     "output_type": "stream",
     "text": [
      "Training Epoch 2: 100%|██████████| 15/15 [00:09<00:00,  1.56it/s]\n",
      "/usr/local/lib/python3.10/dist-packages/sklearn/metrics/_classification.py:1344: UndefinedMetricWarning: Precision is ill-defined and being set to 0.0 in labels with no predicted samples. Use `zero_division` parameter to control this behavior.\n",
      "  _warn_prf(average, modifier, msg_start, len(result))\n"
     ]
    },
    {
     "name": "stdout",
     "output_type": "stream",
     "text": [
      "Epoch 2: Train: Loss = 0.763154665629069, Accuracy = 0.7562534265350878, Precision = 0.5719192451460614, Recall = 0.7562534265350878, F1 = 0.6512946668231143\n"
     ]
    },
    {
     "name": "stderr",
     "output_type": "stream",
     "text": [
      "Validation Epoch 2: 100%|██████████| 4/4 [00:00<00:00,  4.85it/s]\n",
      "/usr/local/lib/python3.10/dist-packages/sklearn/metrics/_classification.py:1344: UndefinedMetricWarning: Precision is ill-defined and being set to 0.0 in labels with no predicted samples. Use `zero_division` parameter to control this behavior.\n",
      "  _warn_prf(average, modifier, msg_start, len(result))\n"
     ]
    },
    {
     "name": "stdout",
     "output_type": "stream",
     "text": [
      "Epoch 2: Validation: Loss = 0.7389684915542603, Accuracy = 0.7581492456896551, Precision = 0.574790278739793, Recall = 0.7581492456896551, F1 = 0.6538583458133268\n",
      "Val loss improved from 0.7955668270587921 to 0.7389684915542603\n",
      "\n"
     ]
    },
    {
     "name": "stderr",
     "output_type": "stream",
     "text": [
      "Training Epoch 3: 100%|██████████| 15/15 [00:09<00:00,  1.54it/s]\n",
      "/usr/local/lib/python3.10/dist-packages/sklearn/metrics/_classification.py:1344: UndefinedMetricWarning: Precision is ill-defined and being set to 0.0 in labels with no predicted samples. Use `zero_division` parameter to control this behavior.\n",
      "  _warn_prf(average, modifier, msg_start, len(result))\n"
     ]
    },
    {
     "name": "stdout",
     "output_type": "stream",
     "text": [
      "Epoch 3: Train: Loss = 0.7393342693646748, Accuracy = 0.7562534265350878, Precision = 0.5719192451460614, Recall = 0.7562534265350878, F1 = 0.6512946668231143\n"
     ]
    },
    {
     "name": "stderr",
     "output_type": "stream",
     "text": [
      "Validation Epoch 3: 100%|██████████| 4/4 [00:00<00:00,  4.80it/s]\n",
      "/usr/local/lib/python3.10/dist-packages/sklearn/metrics/_classification.py:1344: UndefinedMetricWarning: Precision is ill-defined and being set to 0.0 in labels with no predicted samples. Use `zero_division` parameter to control this behavior.\n",
      "  _warn_prf(average, modifier, msg_start, len(result))\n"
     ]
    },
    {
     "name": "stdout",
     "output_type": "stream",
     "text": [
      "Epoch 3: Validation: Loss = 0.7228142395615578, Accuracy = 0.7581492456896551, Precision = 0.574790278739793, Recall = 0.7581492456896551, F1 = 0.6538583458133268\n",
      "Val loss improved from 0.7389684915542603 to 0.7228142395615578\n",
      "\n"
     ]
    },
    {
     "name": "stderr",
     "output_type": "stream",
     "text": [
      "Training Epoch 4: 100%|██████████| 15/15 [00:09<00:00,  1.52it/s]\n",
      "/usr/local/lib/python3.10/dist-packages/sklearn/metrics/_classification.py:1344: UndefinedMetricWarning: Precision is ill-defined and being set to 0.0 in labels with no predicted samples. Use `zero_division` parameter to control this behavior.\n",
      "  _warn_prf(average, modifier, msg_start, len(result))\n"
     ]
    },
    {
     "name": "stdout",
     "output_type": "stream",
     "text": [
      "Epoch 4: Train: Loss = 0.7304958899815878, Accuracy = 0.7562534265350878, Precision = 0.5719192451460614, Recall = 0.7562534265350878, F1 = 0.6512946668231143\n"
     ]
    },
    {
     "name": "stderr",
     "output_type": "stream",
     "text": [
      "Validation Epoch 4: 100%|██████████| 4/4 [00:00<00:00,  4.80it/s]\n",
      "/usr/local/lib/python3.10/dist-packages/sklearn/metrics/_classification.py:1344: UndefinedMetricWarning: Precision is ill-defined and being set to 0.0 in labels with no predicted samples. Use `zero_division` parameter to control this behavior.\n",
      "  _warn_prf(average, modifier, msg_start, len(result))\n"
     ]
    },
    {
     "name": "stdout",
     "output_type": "stream",
     "text": [
      "Epoch 4: Validation: Loss = 0.7133013680577278, Accuracy = 0.7581492456896551, Precision = 0.574790278739793, Recall = 0.7581492456896551, F1 = 0.6538583458133268\n",
      "Val loss improved from 0.7228142395615578 to 0.7133013680577278\n",
      "\n"
     ]
    },
    {
     "name": "stderr",
     "output_type": "stream",
     "text": [
      "Training Epoch 5: 100%|██████████| 15/15 [00:10<00:00,  1.49it/s]\n",
      "/usr/local/lib/python3.10/dist-packages/sklearn/metrics/_classification.py:1344: UndefinedMetricWarning: Precision is ill-defined and being set to 0.0 in labels with no predicted samples. Use `zero_division` parameter to control this behavior.\n",
      "  _warn_prf(average, modifier, msg_start, len(result))\n"
     ]
    },
    {
     "name": "stdout",
     "output_type": "stream",
     "text": [
      "Epoch 5: Train: Loss = 0.7239904304345449, Accuracy = 0.7562534265350878, Precision = 0.5719192451460614, Recall = 0.7562534265350878, F1 = 0.6512946668231143\n"
     ]
    },
    {
     "name": "stderr",
     "output_type": "stream",
     "text": [
      "Validation Epoch 5: 100%|██████████| 4/4 [00:00<00:00,  4.65it/s]\n",
      "/usr/local/lib/python3.10/dist-packages/sklearn/metrics/_classification.py:1344: UndefinedMetricWarning: Precision is ill-defined and being set to 0.0 in labels with no predicted samples. Use `zero_division` parameter to control this behavior.\n",
      "  _warn_prf(average, modifier, msg_start, len(result))\n"
     ]
    },
    {
     "name": "stdout",
     "output_type": "stream",
     "text": [
      "Epoch 5: Validation: Loss = 0.7070348933339119, Accuracy = 0.7581492456896551, Precision = 0.574790278739793, Recall = 0.7581492456896551, F1 = 0.6538583458133268\n",
      "Val loss improved from 0.7133013680577278 to 0.7070348933339119\n",
      "\n"
     ]
    },
    {
     "name": "stderr",
     "output_type": "stream",
     "text": [
      "Training Epoch 6: 100%|██████████| 15/15 [00:10<00:00,  1.47it/s]\n",
      "/usr/local/lib/python3.10/dist-packages/sklearn/metrics/_classification.py:1344: UndefinedMetricWarning: Precision is ill-defined and being set to 0.0 in labels with no predicted samples. Use `zero_division` parameter to control this behavior.\n",
      "  _warn_prf(average, modifier, msg_start, len(result))\n"
     ]
    },
    {
     "name": "stdout",
     "output_type": "stream",
     "text": [
      "Epoch 6: Train: Loss = 0.7142528335253397, Accuracy = 0.7562534265350878, Precision = 0.5719192451460614, Recall = 0.7562534265350878, F1 = 0.6512946668231143\n"
     ]
    },
    {
     "name": "stderr",
     "output_type": "stream",
     "text": [
      "Validation Epoch 6: 100%|██████████| 4/4 [00:00<00:00,  4.53it/s]\n",
      "/usr/local/lib/python3.10/dist-packages/sklearn/metrics/_classification.py:1344: UndefinedMetricWarning: Precision is ill-defined and being set to 0.0 in labels with no predicted samples. Use `zero_division` parameter to control this behavior.\n",
      "  _warn_prf(average, modifier, msg_start, len(result))\n"
     ]
    },
    {
     "name": "stdout",
     "output_type": "stream",
     "text": [
      "Epoch 6: Validation: Loss = 0.6998867020010948, Accuracy = 0.7581492456896551, Precision = 0.574790278739793, Recall = 0.7581492456896551, F1 = 0.6538583458133268\n",
      "Val loss improved from 0.7070348933339119 to 0.6998867020010948\n",
      "\n"
     ]
    },
    {
     "name": "stderr",
     "output_type": "stream",
     "text": [
      "Training Epoch 7: 100%|██████████| 15/15 [00:10<00:00,  1.44it/s]\n",
      "/usr/local/lib/python3.10/dist-packages/sklearn/metrics/_classification.py:1344: UndefinedMetricWarning: Precision is ill-defined and being set to 0.0 in labels with no predicted samples. Use `zero_division` parameter to control this behavior.\n",
      "  _warn_prf(average, modifier, msg_start, len(result))\n"
     ]
    },
    {
     "name": "stdout",
     "output_type": "stream",
     "text": [
      "Epoch 7: Train: Loss = 0.6983480115731557, Accuracy = 0.7562534265350878, Precision = 0.5719192451460614, Recall = 0.7562534265350878, F1 = 0.6512946668231143\n"
     ]
    },
    {
     "name": "stderr",
     "output_type": "stream",
     "text": [
      "Validation Epoch 7: 100%|██████████| 4/4 [00:00<00:00,  4.49it/s]\n",
      "/usr/local/lib/python3.10/dist-packages/sklearn/metrics/_classification.py:1344: UndefinedMetricWarning: Precision is ill-defined and being set to 0.0 in labels with no predicted samples. Use `zero_division` parameter to control this behavior.\n",
      "  _warn_prf(average, modifier, msg_start, len(result))\n"
     ]
    },
    {
     "name": "stdout",
     "output_type": "stream",
     "text": [
      "Epoch 7: Validation: Loss = 0.6981254145503044, Accuracy = 0.7581492456896551, Precision = 0.574790278739793, Recall = 0.7581492456896551, F1 = 0.6538583458133268\n",
      "Val loss improved from 0.6998867020010948 to 0.6981254145503044\n",
      "\n"
     ]
    },
    {
     "name": "stderr",
     "output_type": "stream",
     "text": [
      "Training Epoch 8: 100%|██████████| 15/15 [00:10<00:00,  1.40it/s]\n",
      "/usr/local/lib/python3.10/dist-packages/sklearn/metrics/_classification.py:1344: UndefinedMetricWarning: Precision is ill-defined and being set to 0.0 in labels with no predicted samples. Use `zero_division` parameter to control this behavior.\n",
      "  _warn_prf(average, modifier, msg_start, len(result))\n"
     ]
    },
    {
     "name": "stdout",
     "output_type": "stream",
     "text": [
      "Epoch 8: Train: Loss = 0.6673112531503042, Accuracy = 0.7562534265350878, Precision = 0.5719192451460614, Recall = 0.7562534265350878, F1 = 0.6512946668231143\n"
     ]
    },
    {
     "name": "stderr",
     "output_type": "stream",
     "text": [
      "Validation Epoch 8: 100%|██████████| 4/4 [00:00<00:00,  4.28it/s]\n",
      "/usr/local/lib/python3.10/dist-packages/sklearn/metrics/_classification.py:1344: UndefinedMetricWarning: Precision is ill-defined and being set to 0.0 in labels with no predicted samples. Use `zero_division` parameter to control this behavior.\n",
      "  _warn_prf(average, modifier, msg_start, len(result))\n"
     ]
    },
    {
     "name": "stdout",
     "output_type": "stream",
     "text": [
      "Epoch 8: Validation: Loss = 0.6828589364886284, Accuracy = 0.7581492456896551, Precision = 0.574790278739793, Recall = 0.7581492456896551, F1 = 0.6538583458133268\n",
      "Val loss improved from 0.6981254145503044 to 0.6828589364886284\n",
      "\n"
     ]
    },
    {
     "name": "stderr",
     "output_type": "stream",
     "text": [
      "Training Epoch 9: 100%|██████████| 15/15 [00:10<00:00,  1.38it/s]\n",
      "/usr/local/lib/python3.10/dist-packages/sklearn/metrics/_classification.py:1344: UndefinedMetricWarning: Precision is ill-defined and being set to 0.0 in labels with no predicted samples. Use `zero_division` parameter to control this behavior.\n",
      "  _warn_prf(average, modifier, msg_start, len(result))\n"
     ]
    },
    {
     "name": "stdout",
     "output_type": "stream",
     "text": [
      "Epoch 9: Train: Loss = 0.6391535043716431, Accuracy = 0.7706962719298246, Precision = 0.6874373361399464, Recall = 0.7706962719298246, F1 = 0.7149953664809304\n"
     ]
    },
    {
     "name": "stderr",
     "output_type": "stream",
     "text": [
      "Validation Epoch 9: 100%|██████████| 4/4 [00:00<00:00,  4.28it/s]\n",
      "/usr/local/lib/python3.10/dist-packages/sklearn/metrics/_classification.py:1344: UndefinedMetricWarning: Precision is ill-defined and being set to 0.0 in labels with no predicted samples. Use `zero_division` parameter to control this behavior.\n",
      "  _warn_prf(average, modifier, msg_start, len(result))\n"
     ]
    },
    {
     "name": "stdout",
     "output_type": "stream",
     "text": [
      "Epoch 9: Validation: Loss = 0.7919974103569984, Accuracy = 0.7581492456896551, Precision = 0.574790278739793, Recall = 0.7581492456896551, F1 = 0.6538583458133268\n",
      "Val loss did not improve\n",
      "\n"
     ]
    },
    {
     "name": "stderr",
     "output_type": "stream",
     "text": [
      "Training Epoch 10: 100%|██████████| 15/15 [00:10<00:00,  1.41it/s]\n",
      "/usr/local/lib/python3.10/dist-packages/sklearn/metrics/_classification.py:1344: UndefinedMetricWarning: Precision is ill-defined and being set to 0.0 in labels with no predicted samples. Use `zero_division` parameter to control this behavior.\n",
      "  _warn_prf(average, modifier, msg_start, len(result))\n"
     ]
    },
    {
     "name": "stdout",
     "output_type": "stream",
     "text": [
      "Epoch 10: Train: Loss = 0.6751312990983327, Accuracy = 0.7446032072368421, Precision = 0.6650438867147598, Recall = 0.7446032072368421, F1 = 0.6873329760020975\n"
     ]
    },
    {
     "name": "stderr",
     "output_type": "stream",
     "text": [
      "Validation Epoch 10: 100%|██████████| 4/4 [00:00<00:00,  4.38it/s]\n"
     ]
    },
    {
     "name": "stdout",
     "output_type": "stream",
     "text": [
      "Epoch 10: Validation: Loss = 0.6989736929535866, Accuracy = 0.7581492456896551, Precision = 0.574790278739793, Recall = 0.7581492456896551, F1 = 0.6538583458133268\n",
      "Val loss did not improve\n",
      "\n"
     ]
    },
    {
     "name": "stderr",
     "output_type": "stream",
     "text": [
      "/usr/local/lib/python3.10/dist-packages/sklearn/metrics/_classification.py:1344: UndefinedMetricWarning: Precision is ill-defined and being set to 0.0 in labels with no predicted samples. Use `zero_division` parameter to control this behavior.\n",
      "  _warn_prf(average, modifier, msg_start, len(result))\n"
     ]
    }
   ],
   "source": [
    "import torch\n",
    "from torch.utils.data import DataLoader, random_split\n",
    "from torch.optim.lr_scheduler import ReduceLROnPlateau\n",
    "from transformers import AutoModelForTokenClassification, AutoTokenizer, AdamW\n",
    "from tqdm import tqdm\n",
    "from sklearn.metrics import precision_score, recall_score, f1_score, accuracy_score\n",
    "\n",
    "\n",
    "# Parameters\n",
    "num_labels = len(label_to_id)  # Number of labels in your dataset\n",
    "model_name = \"SpanBERT/spanbert-base-cased\"\n",
    "\n",
    "# Model and Tokenizer Initialization\n",
    "model = AutoModelForTokenClassification.from_pretrained(model_name, num_labels=num_labels)\n",
    "tokenizer = AutoTokenizer.from_pretrained(model_name)\n",
    "\n",
    "# Dataset and DataLoader\n",
    "dataset_size = len(ner_dataset)\n",
    "train_size = int(0.8 * dataset_size)  # 80% for training\n",
    "val_size = dataset_size - train_size  # 20% for validation\n",
    "train_dataset, val_dataset = random_split(ner_dataset, [train_size, val_size])\n",
    "\n",
    "# Create DataLoader for validation set\n",
    "val_loader = DataLoader(val_dataset, batch_size=8, shuffle=False)\n",
    "train_loader = DataLoader(train_dataset, batch_size=8, shuffle=False)\n",
    "\n",
    "# Optimizer\n",
    "optimizer = AdamW(model.parameters(), lr=2e-5)\n",
    "\n",
    "# Learning Rate Scheduler\n",
    "scheduler = ReduceLROnPlateau(optimizer, mode='min', factor=0.1, patience=10)\n",
    "\n",
    "# Early Stopping\n",
    "early_stopping_patience = 30\n",
    "early_stopping_counter = 0\n",
    "best_loss = float('inf')\n",
    "\n",
    "# Move model to GPU if available\n",
    "device = torch.device(\"cuda\" if torch.cuda.is_available() else \"cpu\")\n",
    "model.to(device)\n",
    "\n",
    "train_losses = []\n",
    "train_accuracies = []\n",
    "train_precisions = []\n",
    "train_f1s = []\n",
    "train_recalls = []\n",
    "\n",
    "val_losses = []\n",
    "val_accuracies = []\n",
    "val_precisions = []\n",
    "val_f1s = []\n",
    "val_recalls = []\n",
    "\n",
    "# Training Loop\n",
    "model.train()\n",
    "for epoch in range(10):  # Adjust the number of epochs as needed\n",
    "    total_loss = 0\n",
    "    all_predictions = []\n",
    "    all_labels = []\n",
    "\n",
    "    id_to_label = {v: k for k, v in label_to_id.items()}\n",
    "    accuracy_per_entity_type = {label: [] for label in id_to_label.values()}\n",
    "\n",
    "    for batch in tqdm(train_loader, desc=f\"Training Epoch {epoch+1}\"):\n",
    "        input_ids = batch['input_ids'].to(device)\n",
    "        attention_mask = batch['attention_mask'].to(device)\n",
    "        labels = batch['labels'].to(device)\n",
    "\n",
    "        # Forward pass\n",
    "        outputs = model(input_ids, attention_mask=attention_mask, labels=labels)\n",
    "        loss = outputs.loss\n",
    "        logits = outputs.logits\n",
    "\n",
    "        # Backward pass\n",
    "        optimizer.zero_grad()\n",
    "        loss.backward()\n",
    "        optimizer.step()\n",
    "\n",
    "        # Convert logits to predictions\n",
    "        predictions = torch.argmax(logits, dim=2)\n",
    "        all_predictions.extend(predictions.view(-1).cpu().numpy())\n",
    "        all_labels.extend(labels.view(-1).cpu().numpy())\n",
    "\n",
    "        total_loss += loss.item()\n",
    "\n",
    "\n",
    "    average_loss = total_loss / len(train_loader)\n",
    "\n",
    "    train_accuracy = accuracy_score(all_labels, all_predictions)\n",
    "    train_precision = precision_score(all_labels, all_predictions, average='weighted')\n",
    "    train_recall = recall_score(all_labels, all_predictions, average='weighted')\n",
    "    train_f1 = f1_score(all_labels, all_predictions, average='weighted')\n",
    "\n",
    "    train_losses.append(average_loss)\n",
    "    train_accuracies.append(train_accuracy)\n",
    "    train_precisions.append(train_precision)\n",
    "    train_f1s.append(train_f1)\n",
    "    train_recalls.append(train_recall)\n",
    "\n",
    "    print(f\"Epoch {epoch+1}: Train: Loss = {average_loss}, Accuracy = {train_accuracy}, Precision = {train_precision}, Recall = {train_recall}, F1 = {train_f1}\")\n",
    "\n",
    "  # Validation\n",
    "    model.eval()\n",
    "    total_val_loss = 0\n",
    "    all_val_predictions = []\n",
    "    all_val_labels = []\n",
    "    with torch.no_grad():\n",
    "        for val_batch in tqdm(val_loader, desc=f\"Validation Epoch {epoch+1}\"):\n",
    "            input_ids = val_batch['input_ids'].to(device)\n",
    "            attention_mask = val_batch['attention_mask'].to(device)\n",
    "            labels = val_batch['labels'].to(device)\n",
    "\n",
    "            # Forward pass\n",
    "            outputs = model(input_ids, attention_mask=attention_mask, labels=labels)\n",
    "            loss = outputs.loss\n",
    "            logits = outputs.logits\n",
    "\n",
    "            # Convert logits to predictions\n",
    "            val_predictions = torch.argmax(logits, dim=2)\n",
    "            all_val_predictions.extend(val_predictions.view(-1).cpu().numpy())\n",
    "            all_val_labels.extend(labels.view(-1).cpu().numpy())\n",
    "\n",
    "            total_val_loss += loss.item()\n",
    "\n",
    "    average_val_loss = total_val_loss / len(val_loader)\n",
    "    val_accuracy = accuracy_score(all_val_labels, all_val_predictions)\n",
    "\n",
    "    val_precision = precision_score(all_val_labels, all_val_predictions, average='weighted')\n",
    "    val_recall = recall_score(all_val_labels, all_val_predictions, average='weighted')\n",
    "    val_f1 = f1_score(all_val_labels, all_val_predictions, average='weighted')\n",
    "\n",
    "    val_losses.append(average_val_loss)\n",
    "    val_accuracies.append(val_accuracy)\n",
    "    val_precisions.append(val_precision)\n",
    "    val_f1s.append(val_f1)\n",
    "    val_recalls.append(val_recall)\n",
    "\n",
    "    print(f\"Epoch {epoch+1}: Validation: Loss = {average_val_loss}, Accuracy = {val_accuracy}, Precision = {val_precision}, Recall = {val_recall}, F1 = {val_f1}\")\n",
    "    # Reduce LR on plateau\n",
    "    scheduler.step(average_val_loss)\n",
    "\n",
    "    # Early Stopping\n",
    "    if average_val_loss < best_loss:\n",
    "        print(f\"Val loss improved from {best_loss} to {average_val_loss}\")\n",
    "        best_loss = average_val_loss\n",
    "        early_stopping_counter = 0\n",
    "\n",
    "        torch.save(model.state_dict(), 'best_model_state_dict.pt')\n",
    "    else:\n",
    "        print(\"Val loss did not improve\")\n",
    "        early_stopping_counter += 1\n",
    "        if early_stopping_counter >= early_stopping_patience:\n",
    "            print(\"Early stopping triggered\")\n",
    "            break\n",
    "    print()"
   ]
  },
  {
   "cell_type": "code",
   "execution_count": null,
   "metadata": {
    "ExecuteTime": {
     "end_time": "2023-12-11T22:08:34.990518Z",
     "start_time": "2023-12-11T22:08:34.990285Z"
    },
    "colab": {
     "base_uri": "https://localhost:8080/"
    },
    "id": "UXk9pcMpQh0-",
    "outputId": "8f064598-b38b-40e1-ff23-81e93b01f9e4"
   },
   "outputs": [
    {
     "name": "stdout",
     "output_type": "stream",
     "text": [
      "Requirement already satisfied: matplotlib in /usr/local/lib/python3.10/dist-packages (3.7.1)\n",
      "Requirement already satisfied: contourpy>=1.0.1 in /usr/local/lib/python3.10/dist-packages (from matplotlib) (1.2.0)\n",
      "Requirement already satisfied: cycler>=0.10 in /usr/local/lib/python3.10/dist-packages (from matplotlib) (0.12.1)\n",
      "Requirement already satisfied: fonttools>=4.22.0 in /usr/local/lib/python3.10/dist-packages (from matplotlib) (4.47.0)\n",
      "Requirement already satisfied: kiwisolver>=1.0.1 in /usr/local/lib/python3.10/dist-packages (from matplotlib) (1.4.5)\n",
      "Requirement already satisfied: numpy>=1.20 in /usr/local/lib/python3.10/dist-packages (from matplotlib) (1.23.5)\n",
      "Requirement already satisfied: packaging>=20.0 in /usr/local/lib/python3.10/dist-packages (from matplotlib) (23.2)\n",
      "Requirement already satisfied: pillow>=6.2.0 in /usr/local/lib/python3.10/dist-packages (from matplotlib) (9.4.0)\n",
      "Requirement already satisfied: pyparsing>=2.3.1 in /usr/local/lib/python3.10/dist-packages (from matplotlib) (3.1.1)\n",
      "Requirement already satisfied: python-dateutil>=2.7 in /usr/local/lib/python3.10/dist-packages (from matplotlib) (2.8.2)\n",
      "Requirement already satisfied: six>=1.5 in /usr/local/lib/python3.10/dist-packages (from python-dateutil>=2.7->matplotlib) (1.16.0)\n"
     ]
    }
   ],
   "source": [
    "!pip install matplotlib"
   ]
  },
  {
   "cell_type": "code",
   "execution_count": null,
   "metadata": {
    "ExecuteTime": {
     "end_time": "2023-12-11T22:08:34.991339Z",
     "start_time": "2023-12-11T22:08:34.990808Z"
    },
    "colab": {
     "base_uri": "https://localhost:8080/",
     "height": 1000
    },
    "id": "N6USldYCQBVV",
    "outputId": "d457235f-6e25-412e-8a41-0cb50ffc6409"
   },
   "outputs": [
    {
     "data": {
      "image/png": "[encoded data removed]",
      "text/plain": [
       "<Figure size 700x400 with 1 Axes>"
      ]
     },
     "metadata": {},
     "output_type": "display_data"
    },
    {
     "data": {
      "image/png": "[encoded data removed]",
      "text/plain": [
       "<Figure size 700x400 with 1 Axes>"
      ]
     },
     "metadata": {},
     "output_type": "display_data"
    },
    {
     "data": {
      "image/png": "[encoded data removed]",
      "text/plain": [
       "<Figure size 700x400 with 1 Axes>"
      ]
     },
     "metadata": {},
     "output_type": "display_data"
    },
    {
     "data": {
      "image/png": "[encoded data removed]",
      "text/plain": [
       "<Figure size 700x400 with 1 Axes>"
      ]
     },
     "metadata": {},
     "output_type": "display_data"
    },
    {
     "data": {
      "image/png": "[encoded data removed]",
      "text/plain": [
       "<Figure size 700x400 with 1 Axes>"
      ]
     },
     "metadata": {},
     "output_type": "display_data"
    }
   ],
   "source": [
    "import matplotlib.pyplot as plt\n",
    "\n",
    "epochs = range(1, len(train_losses) + 1)\n",
    "\n",
    "def ploty(title, title_plural, train_values, val_values, epochs):\n",
    "    plt.figure(figsize=(7, 4))\n",
    "    plt.plot(epochs, train_values, 'bo-', label=f'Training {title}')\n",
    "    plt.plot(epochs, val_values, 'ro-', label=f'Validation {title}')\n",
    "    plt.title(f'Training and Validation {title_plural}')\n",
    "    plt.xlabel('Epoch')\n",
    "    plt.ylabel(title)\n",
    "    plt.legend()\n",
    "    plt.show()\n",
    "\n",
    "# Plotting training and validation losses\n",
    "ploty(\n",
    "    title=\"Loss\",\n",
    "    title_plural = \"Losses\",\n",
    "    train_values = train_losses,\n",
    "    val_values = val_losses,\n",
    "    epochs = epochs\n",
    ")\n",
    "\n",
    "\n",
    "ploty(\n",
    "    title=\"Accuracy\",\n",
    "    title_plural = \"Accuracies\",\n",
    "    train_values = train_accuracies,\n",
    "    val_values = val_accuracies,\n",
    "    epochs = epochs\n",
    ")\n",
    "\n",
    "\n",
    "ploty(\n",
    "    title=\"Precision\",\n",
    "    title_plural = \"Precisions\",\n",
    "    train_values = train_precisions,\n",
    "    val_values = val_precisions,\n",
    "    epochs = epochs\n",
    ")\n",
    "\n",
    "ploty(\n",
    "    title=\"Recall\",\n",
    "    title_plural = \"Recalls\",\n",
    "    train_values = train_recalls,\n",
    "    val_values = val_recalls,\n",
    "    epochs = epochs\n",
    ")\n",
    "\n",
    "ploty(\n",
    "    title=\"F1 Score\",\n",
    "    title_plural = \"F1 Scores\",\n",
    "    train_values = train_f1s,\n",
    "    val_values = val_f1s,\n",
    "    epochs = epochs\n",
    ")"
   ]
  },
  {
   "cell_type": "markdown",
   "metadata": {
    "id": "PigVz0NVoFgb"
   },
   "source": [
    "# Test the model"
   ]
  },
  {
   "cell_type": "code",
   "execution_count": null,
   "metadata": {
    "ExecuteTime": {
     "start_time": "2023-12-11T22:08:34.990856Z"
    },
    "colab": {
     "base_uri": "https://localhost:8080/"
    },
    "id": "GBwqkGz9M73I",
    "outputId": "58bcebe2-f354-4eaf-bb79-676936ec928f"
   },
   "outputs": [
    {
     "name": "stderr",
     "output_type": "stream",
     "text": [
      "Some weights of BertForTokenClassification were not initialized from the model checkpoint at SpanBERT/spanbert-base-cased and are newly initialized: ['classifier.bias', 'classifier.weight']\n",
      "You should probably TRAIN this model on a down-stream task to be able to use it for predictions and inference.\n"
     ]
    },
    {
     "name": "stdout",
     "output_type": "stream",
     "text": [
      "regarding (Requirement) the (Requirement) performance (Requirement) of (Requirement) wall (Requirement) lining (Requirement) ##s (Requirement) , (Requirement) a (Requirement) wall (Requirement) includes (Requirement) : (Requirement) the (Requirement) internal (Requirement) surface (Requirement) of (Requirement) internal (Requirement) and (Requirement) external (Requirement) g (Requirement) ##la (Requirement) ##zing (Requirement) ( (Requirement) except (Requirement) g (Requirement) ##la (Requirement) ##zing (Requirement) in (Requirement) doors (Requirement) ) (Requirement) any (Requirement) part (Requirement) of (Requirement) a (Requirement) ceiling (Requirement) that (Requirement) slopes (Requirement) at (Requirement) an (Requirement) angle (Requirement) greater (Requirement) than (Requirement) 70 (Requirement) ##o (Requirement) to (Requirement) the (Requirement) horizontal (Requirement) ##how (Requirement) ##ever (Requirement)\n"
     ]
    }
   ],
   "source": [
    "import torch\n",
    "from transformers import AutoTokenizer\n",
    "import torch.nn.functional as F\n",
    "from transformers import AutoModelForTokenClassification, AutoTokenizer, AdamW\n",
    "\n",
    "# Load the trained model and tokenizer\n",
    "model_name = \"SpanBERT/spanbert-base-cased\"\n",
    "tokenizer = AutoTokenizer.from_pretrained(model_name)\n",
    "\n",
    "label_to_id = {'Requirement': 0, 'Exception': 1, 'Selection': 2,\n",
    "               'Application': 3}\n",
    "id_to_label = {v: k for k, v in label_to_id.items()}\n",
    "\n",
    "\n",
    "# Function to test the model on new text\n",
    "def test_model(text):\n",
    "    # Tokenize the input text\n",
    "    inputs = tokenizer(text, padding=True, truncation=True, return_tensors=\"pt\", max_length=512)\n",
    "\n",
    "    model = AutoModelForTokenClassification.from_pretrained(model_name, num_labels=4)\n",
    "    state_dict = torch.load('best_model_state_dict.pt')\n",
    "    model.load_state_dict(state_dict)\n",
    "\n",
    "    device = torch.device(\"cuda\" if torch.cuda.is_available() else \"cpu\")\n",
    "    model.to(device)\n",
    "\n",
    "    # Move tensors to the same device as the model\n",
    "    input_ids = inputs[\"input_ids\"].to(model.device)\n",
    "    attention_mask = inputs[\"attention_mask\"].to(model.device)\n",
    "\n",
    "    # Model inference\n",
    "    with torch.no_grad():\n",
    "        outputs = model(input_ids, attention_mask=attention_mask)\n",
    "\n",
    "    # Apply softmax to the model output to get probabilities\n",
    "    predictions = F.softmax(outputs.logits, dim=-1)\n",
    "\n",
    "    # Get the most likely class for each token\n",
    "    predicted_indices = torch.argmax(predictions, dim=-1)\n",
    "    predicted_indices = predicted_indices.cpu().numpy()\n",
    "\n",
    "    # Convert predicted indices to class names\n",
    "    # Assuming you have a dictionary `id_to_label` mapping label IDs to label names\n",
    "    predicted_labels = [[id_to_label[idx] for idx in indices] for indices in predicted_indices]\n",
    "\n",
    "    return predicted_labels\n",
    "\n",
    "# Example usage\n",
    "text = \"Regarding the performance of wall linings, a wall includes: the internal surface of internal and external glazing (except glazing in doors)any part of a ceiling that slopes at an angle greater than 70o to the horizontalHowever\"\n",
    "predicted_labels = test_model(text)  # Assuming test_model returns token-level labels\n",
    "\n",
    "# Tokenize the text\n",
    "inputs = tokenizer(text, padding=True, truncation=True, return_tensors=\"pt\", max_length=512)\n",
    "input_ids = inputs[\"input_ids\"][0]\n",
    "\n",
    "# Decode each token ID and pair it with its predicted label\n",
    "decoded_tokens_with_labels = []\n",
    "for idx, token_id in enumerate(input_ids):\n",
    "    token = tokenizer.decode(token_id, skip_special_tokens=False)\n",
    "    if token not in tokenizer.all_special_tokens:\n",
    "        # Get the label for the token\n",
    "        label = predicted_labels[0][idx] if idx < len(predicted_labels[0]) else 'O'\n",
    "        if str(label).strip() == \"O\":\n",
    "          label = \"\"\n",
    "        else:\n",
    "          label = f\" ({label})\"\n",
    "        decoded_tokens_with_labels.append(f\"{token}{label}\")\n",
    "\n",
    "# Create the formatted string\n",
    "formatted_text = ' '.join(decoded_tokens_with_labels)\n",
    "print(formatted_text)"
   ]
  },
  {
   "cell_type": "code",
   "execution_count": null,
   "metadata": {
    "ExecuteTime": {
     "start_time": "2023-12-11T22:08:34.990895Z"
    },
    "colab": {
     "base_uri": "https://localhost:8080/"
    },
    "id": "uzh6Y0GaR649",
    "outputId": "fbd5036d-f461-4ab3-f6f5-3426b9bf87f6"
   },
   "outputs": [
    {
     "name": "stderr",
     "output_type": "stream",
     "text": [
      "Some weights of BertForTokenClassification were not initialized from the model checkpoint at SpanBERT/spanbert-base-cased and are newly initialized: ['classifier.bias', 'classifier.weight']\n",
      "You should probably TRAIN this model on a down-stream task to be able to use it for predictions and inference.\n"
     ]
    },
    {
     "name": "stdout",
     "output_type": "stream",
     "text": [
      "[['Requirement', 'Requirement', 'Requirement', 'Requirement', 'Requirement', 'Requirement', 'Requirement', 'Requirement', 'Requirement', 'Requirement', 'Requirement', 'Requirement', 'Requirement', 'Requirement', 'Requirement', 'Requirement', 'Requirement', 'Requirement', 'Requirement', 'Requirement', 'Requirement', 'Requirement', 'Requirement', 'Requirement', 'Requirement', 'Requirement', 'Requirement', 'Requirement', 'Requirement', 'Requirement', 'Requirement', 'Requirement', 'Requirement', 'Requirement', 'Requirement', 'Requirement', 'Requirement', 'Requirement', 'Requirement', 'Requirement', 'Requirement', 'Requirement', 'Requirement', 'Requirement', 'Requirement', 'Requirement', 'Requirement', 'Requirement', 'Requirement', 'Requirement', 'Requirement', 'Requirement', 'Requirement', 'Requirement', 'Requirement', 'Requirement', 'Requirement', 'Requirement', 'Requirement', 'Requirement', 'Requirement', 'Requirement', 'Requirement', 'Requirement', 'Requirement', 'Requirement', 'Requirement', 'Requirement', 'Requirement', 'Requirement', 'Requirement', 'Requirement', 'Requirement', 'Requirement', 'Requirement', 'Requirement', 'Requirement', 'Requirement', 'Requirement', 'Requirement', 'Requirement', 'Requirement', 'Requirement', 'Requirement', 'Requirement', 'Requirement', 'Requirement', 'Requirement', 'Requirement', 'Requirement', 'Requirement', 'Requirement', 'Requirement', 'Requirement', 'Requirement', 'Requirement', 'Requirement', 'Requirement', 'Requirement', 'Requirement', 'Requirement', 'Requirement', 'Requirement', 'Requirement', 'Requirement', 'Requirement', 'Requirement', 'Requirement', 'Requirement', 'Requirement', 'Requirement', 'Requirement']]\n"
     ]
    }
   ],
   "source": [
    "# Example usage\n",
    "text = \"In certain conditions, typically classrooms, a single direction of escape (a dead end condition) can be accepted as providing reasonable safety providing that the recommendations of Table 1 on travel distances in a single direction is met and the occupancy of the space is limited to 60. Where travel is possible in one direction only (m) Where travel is possible in more than one direction (m) Places of special fire hazard 1 9 1 1 18 1 Areas with seating in rows 1 15 1 1 32 1 Areas not listed above 1 18 1 1 45 1\"\n",
    "predicted_labels = test_model(text)  # Assuming test_model returns token-level labels\n",
    "\n",
    "print(predicted_labels)\n",
    "# Tokenize the text\n",
    "inputs = tokenizer(text, padding=True, truncation=True, return_tensors=\"pt\", max_length=512)\n",
    "input_ids = inputs[\"input_ids\"][0]"
   ]
  }
 ],
 "metadata": {
  "accelerator": "GPU",
  "colab": {
   "gpuType": "T4",
   "provenance": []
  },
  "kernelspec": {
   "display_name": "Python 3 (ipykernel)",
   "language": "python",
   "name": "python3"
  },
  "language_info": {
   "codemirror_mode": {
    "name": "ipython",
    "version": 3
   },
   "file_extension": ".py",
   "mimetype": "text/x-python",
   "name": "python",
   "nbconvert_exporter": "python",
   "pygments_lexer": "ipython3",
   "version": "3.10.9"
  },
  "widgets": {
   "application/vnd.jupyter.widget-state+json": {
    "04aa329a547f4ca59ae0afcaa21f03a7": {
     "model_module": "@jupyter-widgets/controls",
     "model_module_version": "1.5.0",
     "model_name": "FloatProgressModel",
     "state": {
      "_dom_classes": [],
      "_model_module": "@jupyter-widgets/controls",
      "_model_module_version": "1.5.0",
      "_model_name": "FloatProgressModel",
      "_view_count": null,
      "_view_module": "@jupyter-widgets/controls",
      "_view_module_version": "1.5.0",
      "_view_name": "ProgressView",
      "bar_style": "success",
      "description": "",
      "description_tooltip": null,
      "layout": "IPY_MODEL_b7948062760144b5a53677768b9c606f",
      "max": 215475882,
      "min": 0,
      "orientation": "horizontal",
      "style": "IPY_MODEL_cade109247184a49be46246684bf05e7",
      "value": 215475882
     }
    },
    "063b009c9d4b4ac7b70e6ef6f9872a0e": {
     "model_module": "@jupyter-widgets/base",
     "model_module_version": "1.2.0",
     "model_name": "LayoutModel",
     "state": {
      "_model_module": "@jupyter-widgets/base",
      "_model_module_version": "1.2.0",
      "_model_name": "LayoutModel",
      "_view_count": null,
      "_view_module": "@jupyter-widgets/base",
      "_view_module_version": "1.2.0",
      "_view_name": "LayoutView",
      "align_content": null,
      "align_items": null,
      "align_self": null,
      "border": null,
      "bottom": null,
      "display": null,
      "flex": null,
      "flex_flow": null,
      "grid_area": null,
      "grid_auto_columns": null,
      "grid_auto_flow": null,
      "grid_auto_rows": null,
      "grid_column": null,
      "grid_gap": null,
      "grid_row": null,
      "grid_template_areas": null,
      "grid_template_columns": null,
      "grid_template_rows": null,
      "height": null,
      "justify_content": null,
      "justify_items": null,
      "left": null,
      "margin": null,
      "max_height": null,
      "max_width": null,
      "min_height": null,
      "min_width": null,
      "object_fit": null,
      "object_position": null,
      "order": null,
      "overflow": null,
      "overflow_x": null,
      "overflow_y": null,
      "padding": null,
      "right": null,
      "top": null,
      "visibility": null,
      "width": null
     }
    },
    "0f58ee2ddab543d2aa4ea3cf90b7b362": {
     "model_module": "@jupyter-widgets/controls",
     "model_module_version": "1.5.0",
     "model_name": "DescriptionStyleModel",
     "state": {
      "_model_module": "@jupyter-widgets/controls",
      "_model_module_version": "1.5.0",
      "_model_name": "DescriptionStyleModel",
      "_view_count": null,
      "_view_module": "@jupyter-widgets/base",
      "_view_module_version": "1.2.0",
      "_view_name": "StyleView",
      "description_width": ""
     }
    },
    "129809fd80264a86b441c93fbe60f125": {
     "model_module": "@jupyter-widgets/base",
     "model_module_version": "1.2.0",
     "model_name": "LayoutModel",
     "state": {
      "_model_module": "@jupyter-widgets/base",
      "_model_module_version": "1.2.0",
      "_model_name": "LayoutModel",
      "_view_count": null,
      "_view_module": "@jupyter-widgets/base",
      "_view_module_version": "1.2.0",
      "_view_name": "LayoutView",
      "align_content": null,
      "align_items": null,
      "align_self": null,
      "border": null,
      "bottom": null,
      "display": null,
      "flex": null,
      "flex_flow": null,
      "grid_area": null,
      "grid_auto_columns": null,
      "grid_auto_flow": null,
      "grid_auto_rows": null,
      "grid_column": null,
      "grid_gap": null,
      "grid_row": null,
      "grid_template_areas": null,
      "grid_template_columns": null,
      "grid_template_rows": null,
      "height": null,
      "justify_content": null,
      "justify_items": null,
      "left": null,
      "margin": null,
      "max_height": null,
      "max_width": null,
      "min_height": null,
      "min_width": null,
      "object_fit": null,
      "object_position": null,
      "order": null,
      "overflow": null,
      "overflow_x": null,
      "overflow_y": null,
      "padding": null,
      "right": null,
      "top": null,
      "visibility": null,
      "width": null
     }
    },
    "2ee80f1d7da848609478fb875a1883f8": {
     "model_module": "@jupyter-widgets/controls",
     "model_module_version": "1.5.0",
     "model_name": "HTMLModel",
     "state": {
      "_dom_classes": [],
      "_model_module": "@jupyter-widgets/controls",
      "_model_module_version": "1.5.0",
      "_model_name": "HTMLModel",
      "_view_count": null,
      "_view_module": "@jupyter-widgets/controls",
      "_view_module_version": "1.5.0",
      "_view_name": "HTMLView",
      "description": "",
      "description_tooltip": null,
      "layout": "IPY_MODEL_525b68b6086043c8a8ca150a4646ef90",
      "placeholder": "​",
      "style": "IPY_MODEL_75d4cfaead934a75ab7e52f3f1766ac9",
      "value": "vocab.txt: 100%"
     }
    },
    "46676b57f831451e9111413f3d478925": {
     "model_module": "@jupyter-widgets/base",
     "model_module_version": "1.2.0",
     "model_name": "LayoutModel",
     "state": {
      "_model_module": "@jupyter-widgets/base",
      "_model_module_version": "1.2.0",
      "_model_name": "LayoutModel",
      "_view_count": null,
      "_view_module": "@jupyter-widgets/base",
      "_view_module_version": "1.2.0",
      "_view_name": "LayoutView",
      "align_content": null,
      "align_items": null,
      "align_self": null,
      "border": null,
      "bottom": null,
      "display": null,
      "flex": null,
      "flex_flow": null,
      "grid_area": null,
      "grid_auto_columns": null,
      "grid_auto_flow": null,
      "grid_auto_rows": null,
      "grid_column": null,
      "grid_gap": null,
      "grid_row": null,
      "grid_template_areas": null,
      "grid_template_columns": null,
      "grid_template_rows": null,
      "height": null,
      "justify_content": null,
      "justify_items": null,
      "left": null,
      "margin": null,
      "max_height": null,
      "max_width": null,
      "min_height": null,
      "min_width": null,
      "object_fit": null,
      "object_position": null,
      "order": null,
      "overflow": null,
      "overflow_x": null,
      "overflow_y": null,
      "padding": null,
      "right": null,
      "top": null,
      "visibility": null,
      "width": null
     }
    },
    "4972457a41da4056b5e47f7617874d2f": {
     "model_module": "@jupyter-widgets/controls",
     "model_module_version": "1.5.0",
     "model_name": "HTMLModel",
     "state": {
      "_dom_classes": [],
      "_model_module": "@jupyter-widgets/controls",
      "_model_module_version": "1.5.0",
      "_model_name": "HTMLModel",
      "_view_count": null,
      "_view_module": "@jupyter-widgets/controls",
      "_view_module_version": "1.5.0",
      "_view_name": "HTMLView",
      "description": "",
      "description_tooltip": null,
      "layout": "IPY_MODEL_7eb6296f35ba4548adbb42141d2e951a",
      "placeholder": "​",
      "style": "IPY_MODEL_d5900f5156fb4ccf9153e9e35adb8070",
      "value": " 413/413 [00:00&lt;00:00, 11.8kB/s]"
     }
    },
    "4b54c2475749477c89fae1d428cd620e": {
     "model_module": "@jupyter-widgets/controls",
     "model_module_version": "1.5.0",
     "model_name": "DescriptionStyleModel",
     "state": {
      "_model_module": "@jupyter-widgets/controls",
      "_model_module_version": "1.5.0",
      "_model_name": "DescriptionStyleModel",
      "_view_count": null,
      "_view_module": "@jupyter-widgets/base",
      "_view_module_version": "1.2.0",
      "_view_name": "StyleView",
      "description_width": ""
     }
    },
    "525b68b6086043c8a8ca150a4646ef90": {
     "model_module": "@jupyter-widgets/base",
     "model_module_version": "1.2.0",
     "model_name": "LayoutModel",
     "state": {
      "_model_module": "@jupyter-widgets/base",
      "_model_module_version": "1.2.0",
      "_model_name": "LayoutModel",
      "_view_count": null,
      "_view_module": "@jupyter-widgets/base",
      "_view_module_version": "1.2.0",
      "_view_name": "LayoutView",
      "align_content": null,
      "align_items": null,
      "align_self": null,
      "border": null,
      "bottom": null,
      "display": null,
      "flex": null,
      "flex_flow": null,
      "grid_area": null,
      "grid_auto_columns": null,
      "grid_auto_flow": null,
      "grid_auto_rows": null,
      "grid_column": null,
      "grid_gap": null,
      "grid_row": null,
      "grid_template_areas": null,
      "grid_template_columns": null,
      "grid_template_rows": null,
      "height": null,
      "justify_content": null,
      "justify_items": null,
      "left": null,
      "margin": null,
      "max_height": null,
      "max_width": null,
      "min_height": null,
      "min_width": null,
      "object_fit": null,
      "object_position": null,
      "order": null,
      "overflow": null,
      "overflow_x": null,
      "overflow_y": null,
      "padding": null,
      "right": null,
      "top": null,
      "visibility": null,
      "width": null
     }
    },
    "53b46fcad8fe4ece82454b946e2dc5e0": {
     "model_module": "@jupyter-widgets/controls",
     "model_module_version": "1.5.0",
     "model_name": "DescriptionStyleModel",
     "state": {
      "_model_module": "@jupyter-widgets/controls",
      "_model_module_version": "1.5.0",
      "_model_name": "DescriptionStyleModel",
      "_view_count": null,
      "_view_module": "@jupyter-widgets/base",
      "_view_module_version": "1.2.0",
      "_view_name": "StyleView",
      "description_width": ""
     }
    },
    "57d53936198c4dfaaac4d63403697ddf": {
     "model_module": "@jupyter-widgets/base",
     "model_module_version": "1.2.0",
     "model_name": "LayoutModel",
     "state": {
      "_model_module": "@jupyter-widgets/base",
      "_model_module_version": "1.2.0",
      "_model_name": "LayoutModel",
      "_view_count": null,
      "_view_module": "@jupyter-widgets/base",
      "_view_module_version": "1.2.0",
      "_view_name": "LayoutView",
      "align_content": null,
      "align_items": null,
      "align_self": null,
      "border": null,
      "bottom": null,
      "display": null,
      "flex": null,
      "flex_flow": null,
      "grid_area": null,
      "grid_auto_columns": null,
      "grid_auto_flow": null,
      "grid_auto_rows": null,
      "grid_column": null,
      "grid_gap": null,
      "grid_row": null,
      "grid_template_areas": null,
      "grid_template_columns": null,
      "grid_template_rows": null,
      "height": null,
      "justify_content": null,
      "justify_items": null,
      "left": null,
      "margin": null,
      "max_height": null,
      "max_width": null,
      "min_height": null,
      "min_width": null,
      "object_fit": null,
      "object_position": null,
      "order": null,
      "overflow": null,
      "overflow_x": null,
      "overflow_y": null,
      "padding": null,
      "right": null,
      "top": null,
      "visibility": null,
      "width": null
     }
    },
    "6954a3fc1c2f4ba99d0bd0cc356dc830": {
     "model_module": "@jupyter-widgets/controls",
     "model_module_version": "1.5.0",
     "model_name": "DescriptionStyleModel",
     "state": {
      "_model_module": "@jupyter-widgets/controls",
      "_model_module_version": "1.5.0",
      "_model_name": "DescriptionStyleModel",
      "_view_count": null,
      "_view_module": "@jupyter-widgets/base",
      "_view_module_version": "1.2.0",
      "_view_name": "StyleView",
      "description_width": ""
     }
    },
    "75d4cfaead934a75ab7e52f3f1766ac9": {
     "model_module": "@jupyter-widgets/controls",
     "model_module_version": "1.5.0",
     "model_name": "DescriptionStyleModel",
     "state": {
      "_model_module": "@jupyter-widgets/controls",
      "_model_module_version": "1.5.0",
      "_model_name": "DescriptionStyleModel",
      "_view_count": null,
      "_view_module": "@jupyter-widgets/base",
      "_view_module_version": "1.2.0",
      "_view_name": "StyleView",
      "description_width": ""
     }
    },
    "7eb6296f35ba4548adbb42141d2e951a": {
     "model_module": "@jupyter-widgets/base",
     "model_module_version": "1.2.0",
     "model_name": "LayoutModel",
     "state": {
      "_model_module": "@jupyter-widgets/base",
      "_model_module_version": "1.2.0",
      "_model_name": "LayoutModel",
      "_view_count": null,
      "_view_module": "@jupyter-widgets/base",
      "_view_module_version": "1.2.0",
      "_view_name": "LayoutView",
      "align_content": null,
      "align_items": null,
      "align_self": null,
      "border": null,
      "bottom": null,
      "display": null,
      "flex": null,
      "flex_flow": null,
      "grid_area": null,
      "grid_auto_columns": null,
      "grid_auto_flow": null,
      "grid_auto_rows": null,
      "grid_column": null,
      "grid_gap": null,
      "grid_row": null,
      "grid_template_areas": null,
      "grid_template_columns": null,
      "grid_template_rows": null,
      "height": null,
      "justify_content": null,
      "justify_items": null,
      "left": null,
      "margin": null,
      "max_height": null,
      "max_width": null,
      "min_height": null,
      "min_width": null,
      "object_fit": null,
      "object_position": null,
      "order": null,
      "overflow": null,
      "overflow_x": null,
      "overflow_y": null,
      "padding": null,
      "right": null,
      "top": null,
      "visibility": null,
      "width": null
     }
    },
    "81b4008e38834e39935c6e5e5b6cf5f3": {
     "model_module": "@jupyter-widgets/controls",
     "model_module_version": "1.5.0",
     "model_name": "HBoxModel",
     "state": {
      "_dom_classes": [],
      "_model_module": "@jupyter-widgets/controls",
      "_model_module_version": "1.5.0",
      "_model_name": "HBoxModel",
      "_view_count": null,
      "_view_module": "@jupyter-widgets/controls",
      "_view_module_version": "1.5.0",
      "_view_name": "HBoxView",
      "box_style": "",
      "children": [
       "IPY_MODEL_f598f661f1d74c29b74eb00d2aac15af",
       "IPY_MODEL_04aa329a547f4ca59ae0afcaa21f03a7",
       "IPY_MODEL_b020ada1595e480daf00bcc9486b0b30"
      ],
      "layout": "IPY_MODEL_8ed8b3e65e8341708c5ef00a9b33da9d"
     }
    },
    "843155f5652f4a6abce27910b3738cb3": {
     "model_module": "@jupyter-widgets/controls",
     "model_module_version": "1.5.0",
     "model_name": "HBoxModel",
     "state": {
      "_dom_classes": [],
      "_model_module": "@jupyter-widgets/controls",
      "_model_module_version": "1.5.0",
      "_model_name": "HBoxModel",
      "_view_count": null,
      "_view_module": "@jupyter-widgets/controls",
      "_view_module_version": "1.5.0",
      "_view_name": "HBoxView",
      "box_style": "",
      "children": [
       "IPY_MODEL_2ee80f1d7da848609478fb875a1883f8",
       "IPY_MODEL_f43ccf27c4624b35870953a5aece9355",
       "IPY_MODEL_9da8c47af257419fa82239575aa8cf1c"
      ],
      "layout": "IPY_MODEL_57d53936198c4dfaaac4d63403697ddf"
     }
    },
    "84e7ef08a81846a79fb79a170fcd55f6": {
     "model_module": "@jupyter-widgets/controls",
     "model_module_version": "1.5.0",
     "model_name": "ProgressStyleModel",
     "state": {
      "_model_module": "@jupyter-widgets/controls",
      "_model_module_version": "1.5.0",
      "_model_name": "ProgressStyleModel",
      "_view_count": null,
      "_view_module": "@jupyter-widgets/base",
      "_view_module_version": "1.2.0",
      "_view_name": "StyleView",
      "bar_color": null,
      "description_width": ""
     }
    },
    "893a018d1ea442b6af8689ee9be9cbe2": {
     "model_module": "@jupyter-widgets/controls",
     "model_module_version": "1.5.0",
     "model_name": "FloatProgressModel",
     "state": {
      "_dom_classes": [],
      "_model_module": "@jupyter-widgets/controls",
      "_model_module_version": "1.5.0",
      "_model_name": "FloatProgressModel",
      "_view_count": null,
      "_view_module": "@jupyter-widgets/controls",
      "_view_module_version": "1.5.0",
      "_view_name": "ProgressView",
      "bar_style": "success",
      "description": "",
      "description_tooltip": null,
      "layout": "IPY_MODEL_f634cf7e36b54aecb9e0b27ffe499370",
      "max": 413,
      "min": 0,
      "orientation": "horizontal",
      "style": "IPY_MODEL_84e7ef08a81846a79fb79a170fcd55f6",
      "value": 413
     }
    },
    "89968ed741d7405a860781727ae2331c": {
     "model_module": "@jupyter-widgets/controls",
     "model_module_version": "1.5.0",
     "model_name": "HTMLModel",
     "state": {
      "_dom_classes": [],
      "_model_module": "@jupyter-widgets/controls",
      "_model_module_version": "1.5.0",
      "_model_name": "HTMLModel",
      "_view_count": null,
      "_view_module": "@jupyter-widgets/controls",
      "_view_module_version": "1.5.0",
      "_view_name": "HTMLView",
      "description": "",
      "description_tooltip": null,
      "layout": "IPY_MODEL_129809fd80264a86b441c93fbe60f125",
      "placeholder": "​",
      "style": "IPY_MODEL_53b46fcad8fe4ece82454b946e2dc5e0",
      "value": "config.json: 100%"
     }
    },
    "8ed8b3e65e8341708c5ef00a9b33da9d": {
     "model_module": "@jupyter-widgets/base",
     "model_module_version": "1.2.0",
     "model_name": "LayoutModel",
     "state": {
      "_model_module": "@jupyter-widgets/base",
      "_model_module_version": "1.2.0",
      "_model_name": "LayoutModel",
      "_view_count": null,
      "_view_module": "@jupyter-widgets/base",
      "_view_module_version": "1.2.0",
      "_view_name": "LayoutView",
      "align_content": null,
      "align_items": null,
      "align_self": null,
      "border": null,
      "bottom": null,
      "display": null,
      "flex": null,
      "flex_flow": null,
      "grid_area": null,
      "grid_auto_columns": null,
      "grid_auto_flow": null,
      "grid_auto_rows": null,
      "grid_column": null,
      "grid_gap": null,
      "grid_row": null,
      "grid_template_areas": null,
      "grid_template_columns": null,
      "grid_template_rows": null,
      "height": null,
      "justify_content": null,
      "justify_items": null,
      "left": null,
      "margin": null,
      "max_height": null,
      "max_width": null,
      "min_height": null,
      "min_width": null,
      "object_fit": null,
      "object_position": null,
      "order": null,
      "overflow": null,
      "overflow_x": null,
      "overflow_y": null,
      "padding": null,
      "right": null,
      "top": null,
      "visibility": null,
      "width": null
     }
    },
    "95a34e018b2d472ca1adcc626ded77e2": {
     "model_module": "@jupyter-widgets/base",
     "model_module_version": "1.2.0",
     "model_name": "LayoutModel",
     "state": {
      "_model_module": "@jupyter-widgets/base",
      "_model_module_version": "1.2.0",
      "_model_name": "LayoutModel",
      "_view_count": null,
      "_view_module": "@jupyter-widgets/base",
      "_view_module_version": "1.2.0",
      "_view_name": "LayoutView",
      "align_content": null,
      "align_items": null,
      "align_self": null,
      "border": null,
      "bottom": null,
      "display": null,
      "flex": null,
      "flex_flow": null,
      "grid_area": null,
      "grid_auto_columns": null,
      "grid_auto_flow": null,
      "grid_auto_rows": null,
      "grid_column": null,
      "grid_gap": null,
      "grid_row": null,
      "grid_template_areas": null,
      "grid_template_columns": null,
      "grid_template_rows": null,
      "height": null,
      "justify_content": null,
      "justify_items": null,
      "left": null,
      "margin": null,
      "max_height": null,
      "max_width": null,
      "min_height": null,
      "min_width": null,
      "object_fit": null,
      "object_position": null,
      "order": null,
      "overflow": null,
      "overflow_x": null,
      "overflow_y": null,
      "padding": null,
      "right": null,
      "top": null,
      "visibility": null,
      "width": null
     }
    },
    "9da8c47af257419fa82239575aa8cf1c": {
     "model_module": "@jupyter-widgets/controls",
     "model_module_version": "1.5.0",
     "model_name": "HTMLModel",
     "state": {
      "_dom_classes": [],
      "_model_module": "@jupyter-widgets/controls",
      "_model_module_version": "1.5.0",
      "_model_name": "HTMLModel",
      "_view_count": null,
      "_view_module": "@jupyter-widgets/controls",
      "_view_module_version": "1.5.0",
      "_view_name": "HTMLView",
      "description": "",
      "description_tooltip": null,
      "layout": "IPY_MODEL_95a34e018b2d472ca1adcc626ded77e2",
      "placeholder": "​",
      "style": "IPY_MODEL_4b54c2475749477c89fae1d428cd620e",
      "value": " 213k/213k [00:00&lt;00:00, 3.76MB/s]"
     }
    },
    "a27797bfe1834fafb708d2ac6c6a69f5": {
     "model_module": "@jupyter-widgets/base",
     "model_module_version": "1.2.0",
     "model_name": "LayoutModel",
     "state": {
      "_model_module": "@jupyter-widgets/base",
      "_model_module_version": "1.2.0",
      "_model_name": "LayoutModel",
      "_view_count": null,
      "_view_module": "@jupyter-widgets/base",
      "_view_module_version": "1.2.0",
      "_view_name": "LayoutView",
      "align_content": null,
      "align_items": null,
      "align_self": null,
      "border": null,
      "bottom": null,
      "display": null,
      "flex": null,
      "flex_flow": null,
      "grid_area": null,
      "grid_auto_columns": null,
      "grid_auto_flow": null,
      "grid_auto_rows": null,
      "grid_column": null,
      "grid_gap": null,
      "grid_row": null,
      "grid_template_areas": null,
      "grid_template_columns": null,
      "grid_template_rows": null,
      "height": null,
      "justify_content": null,
      "justify_items": null,
      "left": null,
      "margin": null,
      "max_height": null,
      "max_width": null,
      "min_height": null,
      "min_width": null,
      "object_fit": null,
      "object_position": null,
      "order": null,
      "overflow": null,
      "overflow_x": null,
      "overflow_y": null,
      "padding": null,
      "right": null,
      "top": null,
      "visibility": null,
      "width": null
     }
    },
    "b020ada1595e480daf00bcc9486b0b30": {
     "model_module": "@jupyter-widgets/controls",
     "model_module_version": "1.5.0",
     "model_name": "HTMLModel",
     "state": {
      "_dom_classes": [],
      "_model_module": "@jupyter-widgets/controls",
      "_model_module_version": "1.5.0",
      "_model_name": "HTMLModel",
      "_view_count": null,
      "_view_module": "@jupyter-widgets/controls",
      "_view_module_version": "1.5.0",
      "_view_name": "HTMLView",
      "description": "",
      "description_tooltip": null,
      "layout": "IPY_MODEL_063b009c9d4b4ac7b70e6ef6f9872a0e",
      "placeholder": "​",
      "style": "IPY_MODEL_6954a3fc1c2f4ba99d0bd0cc356dc830",
      "value": " 215M/215M [00:05&lt;00:00, 44.3MB/s]"
     }
    },
    "b7948062760144b5a53677768b9c606f": {
     "model_module": "@jupyter-widgets/base",
     "model_module_version": "1.2.0",
     "model_name": "LayoutModel",
     "state": {
      "_model_module": "@jupyter-widgets/base",
      "_model_module_version": "1.2.0",
      "_model_name": "LayoutModel",
      "_view_count": null,
      "_view_module": "@jupyter-widgets/base",
      "_view_module_version": "1.2.0",
      "_view_name": "LayoutView",
      "align_content": null,
      "align_items": null,
      "align_self": null,
      "border": null,
      "bottom": null,
      "display": null,
      "flex": null,
      "flex_flow": null,
      "grid_area": null,
      "grid_auto_columns": null,
      "grid_auto_flow": null,
      "grid_auto_rows": null,
      "grid_column": null,
      "grid_gap": null,
      "grid_row": null,
      "grid_template_areas": null,
      "grid_template_columns": null,
      "grid_template_rows": null,
      "height": null,
      "justify_content": null,
      "justify_items": null,
      "left": null,
      "margin": null,
      "max_height": null,
      "max_width": null,
      "min_height": null,
      "min_width": null,
      "object_fit": null,
      "object_position": null,
      "order": null,
      "overflow": null,
      "overflow_x": null,
      "overflow_y": null,
      "padding": null,
      "right": null,
      "top": null,
      "visibility": null,
      "width": null
     }
    },
    "c6e6bf9ff8804ae9a448dfc8a8b9908d": {
     "model_module": "@jupyter-widgets/controls",
     "model_module_version": "1.5.0",
     "model_name": "HBoxModel",
     "state": {
      "_dom_classes": [],
      "_model_module": "@jupyter-widgets/controls",
      "_model_module_version": "1.5.0",
      "_model_name": "HBoxModel",
      "_view_count": null,
      "_view_module": "@jupyter-widgets/controls",
      "_view_module_version": "1.5.0",
      "_view_name": "HBoxView",
      "box_style": "",
      "children": [
       "IPY_MODEL_89968ed741d7405a860781727ae2331c",
       "IPY_MODEL_893a018d1ea442b6af8689ee9be9cbe2",
       "IPY_MODEL_4972457a41da4056b5e47f7617874d2f"
      ],
      "layout": "IPY_MODEL_46676b57f831451e9111413f3d478925"
     }
    },
    "cade109247184a49be46246684bf05e7": {
     "model_module": "@jupyter-widgets/controls",
     "model_module_version": "1.5.0",
     "model_name": "ProgressStyleModel",
     "state": {
      "_model_module": "@jupyter-widgets/controls",
      "_model_module_version": "1.5.0",
      "_model_name": "ProgressStyleModel",
      "_view_count": null,
      "_view_module": "@jupyter-widgets/base",
      "_view_module_version": "1.2.0",
      "_view_name": "StyleView",
      "bar_color": null,
      "description_width": ""
     }
    },
    "d1d0bcd99e4f48f98f6c10db0323118c": {
     "model_module": "@jupyter-widgets/controls",
     "model_module_version": "1.5.0",
     "model_name": "ProgressStyleModel",
     "state": {
      "_model_module": "@jupyter-widgets/controls",
      "_model_module_version": "1.5.0",
      "_model_name": "ProgressStyleModel",
      "_view_count": null,
      "_view_module": "@jupyter-widgets/base",
      "_view_module_version": "1.2.0",
      "_view_name": "StyleView",
      "bar_color": null,
      "description_width": ""
     }
    },
    "d5900f5156fb4ccf9153e9e35adb8070": {
     "model_module": "@jupyter-widgets/controls",
     "model_module_version": "1.5.0",
     "model_name": "DescriptionStyleModel",
     "state": {
      "_model_module": "@jupyter-widgets/controls",
      "_model_module_version": "1.5.0",
      "_model_name": "DescriptionStyleModel",
      "_view_count": null,
      "_view_module": "@jupyter-widgets/base",
      "_view_module_version": "1.2.0",
      "_view_name": "StyleView",
      "description_width": ""
     }
    },
    "db4e4f2e9b8b484197416776e6d8bdea": {
     "model_module": "@jupyter-widgets/base",
     "model_module_version": "1.2.0",
     "model_name": "LayoutModel",
     "state": {
      "_model_module": "@jupyter-widgets/base",
      "_model_module_version": "1.2.0",
      "_model_name": "LayoutModel",
      "_view_count": null,
      "_view_module": "@jupyter-widgets/base",
      "_view_module_version": "1.2.0",
      "_view_name": "LayoutView",
      "align_content": null,
      "align_items": null,
      "align_self": null,
      "border": null,
      "bottom": null,
      "display": null,
      "flex": null,
      "flex_flow": null,
      "grid_area": null,
      "grid_auto_columns": null,
      "grid_auto_flow": null,
      "grid_auto_rows": null,
      "grid_column": null,
      "grid_gap": null,
      "grid_row": null,
      "grid_template_areas": null,
      "grid_template_columns": null,
      "grid_template_rows": null,
      "height": null,
      "justify_content": null,
      "justify_items": null,
      "left": null,
      "margin": null,
      "max_height": null,
      "max_width": null,
      "min_height": null,
      "min_width": null,
      "object_fit": null,
      "object_position": null,
      "order": null,
      "overflow": null,
      "overflow_x": null,
      "overflow_y": null,
      "padding": null,
      "right": null,
      "top": null,
      "visibility": null,
      "width": null
     }
    },
    "f43ccf27c4624b35870953a5aece9355": {
     "model_module": "@jupyter-widgets/controls",
     "model_module_version": "1.5.0",
     "model_name": "FloatProgressModel",
     "state": {
      "_dom_classes": [],
      "_model_module": "@jupyter-widgets/controls",
      "_model_module_version": "1.5.0",
      "_model_name": "FloatProgressModel",
      "_view_count": null,
      "_view_module": "@jupyter-widgets/controls",
      "_view_module_version": "1.5.0",
      "_view_name": "ProgressView",
      "bar_style": "success",
      "description": "",
      "description_tooltip": null,
      "layout": "IPY_MODEL_db4e4f2e9b8b484197416776e6d8bdea",
      "max": 213450,
      "min": 0,
      "orientation": "horizontal",
      "style": "IPY_MODEL_d1d0bcd99e4f48f98f6c10db0323118c",
      "value": 213450
     }
    },
    "f598f661f1d74c29b74eb00d2aac15af": {
     "model_module": "@jupyter-widgets/controls",
     "model_module_version": "1.5.0",
     "model_name": "HTMLModel",
     "state": {
      "_dom_classes": [],
      "_model_module": "@jupyter-widgets/controls",
      "_model_module_version": "1.5.0",
      "_model_name": "HTMLModel",
      "_view_count": null,
      "_view_module": "@jupyter-widgets/controls",
      "_view_module_version": "1.5.0",
      "_view_name": "HTMLView",
      "description": "",
      "description_tooltip": null,
      "layout": "IPY_MODEL_a27797bfe1834fafb708d2ac6c6a69f5",
      "placeholder": "​",
      "style": "IPY_MODEL_0f58ee2ddab543d2aa4ea3cf90b7b362",
      "value": "pytorch_model.bin: 100%"
     }
    },
    "f634cf7e36b54aecb9e0b27ffe499370": {
     "model_module": "@jupyter-widgets/base",
     "model_module_version": "1.2.0",
     "model_name": "LayoutModel",
     "state": {
      "_model_module": "@jupyter-widgets/base",
      "_model_module_version": "1.2.0",
      "_model_name": "LayoutModel",
      "_view_count": null,
      "_view_module": "@jupyter-widgets/base",
      "_view_module_version": "1.2.0",
      "_view_name": "LayoutView",
      "align_content": null,
      "align_items": null,
      "align_self": null,
      "border": null,
      "bottom": null,
      "display": null,
      "flex": null,
      "flex_flow": null,
      "grid_area": null,
      "grid_auto_columns": null,
      "grid_auto_flow": null,
      "grid_auto_rows": null,
      "grid_column": null,
      "grid_gap": null,
      "grid_row": null,
      "grid_template_areas": null,
      "grid_template_columns": null,
      "grid_template_rows": null,
      "height": null,
      "justify_content": null,
      "justify_items": null,
      "left": null,
      "margin": null,
      "max_height": null,
      "max_width": null,
      "min_height": null,
      "min_width": null,
      "object_fit": null,
      "object_position": null,
      "order": null,
      "overflow": null,
      "overflow_x": null,
      "overflow_y": null,
      "padding": null,
      "right": null,
      "top": null,
      "visibility": null,
      "width": null
     }
    }
   }
  }
 },
 "nbformat": 4,
 "nbformat_minor": 1
}
