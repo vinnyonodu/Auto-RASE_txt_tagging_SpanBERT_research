{
  "nbformat": 4,
  "nbformat_minor": 0,
  "metadata": {
    "colab": {
      "provenance": [],
      "gpuType": "T4"
    },
    "kernelspec": {
      "name": "python3",
      "display_name": "Python 3"
    },
    "language_info": {
      "name": "python"
    },
    "accelerator": "GPU",
    "widgets": {
      "application/vnd.jupyter.widget-state+json": {
        "57813b3007d34d07bdd76db8307845fe": {
          "model_module": "@jupyter-widgets/controls",
          "model_name": "HBoxModel",
          "model_module_version": "1.5.0",
          "state": {
            "_dom_classes": [],
            "_model_module": "@jupyter-widgets/controls",
            "_model_module_version": "1.5.0",
            "_model_name": "HBoxModel",
            "_view_count": null,
            "_view_module": "@jupyter-widgets/controls",
            "_view_module_version": "1.5.0",
            "_view_name": "HBoxView",
            "box_style": "",
            "children": [
              "IPY_MODEL_6b97b215662249b5a53eb9bf2cd626d1",
              "IPY_MODEL_819de85e9cf045a0b32d8f0d57eb87a1",
              "IPY_MODEL_13daa05fe1e34a1ca3e97fd43bdc2320"
            ],
            "layout": "IPY_MODEL_0fecf6e8872e4bf49c05dc945beeebb4"
          }
        },
        "6b97b215662249b5a53eb9bf2cd626d1": {
          "model_module": "@jupyter-widgets/controls",
          "model_name": "HTMLModel",
          "model_module_version": "1.5.0",
          "state": {
            "_dom_classes": [],
            "_model_module": "@jupyter-widgets/controls",
            "_model_module_version": "1.5.0",
            "_model_name": "HTMLModel",
            "_view_count": null,
            "_view_module": "@jupyter-widgets/controls",
            "_view_module_version": "1.5.0",
            "_view_name": "HTMLView",
            "description": "",
            "description_tooltip": null,
            "layout": "IPY_MODEL_c67dbd7fdf73419ea107f4fba69dbdf6",
            "placeholder": "​",
            "style": "IPY_MODEL_77c5e9dc67f94c5db4b02392238d32a2",
            "value": "config.json: 100%"
          }
        },
        "819de85e9cf045a0b32d8f0d57eb87a1": {
          "model_module": "@jupyter-widgets/controls",
          "model_name": "FloatProgressModel",
          "model_module_version": "1.5.0",
          "state": {
            "_dom_classes": [],
            "_model_module": "@jupyter-widgets/controls",
            "_model_module_version": "1.5.0",
            "_model_name": "FloatProgressModel",
            "_view_count": null,
            "_view_module": "@jupyter-widgets/controls",
            "_view_module_version": "1.5.0",
            "_view_name": "ProgressView",
            "bar_style": "success",
            "description": "",
            "description_tooltip": null,
            "layout": "IPY_MODEL_168cbfd1f897440e8d603fbbfec7119a",
            "max": 413,
            "min": 0,
            "orientation": "horizontal",
            "style": "IPY_MODEL_eead547702f344e5a000c47f96881788",
            "value": 413
          }
        },
        "13daa05fe1e34a1ca3e97fd43bdc2320": {
          "model_module": "@jupyter-widgets/controls",
          "model_name": "HTMLModel",
          "model_module_version": "1.5.0",
          "state": {
            "_dom_classes": [],
            "_model_module": "@jupyter-widgets/controls",
            "_model_module_version": "1.5.0",
            "_model_name": "HTMLModel",
            "_view_count": null,
            "_view_module": "@jupyter-widgets/controls",
            "_view_module_version": "1.5.0",
            "_view_name": "HTMLView",
            "description": "",
            "description_tooltip": null,
            "layout": "IPY_MODEL_0c1e318cb2e4407aadcc2b01b1c908ce",
            "placeholder": "​",
            "style": "IPY_MODEL_bc77dc9643734b2288dd752422e8400c",
            "value": " 413/413 [00:00&lt;00:00, 20.0kB/s]"
          }
        },
        "0fecf6e8872e4bf49c05dc945beeebb4": {
          "model_module": "@jupyter-widgets/base",
          "model_name": "LayoutModel",
          "model_module_version": "1.2.0",
          "state": {
            "_model_module": "@jupyter-widgets/base",
            "_model_module_version": "1.2.0",
            "_model_name": "LayoutModel",
            "_view_count": null,
            "_view_module": "@jupyter-widgets/base",
            "_view_module_version": "1.2.0",
            "_view_name": "LayoutView",
            "align_content": null,
            "align_items": null,
            "align_self": null,
            "border": null,
            "bottom": null,
            "display": null,
            "flex": null,
            "flex_flow": null,
            "grid_area": null,
            "grid_auto_columns": null,
            "grid_auto_flow": null,
            "grid_auto_rows": null,
            "grid_column": null,
            "grid_gap": null,
            "grid_row": null,
            "grid_template_areas": null,
            "grid_template_columns": null,
            "grid_template_rows": null,
            "height": null,
            "justify_content": null,
            "justify_items": null,
            "left": null,
            "margin": null,
            "max_height": null,
            "max_width": null,
            "min_height": null,
            "min_width": null,
            "object_fit": null,
            "object_position": null,
            "order": null,
            "overflow": null,
            "overflow_x": null,
            "overflow_y": null,
            "padding": null,
            "right": null,
            "top": null,
            "visibility": null,
            "width": null
          }
        },
        "c67dbd7fdf73419ea107f4fba69dbdf6": {
          "model_module": "@jupyter-widgets/base",
          "model_name": "LayoutModel",
          "model_module_version": "1.2.0",
          "state": {
            "_model_module": "@jupyter-widgets/base",
            "_model_module_version": "1.2.0",
            "_model_name": "LayoutModel",
            "_view_count": null,
            "_view_module": "@jupyter-widgets/base",
            "_view_module_version": "1.2.0",
            "_view_name": "LayoutView",
            "align_content": null,
            "align_items": null,
            "align_self": null,
            "border": null,
            "bottom": null,
            "display": null,
            "flex": null,
            "flex_flow": null,
            "grid_area": null,
            "grid_auto_columns": null,
            "grid_auto_flow": null,
            "grid_auto_rows": null,
            "grid_column": null,
            "grid_gap": null,
            "grid_row": null,
            "grid_template_areas": null,
            "grid_template_columns": null,
            "grid_template_rows": null,
            "height": null,
            "justify_content": null,
            "justify_items": null,
            "left": null,
            "margin": null,
            "max_height": null,
            "max_width": null,
            "min_height": null,
            "min_width": null,
            "object_fit": null,
            "object_position": null,
            "order": null,
            "overflow": null,
            "overflow_x": null,
            "overflow_y": null,
            "padding": null,
            "right": null,
            "top": null,
            "visibility": null,
            "width": null
          }
        },
        "77c5e9dc67f94c5db4b02392238d32a2": {
          "model_module": "@jupyter-widgets/controls",
          "model_name": "DescriptionStyleModel",
          "model_module_version": "1.5.0",
          "state": {
            "_model_module": "@jupyter-widgets/controls",
            "_model_module_version": "1.5.0",
            "_model_name": "DescriptionStyleModel",
            "_view_count": null,
            "_view_module": "@jupyter-widgets/base",
            "_view_module_version": "1.2.0",
            "_view_name": "StyleView",
            "description_width": ""
          }
        },
        "168cbfd1f897440e8d603fbbfec7119a": {
          "model_module": "@jupyter-widgets/base",
          "model_name": "LayoutModel",
          "model_module_version": "1.2.0",
          "state": {
            "_model_module": "@jupyter-widgets/base",
            "_model_module_version": "1.2.0",
            "_model_name": "LayoutModel",
            "_view_count": null,
            "_view_module": "@jupyter-widgets/base",
            "_view_module_version": "1.2.0",
            "_view_name": "LayoutView",
            "align_content": null,
            "align_items": null,
            "align_self": null,
            "border": null,
            "bottom": null,
            "display": null,
            "flex": null,
            "flex_flow": null,
            "grid_area": null,
            "grid_auto_columns": null,
            "grid_auto_flow": null,
            "grid_auto_rows": null,
            "grid_column": null,
            "grid_gap": null,
            "grid_row": null,
            "grid_template_areas": null,
            "grid_template_columns": null,
            "grid_template_rows": null,
            "height": null,
            "justify_content": null,
            "justify_items": null,
            "left": null,
            "margin": null,
            "max_height": null,
            "max_width": null,
            "min_height": null,
            "min_width": null,
            "object_fit": null,
            "object_position": null,
            "order": null,
            "overflow": null,
            "overflow_x": null,
            "overflow_y": null,
            "padding": null,
            "right": null,
            "top": null,
            "visibility": null,
            "width": null
          }
        },
        "eead547702f344e5a000c47f96881788": {
          "model_module": "@jupyter-widgets/controls",
          "model_name": "ProgressStyleModel",
          "model_module_version": "1.5.0",
          "state": {
            "_model_module": "@jupyter-widgets/controls",
            "_model_module_version": "1.5.0",
            "_model_name": "ProgressStyleModel",
            "_view_count": null,
            "_view_module": "@jupyter-widgets/base",
            "_view_module_version": "1.2.0",
            "_view_name": "StyleView",
            "bar_color": null,
            "description_width": ""
          }
        },
        "0c1e318cb2e4407aadcc2b01b1c908ce": {
          "model_module": "@jupyter-widgets/base",
          "model_name": "LayoutModel",
          "model_module_version": "1.2.0",
          "state": {
            "_model_module": "@jupyter-widgets/base",
            "_model_module_version": "1.2.0",
            "_model_name": "LayoutModel",
            "_view_count": null,
            "_view_module": "@jupyter-widgets/base",
            "_view_module_version": "1.2.0",
            "_view_name": "LayoutView",
            "align_content": null,
            "align_items": null,
            "align_self": null,
            "border": null,
            "bottom": null,
            "display": null,
            "flex": null,
            "flex_flow": null,
            "grid_area": null,
            "grid_auto_columns": null,
            "grid_auto_flow": null,
            "grid_auto_rows": null,
            "grid_column": null,
            "grid_gap": null,
            "grid_row": null,
            "grid_template_areas": null,
            "grid_template_columns": null,
            "grid_template_rows": null,
            "height": null,
            "justify_content": null,
            "justify_items": null,
            "left": null,
            "margin": null,
            "max_height": null,
            "max_width": null,
            "min_height": null,
            "min_width": null,
            "object_fit": null,
            "object_position": null,
            "order": null,
            "overflow": null,
            "overflow_x": null,
            "overflow_y": null,
            "padding": null,
            "right": null,
            "top": null,
            "visibility": null,
            "width": null
          }
        },
        "bc77dc9643734b2288dd752422e8400c": {
          "model_module": "@jupyter-widgets/controls",
          "model_name": "DescriptionStyleModel",
          "model_module_version": "1.5.0",
          "state": {
            "_model_module": "@jupyter-widgets/controls",
            "_model_module_version": "1.5.0",
            "_model_name": "DescriptionStyleModel",
            "_view_count": null,
            "_view_module": "@jupyter-widgets/base",
            "_view_module_version": "1.2.0",
            "_view_name": "StyleView",
            "description_width": ""
          }
        },
        "46dd3a2cb92d4085ac057c79b94add00": {
          "model_module": "@jupyter-widgets/controls",
          "model_name": "HBoxModel",
          "model_module_version": "1.5.0",
          "state": {
            "_dom_classes": [],
            "_model_module": "@jupyter-widgets/controls",
            "_model_module_version": "1.5.0",
            "_model_name": "HBoxModel",
            "_view_count": null,
            "_view_module": "@jupyter-widgets/controls",
            "_view_module_version": "1.5.0",
            "_view_name": "HBoxView",
            "box_style": "",
            "children": [
              "IPY_MODEL_ffea77e814614d6ea19f1497069bbd30",
              "IPY_MODEL_3a938c784ae44685bddb4f425eb49dfd",
              "IPY_MODEL_1dbfbc9e05a14635818700e8f08dae67"
            ],
            "layout": "IPY_MODEL_f1d953d85c0e461fa9323284173b9250"
          }
        },
        "ffea77e814614d6ea19f1497069bbd30": {
          "model_module": "@jupyter-widgets/controls",
          "model_name": "HTMLModel",
          "model_module_version": "1.5.0",
          "state": {
            "_dom_classes": [],
            "_model_module": "@jupyter-widgets/controls",
            "_model_module_version": "1.5.0",
            "_model_name": "HTMLModel",
            "_view_count": null,
            "_view_module": "@jupyter-widgets/controls",
            "_view_module_version": "1.5.0",
            "_view_name": "HTMLView",
            "description": "",
            "description_tooltip": null,
            "layout": "IPY_MODEL_78ab13f74f04433a8d08f834f5c06e54",
            "placeholder": "​",
            "style": "IPY_MODEL_5a7e69ef8a344894a5298bfd8671c4ae",
            "value": "vocab.txt: 100%"
          }
        },
        "3a938c784ae44685bddb4f425eb49dfd": {
          "model_module": "@jupyter-widgets/controls",
          "model_name": "FloatProgressModel",
          "model_module_version": "1.5.0",
          "state": {
            "_dom_classes": [],
            "_model_module": "@jupyter-widgets/controls",
            "_model_module_version": "1.5.0",
            "_model_name": "FloatProgressModel",
            "_view_count": null,
            "_view_module": "@jupyter-widgets/controls",
            "_view_module_version": "1.5.0",
            "_view_name": "ProgressView",
            "bar_style": "success",
            "description": "",
            "description_tooltip": null,
            "layout": "IPY_MODEL_6e2e075f96314a80ba6b176e74661934",
            "max": 213450,
            "min": 0,
            "orientation": "horizontal",
            "style": "IPY_MODEL_e54b0c3626ee42c7af6f7be4e1fe4e77",
            "value": 213450
          }
        },
        "1dbfbc9e05a14635818700e8f08dae67": {
          "model_module": "@jupyter-widgets/controls",
          "model_name": "HTMLModel",
          "model_module_version": "1.5.0",
          "state": {
            "_dom_classes": [],
            "_model_module": "@jupyter-widgets/controls",
            "_model_module_version": "1.5.0",
            "_model_name": "HTMLModel",
            "_view_count": null,
            "_view_module": "@jupyter-widgets/controls",
            "_view_module_version": "1.5.0",
            "_view_name": "HTMLView",
            "description": "",
            "description_tooltip": null,
            "layout": "IPY_MODEL_4995f7e06ae343c4a0dbac1319264404",
            "placeholder": "​",
            "style": "IPY_MODEL_dff9512d298b436aae22113435bfbef3",
            "value": " 213k/213k [00:00&lt;00:00, 1.76MB/s]"
          }
        },
        "f1d953d85c0e461fa9323284173b9250": {
          "model_module": "@jupyter-widgets/base",
          "model_name": "LayoutModel",
          "model_module_version": "1.2.0",
          "state": {
            "_model_module": "@jupyter-widgets/base",
            "_model_module_version": "1.2.0",
            "_model_name": "LayoutModel",
            "_view_count": null,
            "_view_module": "@jupyter-widgets/base",
            "_view_module_version": "1.2.0",
            "_view_name": "LayoutView",
            "align_content": null,
            "align_items": null,
            "align_self": null,
            "border": null,
            "bottom": null,
            "display": null,
            "flex": null,
            "flex_flow": null,
            "grid_area": null,
            "grid_auto_columns": null,
            "grid_auto_flow": null,
            "grid_auto_rows": null,
            "grid_column": null,
            "grid_gap": null,
            "grid_row": null,
            "grid_template_areas": null,
            "grid_template_columns": null,
            "grid_template_rows": null,
            "height": null,
            "justify_content": null,
            "justify_items": null,
            "left": null,
            "margin": null,
            "max_height": null,
            "max_width": null,
            "min_height": null,
            "min_width": null,
            "object_fit": null,
            "object_position": null,
            "order": null,
            "overflow": null,
            "overflow_x": null,
            "overflow_y": null,
            "padding": null,
            "right": null,
            "top": null,
            "visibility": null,
            "width": null
          }
        },
        "78ab13f74f04433a8d08f834f5c06e54": {
          "model_module": "@jupyter-widgets/base",
          "model_name": "LayoutModel",
          "model_module_version": "1.2.0",
          "state": {
            "_model_module": "@jupyter-widgets/base",
            "_model_module_version": "1.2.0",
            "_model_name": "LayoutModel",
            "_view_count": null,
            "_view_module": "@jupyter-widgets/base",
            "_view_module_version": "1.2.0",
            "_view_name": "LayoutView",
            "align_content": null,
            "align_items": null,
            "align_self": null,
            "border": null,
            "bottom": null,
            "display": null,
            "flex": null,
            "flex_flow": null,
            "grid_area": null,
            "grid_auto_columns": null,
            "grid_auto_flow": null,
            "grid_auto_rows": null,
            "grid_column": null,
            "grid_gap": null,
            "grid_row": null,
            "grid_template_areas": null,
            "grid_template_columns": null,
            "grid_template_rows": null,
            "height": null,
            "justify_content": null,
            "justify_items": null,
            "left": null,
            "margin": null,
            "max_height": null,
            "max_width": null,
            "min_height": null,
            "min_width": null,
            "object_fit": null,
            "object_position": null,
            "order": null,
            "overflow": null,
            "overflow_x": null,
            "overflow_y": null,
            "padding": null,
            "right": null,
            "top": null,
            "visibility": null,
            "width": null
          }
        },
        "5a7e69ef8a344894a5298bfd8671c4ae": {
          "model_module": "@jupyter-widgets/controls",
          "model_name": "DescriptionStyleModel",
          "model_module_version": "1.5.0",
          "state": {
            "_model_module": "@jupyter-widgets/controls",
            "_model_module_version": "1.5.0",
            "_model_name": "DescriptionStyleModel",
            "_view_count": null,
            "_view_module": "@jupyter-widgets/base",
            "_view_module_version": "1.2.0",
            "_view_name": "StyleView",
            "description_width": ""
          }
        },
        "6e2e075f96314a80ba6b176e74661934": {
          "model_module": "@jupyter-widgets/base",
          "model_name": "LayoutModel",
          "model_module_version": "1.2.0",
          "state": {
            "_model_module": "@jupyter-widgets/base",
            "_model_module_version": "1.2.0",
            "_model_name": "LayoutModel",
            "_view_count": null,
            "_view_module": "@jupyter-widgets/base",
            "_view_module_version": "1.2.0",
            "_view_name": "LayoutView",
            "align_content": null,
            "align_items": null,
            "align_self": null,
            "border": null,
            "bottom": null,
            "display": null,
            "flex": null,
            "flex_flow": null,
            "grid_area": null,
            "grid_auto_columns": null,
            "grid_auto_flow": null,
            "grid_auto_rows": null,
            "grid_column": null,
            "grid_gap": null,
            "grid_row": null,
            "grid_template_areas": null,
            "grid_template_columns": null,
            "grid_template_rows": null,
            "height": null,
            "justify_content": null,
            "justify_items": null,
            "left": null,
            "margin": null,
            "max_height": null,
            "max_width": null,
            "min_height": null,
            "min_width": null,
            "object_fit": null,
            "object_position": null,
            "order": null,
            "overflow": null,
            "overflow_x": null,
            "overflow_y": null,
            "padding": null,
            "right": null,
            "top": null,
            "visibility": null,
            "width": null
          }
        },
        "e54b0c3626ee42c7af6f7be4e1fe4e77": {
          "model_module": "@jupyter-widgets/controls",
          "model_name": "ProgressStyleModel",
          "model_module_version": "1.5.0",
          "state": {
            "_model_module": "@jupyter-widgets/controls",
            "_model_module_version": "1.5.0",
            "_model_name": "ProgressStyleModel",
            "_view_count": null,
            "_view_module": "@jupyter-widgets/base",
            "_view_module_version": "1.2.0",
            "_view_name": "StyleView",
            "bar_color": null,
            "description_width": ""
          }
        },
        "4995f7e06ae343c4a0dbac1319264404": {
          "model_module": "@jupyter-widgets/base",
          "model_name": "LayoutModel",
          "model_module_version": "1.2.0",
          "state": {
            "_model_module": "@jupyter-widgets/base",
            "_model_module_version": "1.2.0",
            "_model_name": "LayoutModel",
            "_view_count": null,
            "_view_module": "@jupyter-widgets/base",
            "_view_module_version": "1.2.0",
            "_view_name": "LayoutView",
            "align_content": null,
            "align_items": null,
            "align_self": null,
            "border": null,
            "bottom": null,
            "display": null,
            "flex": null,
            "flex_flow": null,
            "grid_area": null,
            "grid_auto_columns": null,
            "grid_auto_flow": null,
            "grid_auto_rows": null,
            "grid_column": null,
            "grid_gap": null,
            "grid_row": null,
            "grid_template_areas": null,
            "grid_template_columns": null,
            "grid_template_rows": null,
            "height": null,
            "justify_content": null,
            "justify_items": null,
            "left": null,
            "margin": null,
            "max_height": null,
            "max_width": null,
            "min_height": null,
            "min_width": null,
            "object_fit": null,
            "object_position": null,
            "order": null,
            "overflow": null,
            "overflow_x": null,
            "overflow_y": null,
            "padding": null,
            "right": null,
            "top": null,
            "visibility": null,
            "width": null
          }
        },
        "dff9512d298b436aae22113435bfbef3": {
          "model_module": "@jupyter-widgets/controls",
          "model_name": "DescriptionStyleModel",
          "model_module_version": "1.5.0",
          "state": {
            "_model_module": "@jupyter-widgets/controls",
            "_model_module_version": "1.5.0",
            "_model_name": "DescriptionStyleModel",
            "_view_count": null,
            "_view_module": "@jupyter-widgets/base",
            "_view_module_version": "1.2.0",
            "_view_name": "StyleView",
            "description_width": ""
          }
        },
        "4d2b2c619e7945a088260f77579f4e35": {
          "model_module": "@jupyter-widgets/controls",
          "model_name": "HBoxModel",
          "model_module_version": "1.5.0",
          "state": {
            "_dom_classes": [],
            "_model_module": "@jupyter-widgets/controls",
            "_model_module_version": "1.5.0",
            "_model_name": "HBoxModel",
            "_view_count": null,
            "_view_module": "@jupyter-widgets/controls",
            "_view_module_version": "1.5.0",
            "_view_name": "HBoxView",
            "box_style": "",
            "children": [
              "IPY_MODEL_c7058af45bbc415eb85125bd974ef506",
              "IPY_MODEL_a8f48ecccd89426e9c79b370a413b0aa",
              "IPY_MODEL_aab5262292f84c9d81f2a7955b4d588c"
            ],
            "layout": "IPY_MODEL_4fdfbfa616be48bb92aba0ed18b15287"
          }
        },
        "c7058af45bbc415eb85125bd974ef506": {
          "model_module": "@jupyter-widgets/controls",
          "model_name": "HTMLModel",
          "model_module_version": "1.5.0",
          "state": {
            "_dom_classes": [],
            "_model_module": "@jupyter-widgets/controls",
            "_model_module_version": "1.5.0",
            "_model_name": "HTMLModel",
            "_view_count": null,
            "_view_module": "@jupyter-widgets/controls",
            "_view_module_version": "1.5.0",
            "_view_name": "HTMLView",
            "description": "",
            "description_tooltip": null,
            "layout": "IPY_MODEL_aa338072ea4646489065a9759c71d906",
            "placeholder": "​",
            "style": "IPY_MODEL_fafdf90e51844a209b364ef7fd9f7f6d",
            "value": "pytorch_model.bin: 100%"
          }
        },
        "a8f48ecccd89426e9c79b370a413b0aa": {
          "model_module": "@jupyter-widgets/controls",
          "model_name": "FloatProgressModel",
          "model_module_version": "1.5.0",
          "state": {
            "_dom_classes": [],
            "_model_module": "@jupyter-widgets/controls",
            "_model_module_version": "1.5.0",
            "_model_name": "FloatProgressModel",
            "_view_count": null,
            "_view_module": "@jupyter-widgets/controls",
            "_view_module_version": "1.5.0",
            "_view_name": "ProgressView",
            "bar_style": "success",
            "description": "",
            "description_tooltip": null,
            "layout": "IPY_MODEL_4d314f7ba3884a968e3d152fdc66b748",
            "max": 215475882,
            "min": 0,
            "orientation": "horizontal",
            "style": "IPY_MODEL_2af798b87a9d4c1c95d2dec9523cfa7e",
            "value": 215475882
          }
        },
        "aab5262292f84c9d81f2a7955b4d588c": {
          "model_module": "@jupyter-widgets/controls",
          "model_name": "HTMLModel",
          "model_module_version": "1.5.0",
          "state": {
            "_dom_classes": [],
            "_model_module": "@jupyter-widgets/controls",
            "_model_module_version": "1.5.0",
            "_model_name": "HTMLModel",
            "_view_count": null,
            "_view_module": "@jupyter-widgets/controls",
            "_view_module_version": "1.5.0",
            "_view_name": "HTMLView",
            "description": "",
            "description_tooltip": null,
            "layout": "IPY_MODEL_8ca08d050d3a4bb988b735e641faee68",
            "placeholder": "​",
            "style": "IPY_MODEL_037fb77913f1426f856d3249913ba632",
            "value": " 215M/215M [00:01&lt;00:00, 181MB/s]"
          }
        },
        "4fdfbfa616be48bb92aba0ed18b15287": {
          "model_module": "@jupyter-widgets/base",
          "model_name": "LayoutModel",
          "model_module_version": "1.2.0",
          "state": {
            "_model_module": "@jupyter-widgets/base",
            "_model_module_version": "1.2.0",
            "_model_name": "LayoutModel",
            "_view_count": null,
            "_view_module": "@jupyter-widgets/base",
            "_view_module_version": "1.2.0",
            "_view_name": "LayoutView",
            "align_content": null,
            "align_items": null,
            "align_self": null,
            "border": null,
            "bottom": null,
            "display": null,
            "flex": null,
            "flex_flow": null,
            "grid_area": null,
            "grid_auto_columns": null,
            "grid_auto_flow": null,
            "grid_auto_rows": null,
            "grid_column": null,
            "grid_gap": null,
            "grid_row": null,
            "grid_template_areas": null,
            "grid_template_columns": null,
            "grid_template_rows": null,
            "height": null,
            "justify_content": null,
            "justify_items": null,
            "left": null,
            "margin": null,
            "max_height": null,
            "max_width": null,
            "min_height": null,
            "min_width": null,
            "object_fit": null,
            "object_position": null,
            "order": null,
            "overflow": null,
            "overflow_x": null,
            "overflow_y": null,
            "padding": null,
            "right": null,
            "top": null,
            "visibility": null,
            "width": null
          }
        },
        "aa338072ea4646489065a9759c71d906": {
          "model_module": "@jupyter-widgets/base",
          "model_name": "LayoutModel",
          "model_module_version": "1.2.0",
          "state": {
            "_model_module": "@jupyter-widgets/base",
            "_model_module_version": "1.2.0",
            "_model_name": "LayoutModel",
            "_view_count": null,
            "_view_module": "@jupyter-widgets/base",
            "_view_module_version": "1.2.0",
            "_view_name": "LayoutView",
            "align_content": null,
            "align_items": null,
            "align_self": null,
            "border": null,
            "bottom": null,
            "display": null,
            "flex": null,
            "flex_flow": null,
            "grid_area": null,
            "grid_auto_columns": null,
            "grid_auto_flow": null,
            "grid_auto_rows": null,
            "grid_column": null,
            "grid_gap": null,
            "grid_row": null,
            "grid_template_areas": null,
            "grid_template_columns": null,
            "grid_template_rows": null,
            "height": null,
            "justify_content": null,
            "justify_items": null,
            "left": null,
            "margin": null,
            "max_height": null,
            "max_width": null,
            "min_height": null,
            "min_width": null,
            "object_fit": null,
            "object_position": null,
            "order": null,
            "overflow": null,
            "overflow_x": null,
            "overflow_y": null,
            "padding": null,
            "right": null,
            "top": null,
            "visibility": null,
            "width": null
          }
        },
        "fafdf90e51844a209b364ef7fd9f7f6d": {
          "model_module": "@jupyter-widgets/controls",
          "model_name": "DescriptionStyleModel",
          "model_module_version": "1.5.0",
          "state": {
            "_model_module": "@jupyter-widgets/controls",
            "_model_module_version": "1.5.0",
            "_model_name": "DescriptionStyleModel",
            "_view_count": null,
            "_view_module": "@jupyter-widgets/base",
            "_view_module_version": "1.2.0",
            "_view_name": "StyleView",
            "description_width": ""
          }
        },
        "4d314f7ba3884a968e3d152fdc66b748": {
          "model_module": "@jupyter-widgets/base",
          "model_name": "LayoutModel",
          "model_module_version": "1.2.0",
          "state": {
            "_model_module": "@jupyter-widgets/base",
            "_model_module_version": "1.2.0",
            "_model_name": "LayoutModel",
            "_view_count": null,
            "_view_module": "@jupyter-widgets/base",
            "_view_module_version": "1.2.0",
            "_view_name": "LayoutView",
            "align_content": null,
            "align_items": null,
            "align_self": null,
            "border": null,
            "bottom": null,
            "display": null,
            "flex": null,
            "flex_flow": null,
            "grid_area": null,
            "grid_auto_columns": null,
            "grid_auto_flow": null,
            "grid_auto_rows": null,
            "grid_column": null,
            "grid_gap": null,
            "grid_row": null,
            "grid_template_areas": null,
            "grid_template_columns": null,
            "grid_template_rows": null,
            "height": null,
            "justify_content": null,
            "justify_items": null,
            "left": null,
            "margin": null,
            "max_height": null,
            "max_width": null,
            "min_height": null,
            "min_width": null,
            "object_fit": null,
            "object_position": null,
            "order": null,
            "overflow": null,
            "overflow_x": null,
            "overflow_y": null,
            "padding": null,
            "right": null,
            "top": null,
            "visibility": null,
            "width": null
          }
        },
        "2af798b87a9d4c1c95d2dec9523cfa7e": {
          "model_module": "@jupyter-widgets/controls",
          "model_name": "ProgressStyleModel",
          "model_module_version": "1.5.0",
          "state": {
            "_model_module": "@jupyter-widgets/controls",
            "_model_module_version": "1.5.0",
            "_model_name": "ProgressStyleModel",
            "_view_count": null,
            "_view_module": "@jupyter-widgets/base",
            "_view_module_version": "1.2.0",
            "_view_name": "StyleView",
            "bar_color": null,
            "description_width": ""
          }
        },
        "8ca08d050d3a4bb988b735e641faee68": {
          "model_module": "@jupyter-widgets/base",
          "model_name": "LayoutModel",
          "model_module_version": "1.2.0",
          "state": {
            "_model_module": "@jupyter-widgets/base",
            "_model_module_version": "1.2.0",
            "_model_name": "LayoutModel",
            "_view_count": null,
            "_view_module": "@jupyter-widgets/base",
            "_view_module_version": "1.2.0",
            "_view_name": "LayoutView",
            "align_content": null,
            "align_items": null,
            "align_self": null,
            "border": null,
            "bottom": null,
            "display": null,
            "flex": null,
            "flex_flow": null,
            "grid_area": null,
            "grid_auto_columns": null,
            "grid_auto_flow": null,
            "grid_auto_rows": null,
            "grid_column": null,
            "grid_gap": null,
            "grid_row": null,
            "grid_template_areas": null,
            "grid_template_columns": null,
            "grid_template_rows": null,
            "height": null,
            "justify_content": null,
            "justify_items": null,
            "left": null,
            "margin": null,
            "max_height": null,
            "max_width": null,
            "min_height": null,
            "min_width": null,
            "object_fit": null,
            "object_position": null,
            "order": null,
            "overflow": null,
            "overflow_x": null,
            "overflow_y": null,
            "padding": null,
            "right": null,
            "top": null,
            "visibility": null,
            "width": null
          }
        },
        "037fb77913f1426f856d3249913ba632": {
          "model_module": "@jupyter-widgets/controls",
          "model_name": "DescriptionStyleModel",
          "model_module_version": "1.5.0",
          "state": {
            "_model_module": "@jupyter-widgets/controls",
            "_model_module_version": "1.5.0",
            "_model_name": "DescriptionStyleModel",
            "_view_count": null,
            "_view_module": "@jupyter-widgets/base",
            "_view_module_version": "1.2.0",
            "_view_name": "StyleView",
            "description_width": ""
          }
        }
      }
    }
  },
  "cells": [
    {
      "cell_type": "markdown",
      "source": [
        "# Read dataset"
      ],
      "metadata": {
        "id": "t5SJUP5BnsBP"
      }
    },
    {
      "cell_type": "markdown",
      "source": [
        "# Install necessary modules"
      ],
      "metadata": {
        "id": "89QaLwLmn3m3"
      }
    },
    {
      "cell_type": "code",
      "source": [
        "!pip install transformers torch"
      ],
      "metadata": {
        "colab": {
          "base_uri": "https://localhost:8080/"
        },
        "id": "LMcn4ZFo0qtI",
        "outputId": "20b6c677-9025-4552-acfe-ce998e9fa9b4",
        "ExecuteTime": {
          "end_time": "2023-12-11T21:56:22.142055Z",
          "start_time": "2023-12-11T21:56:20.509235Z"
        }
      },
      "execution_count": null,
      "outputs": [
        {
          "output_type": "stream",
          "name": "stdout",
          "text": [
            "Requirement already satisfied: transformers in /usr/local/lib/python3.10/dist-packages (4.35.2)\n",
            "Requirement already satisfied: torch in /usr/local/lib/python3.10/dist-packages (2.1.0+cu118)\n",
            "Requirement already satisfied: filelock in /usr/local/lib/python3.10/dist-packages (from transformers) (3.13.1)\n",
            "Requirement already satisfied: huggingface-hub<1.0,>=0.16.4 in /usr/local/lib/python3.10/dist-packages (from transformers) (0.19.4)\n",
            "Requirement already satisfied: numpy>=1.17 in /usr/local/lib/python3.10/dist-packages (from transformers) (1.23.5)\n",
            "Requirement already satisfied: packaging>=20.0 in /usr/local/lib/python3.10/dist-packages (from transformers) (23.2)\n",
            "Requirement already satisfied: pyyaml>=5.1 in /usr/local/lib/python3.10/dist-packages (from transformers) (6.0.1)\n",
            "Requirement already satisfied: regex!=2019.12.17 in /usr/local/lib/python3.10/dist-packages (from transformers) (2023.6.3)\n",
            "Requirement already satisfied: requests in /usr/local/lib/python3.10/dist-packages (from transformers) (2.31.0)\n",
            "Requirement already satisfied: tokenizers<0.19,>=0.14 in /usr/local/lib/python3.10/dist-packages (from transformers) (0.15.0)\n",
            "Requirement already satisfied: safetensors>=0.3.1 in /usr/local/lib/python3.10/dist-packages (from transformers) (0.4.1)\n",
            "Requirement already satisfied: tqdm>=4.27 in /usr/local/lib/python3.10/dist-packages (from transformers) (4.66.1)\n",
            "Requirement already satisfied: typing-extensions in /usr/local/lib/python3.10/dist-packages (from torch) (4.5.0)\n",
            "Requirement already satisfied: sympy in /usr/local/lib/python3.10/dist-packages (from torch) (1.12)\n",
            "Requirement already satisfied: networkx in /usr/local/lib/python3.10/dist-packages (from torch) (3.2.1)\n",
            "Requirement already satisfied: jinja2 in /usr/local/lib/python3.10/dist-packages (from torch) (3.1.2)\n",
            "Requirement already satisfied: fsspec in /usr/local/lib/python3.10/dist-packages (from torch) (2023.6.0)\n",
            "Requirement already satisfied: triton==2.1.0 in /usr/local/lib/python3.10/dist-packages (from torch) (2.1.0)\n",
            "Requirement already satisfied: MarkupSafe>=2.0 in /usr/local/lib/python3.10/dist-packages (from jinja2->torch) (2.1.3)\n",
            "Requirement already satisfied: charset-normalizer<4,>=2 in /usr/local/lib/python3.10/dist-packages (from requests->transformers) (3.3.2)\n",
            "Requirement already satisfied: idna<4,>=2.5 in /usr/local/lib/python3.10/dist-packages (from requests->transformers) (3.6)\n",
            "Requirement already satisfied: urllib3<3,>=1.21.1 in /usr/local/lib/python3.10/dist-packages (from requests->transformers) (2.0.7)\n",
            "Requirement already satisfied: certifi>=2017.4.17 in /usr/local/lib/python3.10/dist-packages (from requests->transformers) (2023.11.17)\n",
            "Requirement already satisfied: mpmath>=0.19 in /usr/local/lib/python3.10/dist-packages (from sympy->torch) (1.3.0)\n"
          ]
        }
      ]
    },
    {
      "cell_type": "markdown",
      "source": [
        "# Prepare pytorch's dataset"
      ],
      "metadata": {
        "id": "ySqc1g0Vn700"
      }
    },
    {
      "cell_type": "code",
      "source": [
        "from transformers import AutoTokenizer\n",
        "import json\n",
        "\n",
        "# Load the tokenizer\n",
        "tokenizer = AutoTokenizer.from_pretrained(\"SpanBERT/spanbert-base-cased\")\n",
        "\n",
        "with open('data.json') as json_file:\n",
        "    dataset = json.load(json_file)\n",
        "\n",
        "output = []\n",
        "for data_point in dataset:\n",
        "    tokens = data_point['tokens']\n",
        "    labels = data_point['labels']\n",
        "\n",
        "    # replace, start, inside, and end with their actual values\n",
        "\n",
        "    for i, label in enumerate(labels):\n",
        "        end = label.split(\"-\")\n",
        "        if len(end) == 2:\n",
        "            labels[i] = end[1]\n",
        "        else:\n",
        "            labels[i] = end[0]\n",
        "\n",
        "    tokenized_tokens = []\n",
        "    tokenized_labels = []\n",
        "    tokenized_attention_mask = []\n",
        "\n",
        "    for i, token in enumerate(tokens):\n",
        "        tokenized_token = tokenizer(token.split(), is_split_into_words=True)\n",
        "        tokenized_label = [labels[i]] * len(tokenized_token[\"input_ids\"])\n",
        "\n",
        "        tokenized_tokens.extend(tokenized_token[\"input_ids\"])\n",
        "        tokenized_labels.extend(tokenized_label)\n",
        "        tokenized_attention_mask.extend(tokenized_token[\"attention_mask\"])\n",
        "\n",
        "    output.append({\"tokens\": tokenized_tokens, \"labels\": tokenized_labels, \"attention_mask\": tokenized_attention_mask})\n",
        "\n",
        "\n",
        "def chunk_and_pad(output):\n",
        "    all_json = []\n",
        "    for data_point in output:\n",
        "        tokens = data_point[\"tokens\"]\n",
        "\n",
        "        labels = data_point[\"labels\"]\n",
        "        attention_mask = data_point[\"attention_mask\"]\n",
        "\n",
        "        chunked_tokens = []\n",
        "        chunked_labels = []\n",
        "        chunked_attention_mask = []\n",
        "\n",
        "        for i in range(0, len(tokens), 512):\n",
        "            chunked_tokens.append(tokens[i:i + 512])\n",
        "            chunked_labels.append(labels[i:i + 512])\n",
        "            chunked_attention_mask.append(attention_mask[i:i + 512])\n",
        "\n",
        "        for i in range(len(chunked_tokens)):\n",
        "            chunked_tokens[i] = chunked_tokens[i] + [0] * (512 - len(chunked_tokens[i]))\n",
        "            chunked_labels[i] = chunked_labels[i] + [\"O\"] * (512 - len(chunked_labels[i]))\n",
        "            chunked_attention_mask[i] = chunked_attention_mask[i] + [0] * (512 - len(chunked_attention_mask[i]))\n",
        "\n",
        "        print(len(chunked_tokens[0]))\n",
        "\n",
        "        for i in range(len(chunked_tokens)):\n",
        "            all_json.append(\n",
        "                {\"tokens\": chunked_tokens[i], \"labels\": chunked_labels[i], \"attention_mask\": chunked_attention_mask[i]})\n",
        "\n",
        "    return all_json\n",
        "\n",
        "\n",
        "all_json = chunk_and_pad(output)"
      ],
      "metadata": {
        "colab": {
          "base_uri": "https://localhost:8080/",
          "height": 474,
          "referenced_widgets": [
            "57813b3007d34d07bdd76db8307845fe",
            "6b97b215662249b5a53eb9bf2cd626d1",
            "819de85e9cf045a0b32d8f0d57eb87a1",
            "13daa05fe1e34a1ca3e97fd43bdc2320",
            "0fecf6e8872e4bf49c05dc945beeebb4",
            "c67dbd7fdf73419ea107f4fba69dbdf6",
            "77c5e9dc67f94c5db4b02392238d32a2",
            "168cbfd1f897440e8d603fbbfec7119a",
            "eead547702f344e5a000c47f96881788",
            "0c1e318cb2e4407aadcc2b01b1c908ce",
            "bc77dc9643734b2288dd752422e8400c",
            "46dd3a2cb92d4085ac057c79b94add00",
            "ffea77e814614d6ea19f1497069bbd30",
            "3a938c784ae44685bddb4f425eb49dfd",
            "1dbfbc9e05a14635818700e8f08dae67",
            "f1d953d85c0e461fa9323284173b9250",
            "78ab13f74f04433a8d08f834f5c06e54",
            "5a7e69ef8a344894a5298bfd8671c4ae",
            "6e2e075f96314a80ba6b176e74661934",
            "e54b0c3626ee42c7af6f7be4e1fe4e77",
            "4995f7e06ae343c4a0dbac1319264404",
            "dff9512d298b436aae22113435bfbef3"
          ]
        },
        "id": "VpLdDoGdap2t",
        "outputId": "24fbc75f-da32-4aec-963c-77481b1e5bd9",
        "ExecuteTime": {
          "end_time": "2023-12-11T21:56:23.623221Z",
          "start_time": "2023-12-11T21:56:22.149512Z"
        }
      },
      "execution_count": null,
      "outputs": [
        {
          "output_type": "display_data",
          "data": {
            "text/plain": [
              "config.json:   0%|          | 0.00/413 [00:00<?, ?B/s]"
            ],
            "application/vnd.jupyter.widget-view+json": {
              "version_major": 2,
              "version_minor": 0,
              "model_id": "57813b3007d34d07bdd76db8307845fe"
            }
          },
          "metadata": {}
        },
        {
          "output_type": "display_data",
          "data": {
            "text/plain": [
              "vocab.txt:   0%|          | 0.00/213k [00:00<?, ?B/s]"
            ],
            "application/vnd.jupyter.widget-view+json": {
              "version_major": 2,
              "version_minor": 0,
              "model_id": "46dd3a2cb92d4085ac057c79b94add00"
            }
          },
          "metadata": {}
        },
        {
          "output_type": "stream",
          "name": "stdout",
          "text": [
            "512\n",
            "512\n",
            "512\n",
            "512\n",
            "512\n",
            "512\n",
            "512\n",
            "512\n",
            "512\n",
            "512\n",
            "512\n",
            "512\n",
            "512\n",
            "512\n",
            "512\n",
            "512\n",
            "512\n",
            "512\n",
            "512\n",
            "512\n",
            "512\n",
            "512\n"
          ]
        }
      ]
    },
    {
      "cell_type": "code",
      "source": [
        "print(len(all_json))"
      ],
      "metadata": {
        "colab": {
          "base_uri": "https://localhost:8080/"
        },
        "id": "XtqXos8hgfqu",
        "outputId": "3dcf0f64-1570-496f-bbb3-08302b0e858d",
        "ExecuteTime": {
          "end_time": "2023-12-11T21:56:23.623548Z",
          "start_time": "2023-12-11T21:56:23.620064Z"
        }
      },
      "execution_count": null,
      "outputs": [
        {
          "output_type": "stream",
          "name": "stdout",
          "text": [
            "143\n"
          ]
        }
      ]
    },
    {
      "cell_type": "code",
      "source": [
        "from torch import nn\n",
        "import torch\n",
        "from torch.utils.data import Dataset\n",
        "\n",
        "\n",
        "class NERDataset(Dataset):\n",
        "    def __init__(self, data, tokenizer, label_to_id):\n",
        "        self.data = data\n",
        "        self.tokenizer = tokenizer\n",
        "        self.label_to_id = label_to_id\n",
        "\n",
        "    def __len__(self):\n",
        "        return len(self.data)\n",
        "\n",
        "    def chunk_list(self, lst, chunk_size):\n",
        "        \"\"\"Yield successive chunks of size chunk_size from lst.\"\"\"\n",
        "        for i in range(0, len(lst), chunk_size):\n",
        "            yield lst[i:i + chunk_size]\n",
        "\n",
        "    def __getitem__(self, idx):\n",
        "        item = self.data[idx]\n",
        "\n",
        "        # Convert labels to IDs\n",
        "        label_ids = [self.label_to_id.get(label, 0) for label in item['labels']]\n",
        "        # Ensure label_ids length matches input_ids length\n",
        "\n",
        "        return {\n",
        "            \"input_ids\": torch.tensor(item[\"tokens\"]),\n",
        "            \"attention_mask\": torch.tensor(item[\"attention_mask\"]),\n",
        "            \"labels\": torch.LongTensor(label_ids)\n",
        "        }\n",
        "\n",
        "\n",
        "label_to_id = {'Requirement': 0, 'Exception': 1, 'Selection': 2,\n",
        "               'Application': 3}\n",
        "\n",
        "# Initialize the dataset\n",
        "ner_dataset = NERDataset(all_json, tokenizer, label_to_id)"
      ],
      "metadata": {
        "id": "KYuR7qpY0twc",
        "ExecuteTime": {
          "end_time": "2023-12-11T21:56:23.629176Z",
          "start_time": "2023-12-11T21:56:23.624613Z"
        }
      },
      "execution_count": null,
      "outputs": []
    },
    {
      "cell_type": "code",
      "source": [
        "print(ner_dataset[0][\"labels\"])"
      ],
      "metadata": {
        "colab": {
          "base_uri": "https://localhost:8080/"
        },
        "id": "_HIpvbfciNEk",
        "outputId": "34feeb2c-460f-4a69-c639-c51b9c570b6d",
        "ExecuteTime": {
          "end_time": "2023-12-11T21:56:23.634677Z",
          "start_time": "2023-12-11T21:56:23.626914Z"
        }
      },
      "execution_count": null,
      "outputs": [
        {
          "output_type": "stream",
          "name": "stdout",
          "text": [
            "tensor([0, 0, 0, 0, 0, 0, 0, 0, 0, 0, 0, 0, 0, 0, 0, 0, 0, 0, 0, 0, 0, 0, 0, 0,\n",
            "        0, 0, 0, 0, 0, 0, 0, 0, 0, 0, 0, 0, 0, 0, 0, 0, 0, 0, 0, 0, 0, 0, 0, 0,\n",
            "        0, 0, 0, 0, 0, 0, 0, 0, 0, 0, 0, 0, 0, 0, 0, 0, 0, 0, 0, 0, 0, 3, 3, 3,\n",
            "        3, 3, 3, 3, 3, 3, 3, 3, 3, 3, 3, 3, 3, 3, 3, 3, 3, 3, 3, 3, 3, 3, 3, 3,\n",
            "        3, 3, 3, 0, 0, 0, 0, 0, 0, 1, 1, 1, 0, 0, 0, 1, 1, 1, 1, 1, 1, 0, 0, 0,\n",
            "        1, 1, 1, 3, 3, 3, 0, 0, 0, 0, 0, 0, 1, 1, 1, 0, 0, 0, 1, 1, 1, 1, 1, 1,\n",
            "        0, 0, 0, 1, 1, 1, 3, 3, 3, 0, 0, 0, 0, 0, 0, 0, 1, 1, 1, 0, 0, 0, 1, 1,\n",
            "        1, 1, 1, 1, 0, 0, 0, 1, 1, 1, 0, 0, 0, 0, 3, 3, 3, 3, 3, 3, 3, 3, 3, 3,\n",
            "        3, 3, 3, 3, 3, 1, 1, 1, 0, 0, 0, 1, 1, 1, 0, 0, 0, 0, 0, 0, 0, 0, 0, 0,\n",
            "        0, 0, 0, 0, 0, 0, 0, 0, 0, 0, 0, 0, 0, 0, 0, 0, 0, 0, 0, 0, 0, 0, 0, 0,\n",
            "        0, 0, 0, 0, 0, 0, 0, 0, 0, 0, 0, 0, 0, 0, 0, 0, 0, 0, 0, 0, 0, 0, 0, 0,\n",
            "        0, 0, 0, 0, 0, 0, 0, 0, 0, 0, 0, 0, 0, 0, 0, 0, 0, 0, 0, 0, 0, 0, 0, 0,\n",
            "        0, 0, 0, 0, 0, 0, 0, 0, 0, 0, 0, 0, 0, 0, 0, 0, 0, 0, 0, 0, 0, 0, 0, 0,\n",
            "        0, 0, 0, 0, 0, 0, 0, 0, 0, 0, 0, 0, 0, 0, 0, 0, 0, 0, 0, 0, 0, 0, 0, 0,\n",
            "        0, 0, 0, 0, 0, 0, 0, 0, 0, 0, 0, 0, 0, 0, 0, 0, 0, 0, 0, 0, 0, 0, 0, 0,\n",
            "        0, 0, 0, 0, 0, 0, 0, 0, 0, 0, 0, 0, 0, 0, 0, 0, 0, 0, 0, 0, 0, 0, 0, 0,\n",
            "        0, 0, 0, 0, 0, 0, 0, 0, 0, 0, 0, 0, 0, 0, 0, 0, 0, 3, 3, 3, 2, 2, 2, 2,\n",
            "        2, 2, 2, 2, 2, 3, 3, 3, 0, 0, 0, 3, 3, 3, 3, 3, 3, 0, 0, 0, 3, 3, 3, 3,\n",
            "        3, 0, 0, 0, 0, 0, 0, 0, 0, 0, 0, 0, 0, 0, 0, 0, 0, 0, 0, 0, 0, 0, 0, 0,\n",
            "        0, 0, 0, 0, 0, 0, 0, 0, 0, 0, 0, 0, 0, 0, 0, 0, 0, 0, 0, 0, 0, 0, 0, 0,\n",
            "        0, 0, 0, 0, 0, 0, 0, 0, 0, 0, 0, 0, 0, 0, 0, 0, 0, 0, 0, 0, 0, 0, 0, 0,\n",
            "        0, 0, 0, 0, 0, 0, 0, 0])\n"
          ]
        }
      ]
    },
    {
      "cell_type": "markdown",
      "source": [
        "# Train, Validate and Save best model"
      ],
      "metadata": {
        "id": "qquu6ugJoEEB"
      }
    },
    {
      "cell_type": "code",
      "execution_count": null,
      "outputs": [
        {
          "output_type": "stream",
          "name": "stdout",
          "text": [
            "Requirement already satisfied: scikit-learn in /usr/local/lib/python3.10/dist-packages (1.2.2)\n",
            "Requirement already satisfied: numpy>=1.17.3 in /usr/local/lib/python3.10/dist-packages (from scikit-learn) (1.23.5)\n",
            "Requirement already satisfied: scipy>=1.3.2 in /usr/local/lib/python3.10/dist-packages (from scikit-learn) (1.11.4)\n",
            "Requirement already satisfied: joblib>=1.1.1 in /usr/local/lib/python3.10/dist-packages (from scikit-learn) (1.3.2)\n",
            "Requirement already satisfied: threadpoolctl>=2.0.0 in /usr/local/lib/python3.10/dist-packages (from scikit-learn) (3.2.0)\n"
          ]
        }
      ],
      "source": [
        "!pip install scikit-learn"
      ],
      "metadata": {
        "ExecuteTime": {
          "end_time": "2023-12-11T21:56:24.836681Z",
          "start_time": "2023-12-11T21:56:23.631891Z"
        },
        "colab": {
          "base_uri": "https://localhost:8080/"
        },
        "id": "JR_r09sG7Tyr",
        "outputId": "bf2415f7-4138-4570-dfc1-a3643c1d5ec7"
      }
    },
    {
      "cell_type": "code",
      "source": [
        "import torch\n",
        "from torch.utils.data import DataLoader, random_split\n",
        "from torch.optim.lr_scheduler import ReduceLROnPlateau\n",
        "from transformers import AutoModelForTokenClassification, AutoTokenizer, AdamW\n",
        "from tqdm import tqdm\n",
        "from sklearn.metrics import precision_score, recall_score, f1_score, accuracy_score\n",
        "\n",
        "\n",
        "# Parameters\n",
        "num_labels = len(label_to_id)  # Number of labels in your dataset\n",
        "model_name = \"SpanBERT/spanbert-base-cased\"\n",
        "\n",
        "# Model and Tokenizer Initialization\n",
        "model = AutoModelForTokenClassification.from_pretrained(model_name, num_labels=num_labels)\n",
        "tokenizer = AutoTokenizer.from_pretrained(model_name)\n",
        "\n",
        "# Dataset and DataLoader\n",
        "dataset_size = len(ner_dataset)\n",
        "train_size = int(0.8 * dataset_size)  # 80% for training\n",
        "val_size = dataset_size - train_size  # 20% for validation\n",
        "train_dataset, val_dataset = random_split(ner_dataset, [train_size, val_size])\n",
        "\n",
        "# Create DataLoader for validation set\n",
        "val_loader = DataLoader(val_dataset, batch_size=8, shuffle=False)\n",
        "train_loader = DataLoader(train_dataset, batch_size=8, shuffle=False)\n",
        "\n",
        "# Optimizer\n",
        "optimizer = AdamW(model.parameters(), lr=2e-5)\n",
        "\n",
        "# Learning Rate Scheduler\n",
        "scheduler = ReduceLROnPlateau(optimizer, mode='min', factor=0.1, patience=10)\n",
        "\n",
        "# Early Stopping\n",
        "early_stopping_patience = 30\n",
        "early_stopping_counter = 0\n",
        "best_loss = float('inf')\n",
        "\n",
        "# Move model to GPU if available\n",
        "device = torch.device(\"cuda\" if torch.cuda.is_available() else \"cpu\")\n",
        "model.to(device)\n",
        "\n",
        "train_losses = []\n",
        "train_accuracies = []\n",
        "train_precisions = []\n",
        "train_f1s = []\n",
        "train_recalls = []\n",
        "\n",
        "val_losses = []\n",
        "val_accuracies = []\n",
        "val_precisions = []\n",
        "val_f1s = []\n",
        "val_recalls = []\n",
        "\n",
        "# Training Loop\n",
        "model.train()\n",
        "for epoch in range(500):  # Adjust the number of epochs as needed\n",
        "    total_loss = 0\n",
        "    all_predictions = []\n",
        "    all_labels = []\n",
        "\n",
        "    id_to_label = {v: k for k, v in label_to_id.items()}\n",
        "    accuracy_per_entity_type = {label: [] for label in id_to_label.values()}\n",
        "\n",
        "    for batch in tqdm(train_loader, desc=f\"Training Epoch {epoch+1}\"):\n",
        "        input_ids = batch['input_ids'].to(device)\n",
        "        attention_mask = batch['attention_mask'].to(device)\n",
        "        labels = batch['labels'].to(device)\n",
        "\n",
        "        # Forward pass\n",
        "        outputs = model(input_ids, attention_mask=attention_mask, labels=labels)\n",
        "        loss = outputs.loss\n",
        "        logits = outputs.logits\n",
        "\n",
        "        # Backward pass\n",
        "        optimizer.zero_grad()\n",
        "        loss.backward()\n",
        "        optimizer.step()\n",
        "\n",
        "        # Convert logits to predictions\n",
        "        predictions = torch.argmax(logits, dim=2)\n",
        "        all_predictions.extend(predictions.view(-1).cpu().numpy())\n",
        "        all_labels.extend(labels.view(-1).cpu().numpy())\n",
        "\n",
        "        total_loss += loss.item()\n",
        "\n",
        "\n",
        "    average_loss = total_loss / len(train_loader)\n",
        "\n",
        "    train_accuracy = accuracy_score(all_labels, all_predictions)\n",
        "    train_precision = precision_score(all_labels, all_predictions, average='weighted')\n",
        "    train_recall = recall_score(all_labels, all_predictions, average='weighted')\n",
        "    train_f1 = f1_score(all_labels, all_predictions, average='weighted')\n",
        "\n",
        "    train_losses.append(average_loss)\n",
        "    train_accuracies.append(train_accuracy)\n",
        "    train_precisions.append(train_precision)\n",
        "    train_f1s.append(train_f1)\n",
        "    train_recalls.append(train_recall)\n",
        "\n",
        "    print(f\"Epoch {epoch+1}: Train: Loss = {average_loss}, Accuracy = {train_accuracy}, Precision = {train_precision}, Recall = {train_recall}, F1 = {train_f1}\")\n",
        "\n",
        "  # Validation\n",
        "    model.eval()\n",
        "    total_val_loss = 0\n",
        "    all_val_predictions = []\n",
        "    all_val_labels = []\n",
        "    with torch.no_grad():\n",
        "        for val_batch in tqdm(val_loader, desc=f\"Validation Epoch {epoch+1}\"):\n",
        "            input_ids = val_batch['input_ids'].to(device)\n",
        "            attention_mask = val_batch['attention_mask'].to(device)\n",
        "            labels = val_batch['labels'].to(device)\n",
        "\n",
        "            # Forward pass\n",
        "            outputs = model(input_ids, attention_mask=attention_mask, labels=labels)\n",
        "            loss = outputs.loss\n",
        "            logits = outputs.logits\n",
        "\n",
        "            # Convert logits to predictions\n",
        "            val_predictions = torch.argmax(logits, dim=2)\n",
        "            all_val_predictions.extend(val_predictions.view(-1).cpu().numpy())\n",
        "            all_val_labels.extend(labels.view(-1).cpu().numpy())\n",
        "\n",
        "            total_val_loss += loss.item()\n",
        "\n",
        "    average_val_loss = total_val_loss / len(val_loader)\n",
        "    val_accuracy = accuracy_score(all_val_labels, all_val_predictions)\n",
        "\n",
        "    val_precision = precision_score(all_val_labels, all_val_predictions, average='weighted')\n",
        "    val_recall = recall_score(all_val_labels, all_val_predictions, average='weighted')\n",
        "    val_f1 = f1_score(all_val_labels, all_val_predictions, average='weighted')\n",
        "\n",
        "    val_losses.append(average_val_loss)\n",
        "    val_accuracies.append(val_accuracy)\n",
        "    val_precisions.append(val_precision)\n",
        "    val_f1s.append(val_f1)\n",
        "    val_recalls.append(val_recall)\n",
        "\n",
        "    print(f\"Epoch {epoch+1}: Validation: Loss = {average_val_loss}, Accuracy = {val_accuracy}, Precision = {val_precision}, Recall = {val_recall}, F1 = {val_f1}\")\n",
        "    # Reduce LR on plateau\n",
        "    scheduler.step(average_val_loss)\n",
        "\n",
        "    # Early Stopping\n",
        "    if average_val_loss < best_loss:\n",
        "        print(f\"Val loss improved from {best_loss} to {average_val_loss}\")\n",
        "        best_loss = average_val_loss\n",
        "        early_stopping_counter = 0\n",
        "\n",
        "        torch.save(model.state_dict(), 'best_model_state_dict.pt')\n",
        "    else:\n",
        "        print(\"Val loss did not improve\")\n",
        "        early_stopping_counter += 1\n",
        "        if early_stopping_counter >= early_stopping_patience:\n",
        "            print(\"Early stopping triggered\")\n",
        "            break\n",
        "    print()"
      ],
      "metadata": {
        "colab": {
          "base_uri": "https://localhost:8080/",
          "height": 1000,
          "referenced_widgets": [
            "4d2b2c619e7945a088260f77579f4e35",
            "c7058af45bbc415eb85125bd974ef506",
            "a8f48ecccd89426e9c79b370a413b0aa",
            "aab5262292f84c9d81f2a7955b4d588c",
            "4fdfbfa616be48bb92aba0ed18b15287",
            "aa338072ea4646489065a9759c71d906",
            "fafdf90e51844a209b364ef7fd9f7f6d",
            "4d314f7ba3884a968e3d152fdc66b748",
            "2af798b87a9d4c1c95d2dec9523cfa7e",
            "8ca08d050d3a4bb988b735e641faee68",
            "037fb77913f1426f856d3249913ba632"
          ]
        },
        "id": "Lb97vc3JnrJY",
        "outputId": "572609c6-3e41-4731-ca3b-37040e9064b8",
        "ExecuteTime": {
          "end_time": "2023-12-11T22:08:34.972398Z",
          "start_time": "2023-12-11T21:56:24.837152Z"
        }
      },
      "execution_count": null,
      "outputs": [
        {
          "output_type": "display_data",
          "data": {
            "text/plain": [
              "pytorch_model.bin:   0%|          | 0.00/215M [00:00<?, ?B/s]"
            ],
            "application/vnd.jupyter.widget-view+json": {
              "version_major": 2,
              "version_minor": 0,
              "model_id": "4d2b2c619e7945a088260f77579f4e35"
            }
          },
          "metadata": {}
        },
        {
          "output_type": "stream",
          "name": "stderr",
          "text": [
            "Some weights of BertForTokenClassification were not initialized from the model checkpoint at SpanBERT/spanbert-base-cased and are newly initialized: ['classifier.weight', 'classifier.bias']\n",
            "You should probably TRAIN this model on a down-stream task to be able to use it for predictions and inference.\n",
            "/usr/local/lib/python3.10/dist-packages/transformers/optimization.py:411: FutureWarning: This implementation of AdamW is deprecated and will be removed in a future version. Use the PyTorch implementation torch.optim.AdamW instead, or set `no_deprecation_warning=True` to disable this warning\n",
            "  warnings.warn(\n",
            "Training Epoch 1: 100%|██████████| 15/15 [00:13<00:00,  1.10it/s]\n"
          ]
        },
        {
          "output_type": "stream",
          "name": "stdout",
          "text": [
            "Epoch 1: Train: Loss = 0.9769272843996684, Accuracy = 0.7478241502192983, Precision = 0.6114156022390314, Recall = 0.7478241502192983, F1 = 0.6461507431243034\n"
          ]
        },
        {
          "output_type": "stream",
          "name": "stderr",
          "text": [
            "Validation Epoch 1: 100%|██████████| 4/4 [00:00<00:00,  4.85it/s]\n",
            "/usr/local/lib/python3.10/dist-packages/sklearn/metrics/_classification.py:1344: UndefinedMetricWarning: Precision is ill-defined and being set to 0.0 in labels with no predicted samples. Use `zero_division` parameter to control this behavior.\n",
            "  _warn_prf(average, modifier, msg_start, len(result))\n"
          ]
        },
        {
          "output_type": "stream",
          "name": "stdout",
          "text": [
            "Epoch 1: Validation: Loss = 0.7915014624595642, Accuracy = 0.7685883620689655, Precision = 0.5907280703078552, Recall = 0.7685883620689655, F1 = 0.6680221163694618\n",
            "Val loss improved from inf to 0.7915014624595642\n",
            "\n"
          ]
        },
        {
          "output_type": "stream",
          "name": "stderr",
          "text": [
            "Training Epoch 2: 100%|██████████| 15/15 [00:09<00:00,  1.55it/s]\n",
            "/usr/local/lib/python3.10/dist-packages/sklearn/metrics/_classification.py:1344: UndefinedMetricWarning: Precision is ill-defined and being set to 0.0 in labels with no predicted samples. Use `zero_division` parameter to control this behavior.\n",
            "  _warn_prf(average, modifier, msg_start, len(result))\n"
          ]
        },
        {
          "output_type": "stream",
          "name": "stdout",
          "text": [
            "Epoch 2: Train: Loss = 0.7633750319480896, Accuracy = 0.7535978618421053, Precision = 0.5679097373729929, Recall = 0.7535978618421053, F1 = 0.6477080632117327\n"
          ]
        },
        {
          "output_type": "stream",
          "name": "stderr",
          "text": [
            "Validation Epoch 2: 100%|██████████| 4/4 [00:00<00:00,  4.78it/s]\n",
            "/usr/local/lib/python3.10/dist-packages/sklearn/metrics/_classification.py:1344: UndefinedMetricWarning: Precision is ill-defined and being set to 0.0 in labels with no predicted samples. Use `zero_division` parameter to control this behavior.\n",
            "  _warn_prf(average, modifier, msg_start, len(result))\n"
          ]
        },
        {
          "output_type": "stream",
          "name": "stdout",
          "text": [
            "Epoch 2: Validation: Loss = 0.7478862404823303, Accuracy = 0.7685883620689655, Precision = 0.5907280703078552, Recall = 0.7685883620689655, F1 = 0.6680221163694618\n",
            "Val loss improved from 0.7915014624595642 to 0.7478862404823303\n",
            "\n"
          ]
        },
        {
          "output_type": "stream",
          "name": "stderr",
          "text": [
            "Training Epoch 3: 100%|██████████| 15/15 [00:09<00:00,  1.53it/s]\n",
            "/usr/local/lib/python3.10/dist-packages/sklearn/metrics/_classification.py:1344: UndefinedMetricWarning: Precision is ill-defined and being set to 0.0 in labels with no predicted samples. Use `zero_division` parameter to control this behavior.\n",
            "  _warn_prf(average, modifier, msg_start, len(result))\n"
          ]
        },
        {
          "output_type": "stream",
          "name": "stdout",
          "text": [
            "Epoch 3: Train: Loss = 0.7376412133375804, Accuracy = 0.7535978618421053, Precision = 0.5679097373729929, Recall = 0.7535978618421053, F1 = 0.6477080632117327\n"
          ]
        },
        {
          "output_type": "stream",
          "name": "stderr",
          "text": [
            "Validation Epoch 3: 100%|██████████| 4/4 [00:00<00:00,  4.75it/s]\n",
            "/usr/local/lib/python3.10/dist-packages/sklearn/metrics/_classification.py:1344: UndefinedMetricWarning: Precision is ill-defined and being set to 0.0 in labels with no predicted samples. Use `zero_division` parameter to control this behavior.\n",
            "  _warn_prf(average, modifier, msg_start, len(result))\n"
          ]
        },
        {
          "output_type": "stream",
          "name": "stdout",
          "text": [
            "Epoch 3: Validation: Loss = 0.7379955053329468, Accuracy = 0.7685883620689655, Precision = 0.5907280703078552, Recall = 0.7685883620689655, F1 = 0.6680221163694618\n",
            "Val loss improved from 0.7478862404823303 to 0.7379955053329468\n",
            "\n"
          ]
        },
        {
          "output_type": "stream",
          "name": "stderr",
          "text": [
            "Training Epoch 4: 100%|██████████| 15/15 [00:09<00:00,  1.52it/s]\n",
            "/usr/local/lib/python3.10/dist-packages/sklearn/metrics/_classification.py:1344: UndefinedMetricWarning: Precision is ill-defined and being set to 0.0 in labels with no predicted samples. Use `zero_division` parameter to control this behavior.\n",
            "  _warn_prf(average, modifier, msg_start, len(result))\n"
          ]
        },
        {
          "output_type": "stream",
          "name": "stdout",
          "text": [
            "Epoch 4: Train: Loss = 0.7279649635155996, Accuracy = 0.7535978618421053, Precision = 0.5679097373729929, Recall = 0.7535978618421053, F1 = 0.6477080632117327\n"
          ]
        },
        {
          "output_type": "stream",
          "name": "stderr",
          "text": [
            "Validation Epoch 4: 100%|██████████| 4/4 [00:00<00:00,  4.73it/s]\n",
            "/usr/local/lib/python3.10/dist-packages/sklearn/metrics/_classification.py:1344: UndefinedMetricWarning: Precision is ill-defined and being set to 0.0 in labels with no predicted samples. Use `zero_division` parameter to control this behavior.\n",
            "  _warn_prf(average, modifier, msg_start, len(result))\n"
          ]
        },
        {
          "output_type": "stream",
          "name": "stdout",
          "text": [
            "Epoch 4: Validation: Loss = 0.7332735955715179, Accuracy = 0.7685883620689655, Precision = 0.5907280703078552, Recall = 0.7685883620689655, F1 = 0.6680221163694618\n",
            "Val loss improved from 0.7379955053329468 to 0.7332735955715179\n",
            "\n"
          ]
        },
        {
          "output_type": "stream",
          "name": "stderr",
          "text": [
            "Training Epoch 5: 100%|██████████| 15/15 [00:10<00:00,  1.50it/s]\n",
            "/usr/local/lib/python3.10/dist-packages/sklearn/metrics/_classification.py:1344: UndefinedMetricWarning: Precision is ill-defined and being set to 0.0 in labels with no predicted samples. Use `zero_division` parameter to control this behavior.\n",
            "  _warn_prf(average, modifier, msg_start, len(result))\n"
          ]
        },
        {
          "output_type": "stream",
          "name": "stdout",
          "text": [
            "Epoch 5: Train: Loss = 0.7167819122473399, Accuracy = 0.7535978618421053, Precision = 0.5679097373729929, Recall = 0.7535978618421053, F1 = 0.6477080632117327\n"
          ]
        },
        {
          "output_type": "stream",
          "name": "stderr",
          "text": [
            "Validation Epoch 5: 100%|██████████| 4/4 [00:00<00:00,  4.66it/s]\n",
            "/usr/local/lib/python3.10/dist-packages/sklearn/metrics/_classification.py:1344: UndefinedMetricWarning: Precision is ill-defined and being set to 0.0 in labels with no predicted samples. Use `zero_division` parameter to control this behavior.\n",
            "  _warn_prf(average, modifier, msg_start, len(result))\n"
          ]
        },
        {
          "output_type": "stream",
          "name": "stdout",
          "text": [
            "Epoch 5: Validation: Loss = 0.7300056219100952, Accuracy = 0.7685883620689655, Precision = 0.5907280703078552, Recall = 0.7685883620689655, F1 = 0.6680221163694618\n",
            "Val loss improved from 0.7332735955715179 to 0.7300056219100952\n",
            "\n"
          ]
        },
        {
          "output_type": "stream",
          "name": "stderr",
          "text": [
            "Training Epoch 6: 100%|██████████| 15/15 [00:10<00:00,  1.48it/s]\n",
            "/usr/local/lib/python3.10/dist-packages/sklearn/metrics/_classification.py:1344: UndefinedMetricWarning: Precision is ill-defined and being set to 0.0 in labels with no predicted samples. Use `zero_division` parameter to control this behavior.\n",
            "  _warn_prf(average, modifier, msg_start, len(result))\n"
          ]
        },
        {
          "output_type": "stream",
          "name": "stdout",
          "text": [
            "Epoch 6: Train: Loss = 0.6946520805358887, Accuracy = 0.7535978618421053, Precision = 0.5679097373729929, Recall = 0.7535978618421053, F1 = 0.6477080632117327\n"
          ]
        },
        {
          "output_type": "stream",
          "name": "stderr",
          "text": [
            "Validation Epoch 6: 100%|██████████| 4/4 [00:00<00:00,  4.58it/s]\n",
            "/usr/local/lib/python3.10/dist-packages/sklearn/metrics/_classification.py:1344: UndefinedMetricWarning: Precision is ill-defined and being set to 0.0 in labels with no predicted samples. Use `zero_division` parameter to control this behavior.\n",
            "  _warn_prf(average, modifier, msg_start, len(result))\n"
          ]
        },
        {
          "output_type": "stream",
          "name": "stdout",
          "text": [
            "Epoch 6: Validation: Loss = 0.7341107726097107, Accuracy = 0.7685883620689655, Precision = 0.5907280703078552, Recall = 0.7685883620689655, F1 = 0.6680221163694618\n",
            "Val loss did not improve\n",
            "\n"
          ]
        },
        {
          "output_type": "stream",
          "name": "stderr",
          "text": [
            "Training Epoch 7: 100%|██████████| 15/15 [00:10<00:00,  1.47it/s]\n",
            "/usr/local/lib/python3.10/dist-packages/sklearn/metrics/_classification.py:1344: UndefinedMetricWarning: Precision is ill-defined and being set to 0.0 in labels with no predicted samples. Use `zero_division` parameter to control this behavior.\n",
            "  _warn_prf(average, modifier, msg_start, len(result))\n"
          ]
        },
        {
          "output_type": "stream",
          "name": "stdout",
          "text": [
            "Epoch 7: Train: Loss = 0.6818730552991231, Accuracy = 0.7576925712719298, Precision = 0.7189751443242387, Recall = 0.7576925712719298, F1 = 0.6592738132815257\n"
          ]
        },
        {
          "output_type": "stream",
          "name": "stderr",
          "text": [
            "Validation Epoch 7: 100%|██████████| 4/4 [00:00<00:00,  4.48it/s]\n",
            "/usr/local/lib/python3.10/dist-packages/sklearn/metrics/_classification.py:1344: UndefinedMetricWarning: Precision is ill-defined and being set to 0.0 in labels with no predicted samples. Use `zero_division` parameter to control this behavior.\n",
            "  _warn_prf(average, modifier, msg_start, len(result))\n"
          ]
        },
        {
          "output_type": "stream",
          "name": "stdout",
          "text": [
            "Epoch 7: Validation: Loss = 0.7300959825515747, Accuracy = 0.7685883620689655, Precision = 0.5907280703078552, Recall = 0.7685883620689655, F1 = 0.6680221163694618\n",
            "Val loss did not improve\n",
            "\n"
          ]
        },
        {
          "output_type": "stream",
          "name": "stderr",
          "text": [
            "Training Epoch 8: 100%|██████████| 15/15 [00:10<00:00,  1.45it/s]\n",
            "/usr/local/lib/python3.10/dist-packages/sklearn/metrics/_classification.py:1344: UndefinedMetricWarning: Precision is ill-defined and being set to 0.0 in labels with no predicted samples. Use `zero_division` parameter to control this behavior.\n",
            "  _warn_prf(average, modifier, msg_start, len(result))\n"
          ]
        },
        {
          "output_type": "stream",
          "name": "stdout",
          "text": [
            "Epoch 8: Train: Loss = 0.6411112030347188, Accuracy = 0.7712102521929824, Precision = 0.6949210503577025, Recall = 0.7712102521929824, F1 = 0.7014019164883839\n"
          ]
        },
        {
          "output_type": "stream",
          "name": "stderr",
          "text": [
            "Validation Epoch 8: 100%|██████████| 4/4 [00:00<00:00,  4.42it/s]\n",
            "/usr/local/lib/python3.10/dist-packages/sklearn/metrics/_classification.py:1344: UndefinedMetricWarning: Precision is ill-defined and being set to 0.0 in labels with no predicted samples. Use `zero_division` parameter to control this behavior.\n",
            "  _warn_prf(average, modifier, msg_start, len(result))\n"
          ]
        },
        {
          "output_type": "stream",
          "name": "stdout",
          "text": [
            "Epoch 8: Validation: Loss = 0.7994720935821533, Accuracy = 0.7019127155172413, Precision = 0.6837498786746581, Recall = 0.7019127155172413, F1 = 0.6904889187567244\n",
            "Val loss did not improve\n",
            "\n"
          ]
        },
        {
          "output_type": "stream",
          "name": "stderr",
          "text": [
            "Training Epoch 9: 100%|██████████| 15/15 [00:10<00:00,  1.42it/s]\n",
            "/usr/local/lib/python3.10/dist-packages/sklearn/metrics/_classification.py:1344: UndefinedMetricWarning: Precision is ill-defined and being set to 0.0 in labels with no predicted samples. Use `zero_division` parameter to control this behavior.\n",
            "  _warn_prf(average, modifier, msg_start, len(result))\n"
          ]
        },
        {
          "output_type": "stream",
          "name": "stdout",
          "text": [
            "Epoch 9: Train: Loss = 0.637609992424647, Accuracy = 0.7758018092105263, Precision = 0.7049637751909019, Recall = 0.7758018092105263, F1 = 0.7244689455895016\n"
          ]
        },
        {
          "output_type": "stream",
          "name": "stderr",
          "text": [
            "Validation Epoch 9: 100%|██████████| 4/4 [00:00<00:00,  4.28it/s]\n",
            "/usr/local/lib/python3.10/dist-packages/sklearn/metrics/_classification.py:1344: UndefinedMetricWarning: Precision is ill-defined and being set to 0.0 in labels with no predicted samples. Use `zero_division` parameter to control this behavior.\n",
            "  _warn_prf(average, modifier, msg_start, len(result))\n"
          ]
        },
        {
          "output_type": "stream",
          "name": "stdout",
          "text": [
            "Epoch 9: Validation: Loss = 0.8871480077505112, Accuracy = 0.5756330818965517, Precision = 0.6587685145634639, Recall = 0.5756330818965517, F1 = 0.5980497431179388\n",
            "Val loss did not improve\n",
            "\n"
          ]
        },
        {
          "output_type": "stream",
          "name": "stderr",
          "text": [
            "Training Epoch 10: 100%|██████████| 15/15 [00:10<00:00,  1.41it/s]\n",
            "/usr/local/lib/python3.10/dist-packages/sklearn/metrics/_classification.py:1344: UndefinedMetricWarning: Precision is ill-defined and being set to 0.0 in labels with no predicted samples. Use `zero_division` parameter to control this behavior.\n",
            "  _warn_prf(average, modifier, msg_start, len(result))\n"
          ]
        },
        {
          "output_type": "stream",
          "name": "stdout",
          "text": [
            "Epoch 10: Train: Loss = 0.6216702004273732, Accuracy = 0.7789542214912281, Precision = 0.7089597372669793, Recall = 0.7789542214912281, F1 = 0.7365211963874515\n"
          ]
        },
        {
          "output_type": "stream",
          "name": "stderr",
          "text": [
            "Validation Epoch 10: 100%|██████████| 4/4 [00:00<00:00,  4.35it/s]\n",
            "/usr/local/lib/python3.10/dist-packages/sklearn/metrics/_classification.py:1344: UndefinedMetricWarning: Precision is ill-defined and being set to 0.0 in labels with no predicted samples. Use `zero_division` parameter to control this behavior.\n",
            "  _warn_prf(average, modifier, msg_start, len(result))\n"
          ]
        },
        {
          "output_type": "stream",
          "name": "stdout",
          "text": [
            "Epoch 10: Validation: Loss = 0.8152648061513901, Accuracy = 0.6270878232758621, Precision = 0.6739677970249724, Recall = 0.6270878232758621, F1 = 0.6398071176552439\n",
            "Val loss did not improve\n",
            "\n"
          ]
        },
        {
          "output_type": "stream",
          "name": "stderr",
          "text": [
            "Training Epoch 11: 100%|██████████| 15/15 [00:10<00:00,  1.44it/s]\n",
            "/usr/local/lib/python3.10/dist-packages/sklearn/metrics/_classification.py:1344: UndefinedMetricWarning: Precision is ill-defined and being set to 0.0 in labels with no predicted samples. Use `zero_division` parameter to control this behavior.\n",
            "  _warn_prf(average, modifier, msg_start, len(result))\n"
          ]
        },
        {
          "output_type": "stream",
          "name": "stdout",
          "text": [
            "Epoch 11: Train: Loss = 0.6813553929328918, Accuracy = 0.739514802631579, Precision = 0.6711563608759518, Recall = 0.739514802631579, F1 = 0.7012007370730151\n"
          ]
        },
        {
          "output_type": "stream",
          "name": "stderr",
          "text": [
            "Validation Epoch 11: 100%|██████████| 4/4 [00:00<00:00,  4.43it/s]\n",
            "/usr/local/lib/python3.10/dist-packages/sklearn/metrics/_classification.py:1344: UndefinedMetricWarning: Precision is ill-defined and being set to 0.0 in labels with no predicted samples. Use `zero_division` parameter to control this behavior.\n",
            "  _warn_prf(average, modifier, msg_start, len(result))\n"
          ]
        },
        {
          "output_type": "stream",
          "name": "stdout",
          "text": [
            "Epoch 11: Validation: Loss = 0.715218260884285, Accuracy = 0.7685883620689655, Precision = 0.5907280703078552, Recall = 0.7685883620689655, F1 = 0.6680221163694618\n",
            "Val loss improved from 0.7300056219100952 to 0.715218260884285\n",
            "\n"
          ]
        },
        {
          "output_type": "stream",
          "name": "stderr",
          "text": [
            "Training Epoch 12: 100%|██████████| 15/15 [00:10<00:00,  1.45it/s]\n",
            "/usr/local/lib/python3.10/dist-packages/sklearn/metrics/_classification.py:1344: UndefinedMetricWarning: Precision is ill-defined and being set to 0.0 in labels with no predicted samples. Use `zero_division` parameter to control this behavior.\n",
            "  _warn_prf(average, modifier, msg_start, len(result))\n"
          ]
        },
        {
          "output_type": "stream",
          "name": "stdout",
          "text": [
            "Epoch 12: Train: Loss = 0.63682568470637, Accuracy = 0.7607935855263158, Precision = 0.6587591726487096, Recall = 0.7607935855263158, F1 = 0.6707487675507704\n"
          ]
        },
        {
          "output_type": "stream",
          "name": "stderr",
          "text": [
            "Validation Epoch 12: 100%|██████████| 4/4 [00:00<00:00,  4.40it/s]\n",
            "/usr/local/lib/python3.10/dist-packages/sklearn/metrics/_classification.py:1344: UndefinedMetricWarning: Precision is ill-defined and being set to 0.0 in labels with no predicted samples. Use `zero_division` parameter to control this behavior.\n",
            "  _warn_prf(average, modifier, msg_start, len(result))\n"
          ]
        },
        {
          "output_type": "stream",
          "name": "stdout",
          "text": [
            "Epoch 12: Validation: Loss = 0.7218987569212914, Accuracy = 0.7685883620689655, Precision = 0.5907280703078552, Recall = 0.7685883620689655, F1 = 0.6680221163694618\n",
            "Val loss did not improve\n",
            "\n"
          ]
        },
        {
          "output_type": "stream",
          "name": "stderr",
          "text": [
            "Training Epoch 13: 100%|██████████| 15/15 [00:10<00:00,  1.45it/s]\n",
            "/usr/local/lib/python3.10/dist-packages/sklearn/metrics/_classification.py:1344: UndefinedMetricWarning: Precision is ill-defined and being set to 0.0 in labels with no predicted samples. Use `zero_division` parameter to control this behavior.\n",
            "  _warn_prf(average, modifier, msg_start, len(result))\n"
          ]
        },
        {
          "output_type": "stream",
          "name": "stdout",
          "text": [
            "Epoch 13: Train: Loss = 0.5761321385701498, Accuracy = 0.7943564967105263, Precision = 0.7676556042101755, Recall = 0.7943564967105263, F1 = 0.7511877760602622\n"
          ]
        },
        {
          "output_type": "stream",
          "name": "stderr",
          "text": [
            "Validation Epoch 13: 100%|██████████| 4/4 [00:00<00:00,  4.48it/s]\n",
            "/usr/local/lib/python3.10/dist-packages/sklearn/metrics/_classification.py:1344: UndefinedMetricWarning: Precision is ill-defined and being set to 0.0 in labels with no predicted samples. Use `zero_division` parameter to control this behavior.\n",
            "  _warn_prf(average, modifier, msg_start, len(result))\n"
          ]
        },
        {
          "output_type": "stream",
          "name": "stdout",
          "text": [
            "Epoch 13: Validation: Loss = 0.7246921062469482, Accuracy = 0.7644127155172413, Precision = 0.6637425472482579, Recall = 0.7644127155172413, F1 = 0.6906156963369902\n",
            "Val loss did not improve\n",
            "\n"
          ]
        },
        {
          "output_type": "stream",
          "name": "stderr",
          "text": [
            "Training Epoch 14: 100%|██████████| 15/15 [00:10<00:00,  1.44it/s]\n",
            "/usr/local/lib/python3.10/dist-packages/sklearn/metrics/_classification.py:1344: UndefinedMetricWarning: Precision is ill-defined and being set to 0.0 in labels with no predicted samples. Use `zero_division` parameter to control this behavior.\n",
            "  _warn_prf(average, modifier, msg_start, len(result))\n"
          ]
        },
        {
          "output_type": "stream",
          "name": "stdout",
          "text": [
            "Epoch 14: Train: Loss = 0.5536299069722493, Accuracy = 0.8068290844298246, Precision = 0.7808201974198478, Recall = 0.8068290844298246, F1 = 0.7818044587764121\n"
          ]
        },
        {
          "output_type": "stream",
          "name": "stderr",
          "text": [
            "Validation Epoch 14: 100%|██████████| 4/4 [00:00<00:00,  4.45it/s]\n",
            "/usr/local/lib/python3.10/dist-packages/sklearn/metrics/_classification.py:1344: UndefinedMetricWarning: Precision is ill-defined and being set to 0.0 in labels with no predicted samples. Use `zero_division` parameter to control this behavior.\n",
            "  _warn_prf(average, modifier, msg_start, len(result))\n"
          ]
        },
        {
          "output_type": "stream",
          "name": "stdout",
          "text": [
            "Epoch 14: Validation: Loss = 0.7519777789711952, Accuracy = 0.7110721982758621, Precision = 0.6683692744753714, Recall = 0.7110721982758621, F1 = 0.6889600571734162\n",
            "Val loss did not improve\n",
            "\n"
          ]
        },
        {
          "output_type": "stream",
          "name": "stderr",
          "text": [
            "Training Epoch 15: 100%|██████████| 15/15 [00:10<00:00,  1.44it/s]\n",
            "/usr/local/lib/python3.10/dist-packages/sklearn/metrics/_classification.py:1344: UndefinedMetricWarning: Precision is ill-defined and being set to 0.0 in labels with no predicted samples. Use `zero_division` parameter to control this behavior.\n",
            "  _warn_prf(average, modifier, msg_start, len(result))\n"
          ]
        },
        {
          "output_type": "stream",
          "name": "stdout",
          "text": [
            "Epoch 15: Train: Loss = 0.5309023479620616, Accuracy = 0.8158751370614035, Precision = 0.7969783600653525, Recall = 0.8158751370614035, F1 = 0.7994089643425194\n"
          ]
        },
        {
          "output_type": "stream",
          "name": "stderr",
          "text": [
            "Validation Epoch 15: 100%|██████████| 4/4 [00:00<00:00,  4.39it/s]\n",
            "/usr/local/lib/python3.10/dist-packages/sklearn/metrics/_classification.py:1344: UndefinedMetricWarning: Precision is ill-defined and being set to 0.0 in labels with no predicted samples. Use `zero_division` parameter to control this behavior.\n",
            "  _warn_prf(average, modifier, msg_start, len(result))\n"
          ]
        },
        {
          "output_type": "stream",
          "name": "stdout",
          "text": [
            "Epoch 15: Validation: Loss = 0.7411558330059052, Accuracy = 0.7516837284482759, Precision = 0.680628074335256, Recall = 0.7516837284482759, F1 = 0.7128398615597744\n",
            "Val loss did not improve\n",
            "\n"
          ]
        },
        {
          "output_type": "stream",
          "name": "stderr",
          "text": [
            "Training Epoch 16: 100%|██████████| 15/15 [00:10<00:00,  1.43it/s]\n",
            "/usr/local/lib/python3.10/dist-packages/sklearn/metrics/_classification.py:1344: UndefinedMetricWarning: Precision is ill-defined and being set to 0.0 in labels with no predicted samples. Use `zero_division` parameter to control this behavior.\n",
            "  _warn_prf(average, modifier, msg_start, len(result))\n"
          ]
        },
        {
          "output_type": "stream",
          "name": "stdout",
          "text": [
            "Epoch 16: Train: Loss = 0.5141004641850789, Accuracy = 0.8284847861842105, Precision = 0.8147028085369389, Recall = 0.8284847861842105, F1 = 0.8164362052376477\n"
          ]
        },
        {
          "output_type": "stream",
          "name": "stderr",
          "text": [
            "Validation Epoch 16: 100%|██████████| 4/4 [00:00<00:00,  4.40it/s]\n",
            "/usr/local/lib/python3.10/dist-packages/sklearn/metrics/_classification.py:1344: UndefinedMetricWarning: Precision is ill-defined and being set to 0.0 in labels with no predicted samples. Use `zero_division` parameter to control this behavior.\n",
            "  _warn_prf(average, modifier, msg_start, len(result))\n"
          ]
        },
        {
          "output_type": "stream",
          "name": "stdout",
          "text": [
            "Epoch 16: Validation: Loss = 0.7644369229674339, Accuracy = 0.7423895474137931, Precision = 0.6473938537901561, Recall = 0.7423895474137931, F1 = 0.6870820306971368\n",
            "Val loss did not improve\n",
            "\n"
          ]
        },
        {
          "output_type": "stream",
          "name": "stderr",
          "text": [
            "Training Epoch 17: 100%|██████████| 15/15 [00:10<00:00,  1.44it/s]\n",
            "/usr/local/lib/python3.10/dist-packages/sklearn/metrics/_classification.py:1344: UndefinedMetricWarning: Precision is ill-defined and being set to 0.0 in labels with no predicted samples. Use `zero_division` parameter to control this behavior.\n",
            "  _warn_prf(average, modifier, msg_start, len(result))\n"
          ]
        },
        {
          "output_type": "stream",
          "name": "stdout",
          "text": [
            "Epoch 17: Train: Loss = 0.5372840126355489, Accuracy = 0.8149671052631579, Precision = 0.8015585355565609, Recall = 0.8149671052631579, F1 = 0.8016307143328347\n"
          ]
        },
        {
          "output_type": "stream",
          "name": "stderr",
          "text": [
            "Validation Epoch 17: 100%|██████████| 4/4 [00:00<00:00,  4.53it/s]\n",
            "/usr/local/lib/python3.10/dist-packages/sklearn/metrics/_classification.py:1344: UndefinedMetricWarning: Precision is ill-defined and being set to 0.0 in labels with no predicted samples. Use `zero_division` parameter to control this behavior.\n",
            "  _warn_prf(average, modifier, msg_start, len(result))\n"
          ]
        },
        {
          "output_type": "stream",
          "name": "stdout",
          "text": [
            "Epoch 17: Validation: Loss = 0.7251947298645973, Accuracy = 0.763671875, Precision = 0.6755732622597436, Recall = 0.763671875, F1 = 0.7098650060892008\n",
            "Val loss did not improve\n",
            "\n"
          ]
        },
        {
          "output_type": "stream",
          "name": "stderr",
          "text": [
            "Training Epoch 18: 100%|██████████| 15/15 [00:10<00:00,  1.44it/s]\n",
            "/usr/local/lib/python3.10/dist-packages/sklearn/metrics/_classification.py:1344: UndefinedMetricWarning: Precision is ill-defined and being set to 0.0 in labels with no predicted samples. Use `zero_division` parameter to control this behavior.\n",
            "  _warn_prf(average, modifier, msg_start, len(result))\n"
          ]
        },
        {
          "output_type": "stream",
          "name": "stdout",
          "text": [
            "Epoch 18: Train: Loss = 0.5258731265862783, Accuracy = 0.8158237390350878, Precision = 0.7920346796846841, Recall = 0.8158237390350878, F1 = 0.7849345317334655\n"
          ]
        },
        {
          "output_type": "stream",
          "name": "stderr",
          "text": [
            "Validation Epoch 18: 100%|██████████| 4/4 [00:00<00:00,  4.54it/s]\n",
            "/usr/local/lib/python3.10/dist-packages/sklearn/metrics/_classification.py:1344: UndefinedMetricWarning: Precision is ill-defined and being set to 0.0 in labels with no predicted samples. Use `zero_division` parameter to control this behavior.\n",
            "  _warn_prf(average, modifier, msg_start, len(result))\n"
          ]
        },
        {
          "output_type": "stream",
          "name": "stdout",
          "text": [
            "Epoch 18: Validation: Loss = 0.8131493479013443, Accuracy = 0.6951778017241379, Precision = 0.6854109082025681, Recall = 0.6951778017241379, F1 = 0.6874372610604381\n",
            "Val loss did not improve\n",
            "\n"
          ]
        },
        {
          "output_type": "stream",
          "name": "stderr",
          "text": [
            "Training Epoch 19: 100%|██████████| 15/15 [00:10<00:00,  1.45it/s]\n",
            "/usr/local/lib/python3.10/dist-packages/sklearn/metrics/_classification.py:1344: UndefinedMetricWarning: Precision is ill-defined and being set to 0.0 in labels with no predicted samples. Use `zero_division` parameter to control this behavior.\n",
            "  _warn_prf(average, modifier, msg_start, len(result))\n"
          ]
        },
        {
          "output_type": "stream",
          "name": "stdout",
          "text": [
            "Epoch 19: Train: Loss = 0.505785079797109, Accuracy = 0.8295641447368421, Precision = 0.8086014789531903, Recall = 0.8295641447368421, F1 = 0.8140533788668958\n"
          ]
        },
        {
          "output_type": "stream",
          "name": "stderr",
          "text": [
            "Validation Epoch 19: 100%|██████████| 4/4 [00:00<00:00,  4.37it/s]\n",
            "/usr/local/lib/python3.10/dist-packages/sklearn/metrics/_classification.py:1344: UndefinedMetricWarning: Precision is ill-defined and being set to 0.0 in labels with no predicted samples. Use `zero_division` parameter to control this behavior.\n",
            "  _warn_prf(average, modifier, msg_start, len(result))\n"
          ]
        },
        {
          "output_type": "stream",
          "name": "stdout",
          "text": [
            "Epoch 19: Validation: Loss = 0.8139551877975464, Accuracy = 0.6761179956896551, Precision = 0.6791149329598812, Recall = 0.6761179956896551, F1 = 0.6735068105715892\n",
            "Val loss did not improve\n",
            "\n"
          ]
        },
        {
          "output_type": "stream",
          "name": "stderr",
          "text": [
            "Training Epoch 20: 100%|██████████| 15/15 [00:10<00:00,  1.44it/s]\n",
            "/usr/local/lib/python3.10/dist-packages/sklearn/metrics/_classification.py:1344: UndefinedMetricWarning: Precision is ill-defined and being set to 0.0 in labels with no predicted samples. Use `zero_division` parameter to control this behavior.\n",
            "  _warn_prf(average, modifier, msg_start, len(result))\n"
          ]
        },
        {
          "output_type": "stream",
          "name": "stdout",
          "text": [
            "Epoch 20: Train: Loss = 0.5121264199415843, Accuracy = 0.8267715186403509, Precision = 0.80927468342427, Recall = 0.8267715186403509, F1 = 0.8112646340892512\n"
          ]
        },
        {
          "output_type": "stream",
          "name": "stderr",
          "text": [
            "Validation Epoch 20: 100%|██████████| 4/4 [00:00<00:00,  4.41it/s]\n",
            "/usr/local/lib/python3.10/dist-packages/sklearn/metrics/_classification.py:1344: UndefinedMetricWarning: Precision is ill-defined and being set to 0.0 in labels with no predicted samples. Use `zero_division` parameter to control this behavior.\n",
            "  _warn_prf(average, modifier, msg_start, len(result))\n"
          ]
        },
        {
          "output_type": "stream",
          "name": "stdout",
          "text": [
            "Epoch 20: Validation: Loss = 0.7585185393691063, Accuracy = 0.7666352370689655, Precision = 0.6844866474939596, Recall = 0.7666352370689655, F1 = 0.7173330673606754\n",
            "Val loss did not improve\n",
            "\n"
          ]
        },
        {
          "output_type": "stream",
          "name": "stderr",
          "text": [
            "Training Epoch 21: 100%|██████████| 15/15 [00:10<00:00,  1.44it/s]\n",
            "/usr/local/lib/python3.10/dist-packages/sklearn/metrics/_classification.py:1344: UndefinedMetricWarning: Precision is ill-defined and being set to 0.0 in labels with no predicted samples. Use `zero_division` parameter to control this behavior.\n",
            "  _warn_prf(average, modifier, msg_start, len(result))\n"
          ]
        },
        {
          "output_type": "stream",
          "name": "stdout",
          "text": [
            "Epoch 21: Train: Loss = 0.49771578311920167, Accuracy = 0.8263432017543859, Precision = 0.8122840497384398, Recall = 0.8263432017543859, F1 = 0.8126701296624481\n"
          ]
        },
        {
          "output_type": "stream",
          "name": "stderr",
          "text": [
            "Validation Epoch 21: 100%|██████████| 4/4 [00:00<00:00,  4.38it/s]\n",
            "/usr/local/lib/python3.10/dist-packages/sklearn/metrics/_classification.py:1344: UndefinedMetricWarning: Precision is ill-defined and being set to 0.0 in labels with no predicted samples. Use `zero_division` parameter to control this behavior.\n",
            "  _warn_prf(average, modifier, msg_start, len(result))\n"
          ]
        },
        {
          "output_type": "stream",
          "name": "stdout",
          "text": [
            "Epoch 21: Validation: Loss = 0.7203190550208092, Accuracy = 0.7138335129310345, Precision = 0.6731750153617565, Recall = 0.7138335129310345, F1 = 0.6927490704342802\n",
            "Val loss did not improve\n",
            "\n"
          ]
        },
        {
          "output_type": "stream",
          "name": "stderr",
          "text": [
            "Training Epoch 22: 100%|██████████| 15/15 [00:10<00:00,  1.44it/s]\n",
            "/usr/local/lib/python3.10/dist-packages/sklearn/metrics/_classification.py:1344: UndefinedMetricWarning: Precision is ill-defined and being set to 0.0 in labels with no predicted samples. Use `zero_division` parameter to control this behavior.\n",
            "  _warn_prf(average, modifier, msg_start, len(result))\n"
          ]
        },
        {
          "output_type": "stream",
          "name": "stdout",
          "text": [
            "Epoch 22: Train: Loss = 0.4848771075407664, Accuracy = 0.8448807565789473, Precision = 0.8235929573186132, Recall = 0.8448807565789473, F1 = 0.8256856164083458\n"
          ]
        },
        {
          "output_type": "stream",
          "name": "stderr",
          "text": [
            "Validation Epoch 22: 100%|██████████| 4/4 [00:00<00:00,  4.44it/s]\n",
            "/usr/local/lib/python3.10/dist-packages/sklearn/metrics/_classification.py:1344: UndefinedMetricWarning: Precision is ill-defined and being set to 0.0 in labels with no predicted samples. Use `zero_division` parameter to control this behavior.\n",
            "  _warn_prf(average, modifier, msg_start, len(result))\n"
          ]
        },
        {
          "output_type": "stream",
          "name": "stdout",
          "text": [
            "Epoch 22: Validation: Loss = 0.7724601030349731, Accuracy = 0.7161907327586207, Precision = 0.6715564219973547, Recall = 0.7161907327586207, F1 = 0.6931095531593134\n",
            "Val loss did not improve\n",
            "\n"
          ]
        },
        {
          "output_type": "stream",
          "name": "stderr",
          "text": [
            "Training Epoch 23: 100%|██████████| 15/15 [00:10<00:00,  1.43it/s]\n",
            "/usr/local/lib/python3.10/dist-packages/sklearn/metrics/_classification.py:1344: UndefinedMetricWarning: Precision is ill-defined and being set to 0.0 in labels with no predicted samples. Use `zero_division` parameter to control this behavior.\n",
            "  _warn_prf(average, modifier, msg_start, len(result))\n"
          ]
        },
        {
          "output_type": "stream",
          "name": "stdout",
          "text": [
            "Epoch 23: Train: Loss = 0.4507836977640788, Accuracy = 0.8530016447368421, Precision = 0.8509923151934138, Recall = 0.8530016447368421, F1 = 0.8379618316294385\n"
          ]
        },
        {
          "output_type": "stream",
          "name": "stderr",
          "text": [
            "Validation Epoch 23: 100%|██████████| 4/4 [00:00<00:00,  4.51it/s]\n",
            "/usr/local/lib/python3.10/dist-packages/sklearn/metrics/_classification.py:1344: UndefinedMetricWarning: Precision is ill-defined and being set to 0.0 in labels with no predicted samples. Use `zero_division` parameter to control this behavior.\n",
            "  _warn_prf(average, modifier, msg_start, len(result))\n"
          ]
        },
        {
          "output_type": "stream",
          "name": "stdout",
          "text": [
            "Epoch 23: Validation: Loss = 0.770358107984066, Accuracy = 0.7308728448275862, Precision = 0.668240882764952, Recall = 0.7308728448275862, F1 = 0.6977291958328189\n",
            "Val loss did not improve\n",
            "\n"
          ]
        },
        {
          "output_type": "stream",
          "name": "stderr",
          "text": [
            "Training Epoch 24: 100%|██████████| 15/15 [00:10<00:00,  1.44it/s]\n",
            "/usr/local/lib/python3.10/dist-packages/sklearn/metrics/_classification.py:1344: UndefinedMetricWarning: Precision is ill-defined and being set to 0.0 in labels with no predicted samples. Use `zero_division` parameter to control this behavior.\n",
            "  _warn_prf(average, modifier, msg_start, len(result))\n"
          ]
        },
        {
          "output_type": "stream",
          "name": "stdout",
          "text": [
            "Epoch 24: Train: Loss = 0.44110398093859354, Accuracy = 0.8559998629385965, Precision = 0.8516207099375306, Recall = 0.8559998629385965, F1 = 0.838987474719349\n"
          ]
        },
        {
          "output_type": "stream",
          "name": "stderr",
          "text": [
            "Validation Epoch 24: 100%|██████████| 4/4 [00:00<00:00,  4.55it/s]\n",
            "/usr/local/lib/python3.10/dist-packages/sklearn/metrics/_classification.py:1344: UndefinedMetricWarning: Precision is ill-defined and being set to 0.0 in labels with no predicted samples. Use `zero_division` parameter to control this behavior.\n",
            "  _warn_prf(average, modifier, msg_start, len(result))\n"
          ]
        },
        {
          "output_type": "stream",
          "name": "stdout",
          "text": [
            "Epoch 24: Validation: Loss = 0.7780609056353569, Accuracy = 0.7349137931034483, Precision = 0.6681294303183961, Recall = 0.7349137931034483, F1 = 0.6989737535163776\n",
            "Val loss did not improve\n",
            "\n"
          ]
        },
        {
          "output_type": "stream",
          "name": "stderr",
          "text": [
            "Training Epoch 25: 100%|██████████| 15/15 [00:10<00:00,  1.44it/s]\n",
            "/usr/local/lib/python3.10/dist-packages/sklearn/metrics/_classification.py:1344: UndefinedMetricWarning: Precision is ill-defined and being set to 0.0 in labels with no predicted samples. Use `zero_division` parameter to control this behavior.\n",
            "  _warn_prf(average, modifier, msg_start, len(result))\n"
          ]
        },
        {
          "output_type": "stream",
          "name": "stdout",
          "text": [
            "Epoch 25: Train: Loss = 0.4357045263051987, Accuracy = 0.860437225877193, Precision = 0.8519401167974306, Recall = 0.860437225877193, F1 = 0.8450552316155182\n"
          ]
        },
        {
          "output_type": "stream",
          "name": "stderr",
          "text": [
            "Validation Epoch 25: 100%|██████████| 4/4 [00:00<00:00,  4.34it/s]\n",
            "/usr/local/lib/python3.10/dist-packages/sklearn/metrics/_classification.py:1344: UndefinedMetricWarning: Precision is ill-defined and being set to 0.0 in labels with no predicted samples. Use `zero_division` parameter to control this behavior.\n",
            "  _warn_prf(average, modifier, msg_start, len(result))\n"
          ]
        },
        {
          "output_type": "stream",
          "name": "stdout",
          "text": [
            "Epoch 25: Validation: Loss = 0.7806402444839478, Accuracy = 0.7353178879310345, Precision = 0.6682864268013887, Recall = 0.7353178879310345, F1 = 0.6992053881262581\n",
            "Val loss did not improve\n",
            "\n"
          ]
        },
        {
          "output_type": "stream",
          "name": "stderr",
          "text": [
            "Training Epoch 26: 100%|██████████| 15/15 [00:10<00:00,  1.44it/s]\n",
            "/usr/local/lib/python3.10/dist-packages/sklearn/metrics/_classification.py:1344: UndefinedMetricWarning: Precision is ill-defined and being set to 0.0 in labels with no predicted samples. Use `zero_division` parameter to control this behavior.\n",
            "  _warn_prf(average, modifier, msg_start, len(result))\n"
          ]
        },
        {
          "output_type": "stream",
          "name": "stdout",
          "text": [
            "Epoch 26: Train: Loss = 0.4312900871038437, Accuracy = 0.8627672697368421, Precision = 0.8554310918533828, Recall = 0.8627672697368421, F1 = 0.8479585563966834\n"
          ]
        },
        {
          "output_type": "stream",
          "name": "stderr",
          "text": [
            "Validation Epoch 26: 100%|██████████| 4/4 [00:00<00:00,  4.48it/s]\n",
            "/usr/local/lib/python3.10/dist-packages/sklearn/metrics/_classification.py:1344: UndefinedMetricWarning: Precision is ill-defined and being set to 0.0 in labels with no predicted samples. Use `zero_division` parameter to control this behavior.\n",
            "  _warn_prf(average, modifier, msg_start, len(result))\n"
          ]
        },
        {
          "output_type": "stream",
          "name": "stdout",
          "text": [
            "Epoch 26: Validation: Loss = 0.7822506278753281, Accuracy = 0.734375, Precision = 0.6680209754180502, Recall = 0.734375, F1 = 0.6986995939247718\n",
            "Val loss did not improve\n",
            "\n"
          ]
        },
        {
          "output_type": "stream",
          "name": "stderr",
          "text": [
            "Training Epoch 27: 100%|██████████| 15/15 [00:10<00:00,  1.44it/s]\n",
            "/usr/local/lib/python3.10/dist-packages/sklearn/metrics/_classification.py:1344: UndefinedMetricWarning: Precision is ill-defined and being set to 0.0 in labels with no predicted samples. Use `zero_division` parameter to control this behavior.\n",
            "  _warn_prf(average, modifier, msg_start, len(result))\n"
          ]
        },
        {
          "output_type": "stream",
          "name": "stdout",
          "text": [
            "Epoch 27: Train: Loss = 0.4274094969034195, Accuracy = 0.8679242050438597, Precision = 0.8604554427779846, Recall = 0.8679242050438597, F1 = 0.8546581460912618\n"
          ]
        },
        {
          "output_type": "stream",
          "name": "stderr",
          "text": [
            "Validation Epoch 27: 100%|██████████| 4/4 [00:00<00:00,  4.49it/s]\n",
            "/usr/local/lib/python3.10/dist-packages/sklearn/metrics/_classification.py:1344: UndefinedMetricWarning: Precision is ill-defined and being set to 0.0 in labels with no predicted samples. Use `zero_division` parameter to control this behavior.\n",
            "  _warn_prf(average, modifier, msg_start, len(result))\n"
          ]
        },
        {
          "output_type": "stream",
          "name": "stdout",
          "text": [
            "Epoch 27: Validation: Loss = 0.7855527400970459, Accuracy = 0.7338362068965517, Precision = 0.667826768952104, Recall = 0.7338362068965517, F1 = 0.6983658305108534\n",
            "Val loss did not improve\n",
            "\n"
          ]
        },
        {
          "output_type": "stream",
          "name": "stderr",
          "text": [
            "Training Epoch 28: 100%|██████████| 15/15 [00:10<00:00,  1.44it/s]\n",
            "/usr/local/lib/python3.10/dist-packages/sklearn/metrics/_classification.py:1344: UndefinedMetricWarning: Precision is ill-defined and being set to 0.0 in labels with no predicted samples. Use `zero_division` parameter to control this behavior.\n",
            "  _warn_prf(average, modifier, msg_start, len(result))\n"
          ]
        },
        {
          "output_type": "stream",
          "name": "stdout",
          "text": [
            "Epoch 28: Train: Loss = 0.4237112214167913, Accuracy = 0.8712650767543859, Precision = 0.863724878292882, Recall = 0.8712650767543859, F1 = 0.8594515386209766\n"
          ]
        },
        {
          "output_type": "stream",
          "name": "stderr",
          "text": [
            "Validation Epoch 28: 100%|██████████| 4/4 [00:00<00:00,  4.44it/s]\n",
            "/usr/local/lib/python3.10/dist-packages/sklearn/metrics/_classification.py:1344: UndefinedMetricWarning: Precision is ill-defined and being set to 0.0 in labels with no predicted samples. Use `zero_division` parameter to control this behavior.\n",
            "  _warn_prf(average, modifier, msg_start, len(result))\n"
          ]
        },
        {
          "output_type": "stream",
          "name": "stdout",
          "text": [
            "Epoch 28: Validation: Loss = 0.7890653312206268, Accuracy = 0.732489224137931, Precision = 0.6669383791632302, Recall = 0.732489224137931, F1 = 0.6973257003109432\n",
            "Val loss did not improve\n",
            "\n"
          ]
        },
        {
          "output_type": "stream",
          "name": "stderr",
          "text": [
            "Training Epoch 29: 100%|██████████| 15/15 [00:10<00:00,  1.44it/s]\n",
            "/usr/local/lib/python3.10/dist-packages/sklearn/metrics/_classification.py:1344: UndefinedMetricWarning: Precision is ill-defined and being set to 0.0 in labels with no predicted samples. Use `zero_division` parameter to control this behavior.\n",
            "  _warn_prf(average, modifier, msg_start, len(result))\n"
          ]
        },
        {
          "output_type": "stream",
          "name": "stdout",
          "text": [
            "Epoch 29: Train: Loss = 0.4200486222902934, Accuracy = 0.8730297423245614, Precision = 0.8656285480991044, Recall = 0.8730297423245614, F1 = 0.861487963030807\n"
          ]
        },
        {
          "output_type": "stream",
          "name": "stderr",
          "text": [
            "Validation Epoch 29: 100%|██████████| 4/4 [00:00<00:00,  4.43it/s]\n",
            "/usr/local/lib/python3.10/dist-packages/sklearn/metrics/_classification.py:1344: UndefinedMetricWarning: Precision is ill-defined and being set to 0.0 in labels with no predicted samples. Use `zero_division` parameter to control this behavior.\n",
            "  _warn_prf(average, modifier, msg_start, len(result))\n"
          ]
        },
        {
          "output_type": "stream",
          "name": "stdout",
          "text": [
            "Epoch 29: Validation: Loss = 0.7922184839844704, Accuracy = 0.7311422413793104, Precision = 0.6663076654787567, Recall = 0.7311422413793104, F1 = 0.69642870561991\n",
            "Val loss did not improve\n",
            "\n"
          ]
        },
        {
          "output_type": "stream",
          "name": "stderr",
          "text": [
            "Training Epoch 30: 100%|██████████| 15/15 [00:10<00:00,  1.44it/s]\n",
            "/usr/local/lib/python3.10/dist-packages/sklearn/metrics/_classification.py:1344: UndefinedMetricWarning: Precision is ill-defined and being set to 0.0 in labels with no predicted samples. Use `zero_division` parameter to control this behavior.\n",
            "  _warn_prf(average, modifier, msg_start, len(result))\n"
          ]
        },
        {
          "output_type": "stream",
          "name": "stdout",
          "text": [
            "Epoch 30: Train: Loss = 0.41652608116467793, Accuracy = 0.8743489583333334, Precision = 0.8668373076990691, Recall = 0.8743489583333334, F1 = 0.86295485505642\n"
          ]
        },
        {
          "output_type": "stream",
          "name": "stderr",
          "text": [
            "Validation Epoch 30: 100%|██████████| 4/4 [00:00<00:00,  4.44it/s]\n",
            "/usr/local/lib/python3.10/dist-packages/sklearn/metrics/_classification.py:1344: UndefinedMetricWarning: Precision is ill-defined and being set to 0.0 in labels with no predicted samples. Use `zero_division` parameter to control this behavior.\n",
            "  _warn_prf(average, modifier, msg_start, len(result))\n"
          ]
        },
        {
          "output_type": "stream",
          "name": "stdout",
          "text": [
            "Epoch 30: Validation: Loss = 0.7953157722949982, Accuracy = 0.7297279094827587, Precision = 0.6652370601484062, Recall = 0.7297279094827587, F1 = 0.6952478792573047\n",
            "Val loss did not improve\n",
            "\n"
          ]
        },
        {
          "output_type": "stream",
          "name": "stderr",
          "text": [
            "Training Epoch 31: 100%|██████████| 15/15 [00:10<00:00,  1.44it/s]\n",
            "/usr/local/lib/python3.10/dist-packages/sklearn/metrics/_classification.py:1344: UndefinedMetricWarning: Precision is ill-defined and being set to 0.0 in labels with no predicted samples. Use `zero_division` parameter to control this behavior.\n",
            "  _warn_prf(average, modifier, msg_start, len(result))\n"
          ]
        },
        {
          "output_type": "stream",
          "name": "stdout",
          "text": [
            "Epoch 31: Train: Loss = 0.4129602243502935, Accuracy = 0.8755996436403509, Precision = 0.8684273980281096, Recall = 0.8755996436403509, F1 = 0.8645024915069475\n"
          ]
        },
        {
          "output_type": "stream",
          "name": "stderr",
          "text": [
            "Validation Epoch 31: 100%|██████████| 4/4 [00:00<00:00,  4.36it/s]\n",
            "/usr/local/lib/python3.10/dist-packages/sklearn/metrics/_classification.py:1344: UndefinedMetricWarning: Precision is ill-defined and being set to 0.0 in labels with no predicted samples. Use `zero_division` parameter to control this behavior.\n",
            "  _warn_prf(average, modifier, msg_start, len(result))\n"
          ]
        },
        {
          "output_type": "stream",
          "name": "stdout",
          "text": [
            "Epoch 31: Validation: Loss = 0.7986299842596054, Accuracy = 0.7297279094827587, Precision = 0.6652359626428924, Recall = 0.7297279094827587, F1 = 0.6952410543677715\n",
            "Val loss did not improve\n",
            "\n"
          ]
        },
        {
          "output_type": "stream",
          "name": "stderr",
          "text": [
            "Training Epoch 32: 100%|██████████| 15/15 [00:10<00:00,  1.44it/s]\n",
            "/usr/local/lib/python3.10/dist-packages/sklearn/metrics/_classification.py:1344: UndefinedMetricWarning: Precision is ill-defined and being set to 0.0 in labels with no predicted samples. Use `zero_division` parameter to control this behavior.\n",
            "  _warn_prf(average, modifier, msg_start, len(result))\n"
          ]
        },
        {
          "output_type": "stream",
          "name": "stdout",
          "text": [
            "Epoch 32: Train: Loss = 0.40939386586348214, Accuracy = 0.8773300438596491, Precision = 0.8702405822311264, Recall = 0.8773300438596491, F1 = 0.86658459875615\n"
          ]
        },
        {
          "output_type": "stream",
          "name": "stderr",
          "text": [
            "Validation Epoch 32: 100%|██████████| 4/4 [00:00<00:00,  4.42it/s]\n",
            "/usr/local/lib/python3.10/dist-packages/sklearn/metrics/_classification.py:1344: UndefinedMetricWarning: Precision is ill-defined and being set to 0.0 in labels with no predicted samples. Use `zero_division` parameter to control this behavior.\n",
            "  _warn_prf(average, modifier, msg_start, len(result))\n"
          ]
        },
        {
          "output_type": "stream",
          "name": "stdout",
          "text": [
            "Epoch 32: Validation: Loss = 0.801780454814434, Accuracy = 0.7286503232758621, Precision = 0.6642813010199834, Recall = 0.7286503232758621, F1 = 0.6942595232390261\n",
            "Val loss did not improve\n",
            "\n"
          ]
        },
        {
          "output_type": "stream",
          "name": "stderr",
          "text": [
            "Training Epoch 33: 100%|██████████| 15/15 [00:10<00:00,  1.44it/s]\n",
            "/usr/local/lib/python3.10/dist-packages/sklearn/metrics/_classification.py:1344: UndefinedMetricWarning: Precision is ill-defined and being set to 0.0 in labels with no predicted samples. Use `zero_division` parameter to control this behavior.\n",
            "  _warn_prf(average, modifier, msg_start, len(result))\n"
          ]
        },
        {
          "output_type": "stream",
          "name": "stdout",
          "text": [
            "Epoch 33: Train: Loss = 0.40583573083082836, Accuracy = 0.8788891173245614, Precision = 0.8718688290392084, Recall = 0.8788891173245614, F1 = 0.8684772590429086\n"
          ]
        },
        {
          "output_type": "stream",
          "name": "stderr",
          "text": [
            "Validation Epoch 33: 100%|██████████| 4/4 [00:00<00:00,  4.49it/s]\n",
            "/usr/local/lib/python3.10/dist-packages/sklearn/metrics/_classification.py:1344: UndefinedMetricWarning: Precision is ill-defined and being set to 0.0 in labels with no predicted samples. Use `zero_division` parameter to control this behavior.\n",
            "  _warn_prf(average, modifier, msg_start, len(result))\n"
          ]
        },
        {
          "output_type": "stream",
          "name": "stdout",
          "text": [
            "Epoch 33: Validation: Loss = 0.8051480129361153, Accuracy = 0.7278421336206896, Precision = 0.6634873506916767, Recall = 0.7278421336206896, F1 = 0.6934540750524306\n",
            "Val loss did not improve\n",
            "\n"
          ]
        },
        {
          "output_type": "stream",
          "name": "stderr",
          "text": [
            "Training Epoch 34: 100%|██████████| 15/15 [00:10<00:00,  1.44it/s]\n",
            "/usr/local/lib/python3.10/dist-packages/sklearn/metrics/_classification.py:1344: UndefinedMetricWarning: Precision is ill-defined and being set to 0.0 in labels with no predicted samples. Use `zero_division` parameter to control this behavior.\n",
            "  _warn_prf(average, modifier, msg_start, len(result))\n"
          ]
        },
        {
          "output_type": "stream",
          "name": "stdout",
          "text": [
            "Epoch 34: Train: Loss = 0.40313254396120707, Accuracy = 0.8802939967105263, Precision = 0.8732717924784471, Recall = 0.8802939967105263, F1 = 0.8701936382544023\n"
          ]
        },
        {
          "output_type": "stream",
          "name": "stderr",
          "text": [
            "Validation Epoch 34: 100%|██████████| 4/4 [00:00<00:00,  4.50it/s]\n",
            "/usr/local/lib/python3.10/dist-packages/sklearn/metrics/_classification.py:1344: UndefinedMetricWarning: Precision is ill-defined and being set to 0.0 in labels with no predicted samples. Use `zero_division` parameter to control this behavior.\n",
            "  _warn_prf(average, modifier, msg_start, len(result))\n"
          ]
        },
        {
          "output_type": "stream",
          "name": "stdout",
          "text": [
            "Epoch 34: Validation: Loss = 0.8053803592920303, Accuracy = 0.7278421336206896, Precision = 0.6634187477570991, Recall = 0.7278421336206896, F1 = 0.6934111368101871\n",
            "Val loss did not improve\n",
            "\n"
          ]
        },
        {
          "output_type": "stream",
          "name": "stderr",
          "text": [
            "Training Epoch 35: 100%|██████████| 15/15 [00:10<00:00,  1.44it/s]\n",
            "/usr/local/lib/python3.10/dist-packages/sklearn/metrics/_classification.py:1344: UndefinedMetricWarning: Precision is ill-defined and being set to 0.0 in labels with no predicted samples. Use `zero_division` parameter to control this behavior.\n",
            "  _warn_prf(average, modifier, msg_start, len(result))\n"
          ]
        },
        {
          "output_type": "stream",
          "name": "stdout",
          "text": [
            "Epoch 35: Train: Loss = 0.402776383360227, Accuracy = 0.8803796600877193, Precision = 0.8734205804991086, Recall = 0.8803796600877193, F1 = 0.8702718440806032\n"
          ]
        },
        {
          "output_type": "stream",
          "name": "stderr",
          "text": [
            "Validation Epoch 35: 100%|██████████| 4/4 [00:00<00:00,  4.40it/s]\n",
            "/usr/local/lib/python3.10/dist-packages/sklearn/metrics/_classification.py:1344: UndefinedMetricWarning: Precision is ill-defined and being set to 0.0 in labels with no predicted samples. Use `zero_division` parameter to control this behavior.\n",
            "  _warn_prf(average, modifier, msg_start, len(result))\n"
          ]
        },
        {
          "output_type": "stream",
          "name": "stdout",
          "text": [
            "Epoch 35: Validation: Loss = 0.8055775836110115, Accuracy = 0.7278421336206896, Precision = 0.6634187477570991, Recall = 0.7278421336206896, F1 = 0.6934111368101871\n",
            "Val loss did not improve\n",
            "\n"
          ]
        },
        {
          "output_type": "stream",
          "name": "stderr",
          "text": [
            "Training Epoch 36: 100%|██████████| 15/15 [00:10<00:00,  1.44it/s]\n",
            "/usr/local/lib/python3.10/dist-packages/sklearn/metrics/_classification.py:1344: UndefinedMetricWarning: Precision is ill-defined and being set to 0.0 in labels with no predicted samples. Use `zero_division` parameter to control this behavior.\n",
            "  _warn_prf(average, modifier, msg_start, len(result))\n"
          ]
        },
        {
          "output_type": "stream",
          "name": "stdout",
          "text": [
            "Epoch 36: Train: Loss = 0.402417916059494, Accuracy = 0.8804310581140351, Precision = 0.8734654117847397, Recall = 0.8804310581140351, F1 = 0.8703112658679055\n"
          ]
        },
        {
          "output_type": "stream",
          "name": "stderr",
          "text": [
            "Validation Epoch 36: 100%|██████████| 4/4 [00:00<00:00,  4.42it/s]\n",
            "/usr/local/lib/python3.10/dist-packages/sklearn/metrics/_classification.py:1344: UndefinedMetricWarning: Precision is ill-defined and being set to 0.0 in labels with no predicted samples. Use `zero_division` parameter to control this behavior.\n",
            "  _warn_prf(average, modifier, msg_start, len(result))\n"
          ]
        },
        {
          "output_type": "stream",
          "name": "stdout",
          "text": [
            "Epoch 36: Validation: Loss = 0.8057994320988655, Accuracy = 0.7278421336206896, Precision = 0.6634187477570991, Recall = 0.7278421336206896, F1 = 0.6934111368101871\n",
            "Val loss did not improve\n",
            "\n"
          ]
        },
        {
          "output_type": "stream",
          "name": "stderr",
          "text": [
            "Training Epoch 37: 100%|██████████| 15/15 [00:10<00:00,  1.44it/s]\n",
            "/usr/local/lib/python3.10/dist-packages/sklearn/metrics/_classification.py:1344: UndefinedMetricWarning: Precision is ill-defined and being set to 0.0 in labels with no predicted samples. Use `zero_division` parameter to control this behavior.\n",
            "  _warn_prf(average, modifier, msg_start, len(result))\n"
          ]
        },
        {
          "output_type": "stream",
          "name": "stdout",
          "text": [
            "Epoch 37: Train: Loss = 0.4020589679479599, Accuracy = 0.8805338541666666, Precision = 0.8735887472239713, Recall = 0.8805338541666666, F1 = 0.8704195150326587\n"
          ]
        },
        {
          "output_type": "stream",
          "name": "stderr",
          "text": [
            "Validation Epoch 37: 100%|██████████| 4/4 [00:00<00:00,  4.49it/s]\n",
            "/usr/local/lib/python3.10/dist-packages/sklearn/metrics/_classification.py:1344: UndefinedMetricWarning: Precision is ill-defined and being set to 0.0 in labels with no predicted samples. Use `zero_division` parameter to control this behavior.\n",
            "  _warn_prf(average, modifier, msg_start, len(result))\n"
          ]
        },
        {
          "output_type": "stream",
          "name": "stdout",
          "text": [
            "Epoch 37: Validation: Loss = 0.8060517981648445, Accuracy = 0.7277747844827587, Precision = 0.6633148931072212, Recall = 0.7277747844827587, F1 = 0.6933215247581681\n",
            "Val loss did not improve\n",
            "\n"
          ]
        },
        {
          "output_type": "stream",
          "name": "stderr",
          "text": [
            "Training Epoch 38: 100%|██████████| 15/15 [00:10<00:00,  1.44it/s]\n",
            "/usr/local/lib/python3.10/dist-packages/sklearn/metrics/_classification.py:1344: UndefinedMetricWarning: Precision is ill-defined and being set to 0.0 in labels with no predicted samples. Use `zero_division` parameter to control this behavior.\n",
            "  _warn_prf(average, modifier, msg_start, len(result))\n"
          ]
        },
        {
          "output_type": "stream",
          "name": "stdout",
          "text": [
            "Epoch 38: Train: Loss = 0.4016985019048055, Accuracy = 0.8807565789473685, Precision = 0.8738894236823699, Recall = 0.8807565789473685, F1 = 0.8706523857338107\n"
          ]
        },
        {
          "output_type": "stream",
          "name": "stderr",
          "text": [
            "Validation Epoch 38: 100%|██████████| 4/4 [00:00<00:00,  4.40it/s]\n",
            "/usr/local/lib/python3.10/dist-packages/sklearn/metrics/_classification.py:1344: UndefinedMetricWarning: Precision is ill-defined and being set to 0.0 in labels with no predicted samples. Use `zero_division` parameter to control this behavior.\n",
            "  _warn_prf(average, modifier, msg_start, len(result))\n"
          ]
        },
        {
          "output_type": "stream",
          "name": "stdout",
          "text": [
            "Epoch 38: Validation: Loss = 0.8063259422779083, Accuracy = 0.7276400862068966, Precision = 0.6631758251344012, Recall = 0.7276400862068966, F1 = 0.6931852755585136\n",
            "Val loss did not improve\n",
            "\n"
          ]
        },
        {
          "output_type": "stream",
          "name": "stderr",
          "text": [
            "Training Epoch 39: 100%|██████████| 15/15 [00:10<00:00,  1.44it/s]\n",
            "/usr/local/lib/python3.10/dist-packages/sklearn/metrics/_classification.py:1344: UndefinedMetricWarning: Precision is ill-defined and being set to 0.0 in labels with no predicted samples. Use `zero_division` parameter to control this behavior.\n",
            "  _warn_prf(average, modifier, msg_start, len(result))\n"
          ]
        },
        {
          "output_type": "stream",
          "name": "stdout",
          "text": [
            "Epoch 39: Train: Loss = 0.40133585731188454, Accuracy = 0.8808422423245614, Precision = 0.873994321537536, Recall = 0.8808422423245614, F1 = 0.8707587843751564\n"
          ]
        },
        {
          "output_type": "stream",
          "name": "stderr",
          "text": [
            "Validation Epoch 39: 100%|██████████| 4/4 [00:00<00:00,  4.48it/s]\n",
            "/usr/local/lib/python3.10/dist-packages/sklearn/metrics/_classification.py:1344: UndefinedMetricWarning: Precision is ill-defined and being set to 0.0 in labels with no predicted samples. Use `zero_division` parameter to control this behavior.\n",
            "  _warn_prf(average, modifier, msg_start, len(result))\n"
          ]
        },
        {
          "output_type": "stream",
          "name": "stdout",
          "text": [
            "Epoch 39: Validation: Loss = 0.8066133707761765, Accuracy = 0.7276400862068966, Precision = 0.6631070448785914, Recall = 0.7276400862068966, F1 = 0.6931422231427267\n",
            "Val loss did not improve\n",
            "\n"
          ]
        },
        {
          "output_type": "stream",
          "name": "stderr",
          "text": [
            "Training Epoch 40: 100%|██████████| 15/15 [00:10<00:00,  1.44it/s]\n",
            "/usr/local/lib/python3.10/dist-packages/sklearn/metrics/_classification.py:1344: UndefinedMetricWarning: Precision is ill-defined and being set to 0.0 in labels with no predicted samples. Use `zero_division` parameter to control this behavior.\n",
            "  _warn_prf(average, modifier, msg_start, len(result))\n"
          ]
        },
        {
          "output_type": "stream",
          "name": "stdout",
          "text": [
            "Epoch 40: Train: Loss = 0.4009708275397619, Accuracy = 0.880945038377193, Precision = 0.8740989476741747, Recall = 0.880945038377193, F1 = 0.8708792859229922\n"
          ]
        },
        {
          "output_type": "stream",
          "name": "stderr",
          "text": [
            "Validation Epoch 40: 100%|██████████| 4/4 [00:00<00:00,  4.39it/s]\n",
            "/usr/local/lib/python3.10/dist-packages/sklearn/metrics/_classification.py:1344: UndefinedMetricWarning: Precision is ill-defined and being set to 0.0 in labels with no predicted samples. Use `zero_division` parameter to control this behavior.\n",
            "  _warn_prf(average, modifier, msg_start, len(result))\n"
          ]
        },
        {
          "output_type": "stream",
          "name": "stdout",
          "text": [
            "Epoch 40: Validation: Loss = 0.8069077357649803, Accuracy = 0.7275053879310345, Precision = 0.6629679099596394, Recall = 0.7275053879310345, F1 = 0.6930059467364832\n",
            "Val loss did not improve\n",
            "\n"
          ]
        },
        {
          "output_type": "stream",
          "name": "stderr",
          "text": [
            "Training Epoch 41: 100%|██████████| 15/15 [00:10<00:00,  1.44it/s]\n",
            "/usr/local/lib/python3.10/dist-packages/sklearn/metrics/_classification.py:1344: UndefinedMetricWarning: Precision is ill-defined and being set to 0.0 in labels with no predicted samples. Use `zero_division` parameter to control this behavior.\n",
            "  _warn_prf(average, modifier, msg_start, len(result))\n"
          ]
        },
        {
          "output_type": "stream",
          "name": "stdout",
          "text": [
            "Epoch 41: Train: Loss = 0.40060331920782727, Accuracy = 0.8811334978070176, Precision = 0.8742441949123737, Recall = 0.8811334978070176, F1 = 0.8710810239872679\n"
          ]
        },
        {
          "output_type": "stream",
          "name": "stderr",
          "text": [
            "Validation Epoch 41: 100%|██████████| 4/4 [00:00<00:00,  4.49it/s]\n",
            "/usr/local/lib/python3.10/dist-packages/sklearn/metrics/_classification.py:1344: UndefinedMetricWarning: Precision is ill-defined and being set to 0.0 in labels with no predicted samples. Use `zero_division` parameter to control this behavior.\n",
            "  _warn_prf(average, modifier, msg_start, len(result))\n"
          ]
        },
        {
          "output_type": "stream",
          "name": "stdout",
          "text": [
            "Epoch 41: Validation: Loss = 0.8072054386138916, Accuracy = 0.7274380387931034, Precision = 0.6629327893205194, Recall = 0.7274380387931034, F1 = 0.6929593612769686\n",
            "Val loss did not improve\n",
            "Early stopping triggered\n"
          ]
        }
      ]
    },
    {
      "cell_type": "code",
      "source": [
        "!pip install matplotlib"
      ],
      "metadata": {
        "id": "UXk9pcMpQh0-",
        "ExecuteTime": {
          "end_time": "2023-12-11T22:08:34.990518Z",
          "start_time": "2023-12-11T22:08:34.990285Z"
        },
        "colab": {
          "base_uri": "https://localhost:8080/"
        },
        "outputId": "603e6467-cf80-477a-a816-938fb2203dc4"
      },
      "execution_count": null,
      "outputs": [
        {
          "output_type": "stream",
          "name": "stdout",
          "text": [
            "Requirement already satisfied: matplotlib in /usr/local/lib/python3.10/dist-packages (3.7.1)\n",
            "Requirement already satisfied: contourpy>=1.0.1 in /usr/local/lib/python3.10/dist-packages (from matplotlib) (1.2.0)\n",
            "Requirement already satisfied: cycler>=0.10 in /usr/local/lib/python3.10/dist-packages (from matplotlib) (0.12.1)\n",
            "Requirement already satisfied: fonttools>=4.22.0 in /usr/local/lib/python3.10/dist-packages (from matplotlib) (4.46.0)\n",
            "Requirement already satisfied: kiwisolver>=1.0.1 in /usr/local/lib/python3.10/dist-packages (from matplotlib) (1.4.5)\n",
            "Requirement already satisfied: numpy>=1.20 in /usr/local/lib/python3.10/dist-packages (from matplotlib) (1.23.5)\n",
            "Requirement already satisfied: packaging>=20.0 in /usr/local/lib/python3.10/dist-packages (from matplotlib) (23.2)\n",
            "Requirement already satisfied: pillow>=6.2.0 in /usr/local/lib/python3.10/dist-packages (from matplotlib) (9.4.0)\n",
            "Requirement already satisfied: pyparsing>=2.3.1 in /usr/local/lib/python3.10/dist-packages (from matplotlib) (3.1.1)\n",
            "Requirement already satisfied: python-dateutil>=2.7 in /usr/local/lib/python3.10/dist-packages (from matplotlib) (2.8.2)\n",
            "Requirement already satisfied: six>=1.5 in /usr/local/lib/python3.10/dist-packages (from python-dateutil>=2.7->matplotlib) (1.16.0)\n"
          ]
        }
      ]
    },
    {
      "cell_type": "code",
      "source": [
        "import matplotlib.pyplot as plt\n",
        "\n",
        "epochs = range(1, len(train_losses) + 1)\n",
        "\n",
        "def ploty(title, title_plural, train_values, val_values, epochs):\n",
        "    plt.figure(figsize=(12, 6))\n",
        "    plt.plot(epochs, train_values, 'bo-', label=f'Training {title}')\n",
        "    plt.plot(epochs, val_values, 'ro-', label=f'Validation {title}')\n",
        "    plt.title(f'Training and Validation {title_plural}')\n",
        "    plt.xlabel('Epoch')\n",
        "    plt.ylabel(title)\n",
        "    plt.legend()\n",
        "    plt.show()\n",
        "\n",
        "# Plotting training and validation losses\n",
        "ploty(\n",
        "    title=\"Loss\",\n",
        "    title_plural = \"Losses\",\n",
        "    train_values = train_losses,\n",
        "    val_values = val_losses,\n",
        "    epochs = epochs\n",
        ")\n",
        "\n",
        "\n",
        "ploty(\n",
        "    title=\"Accuracy\",\n",
        "    title_plural = \"Accuracies\",\n",
        "    train_values = train_accuracies,\n",
        "    val_values = val_accuracies,\n",
        "    epochs = epochs\n",
        ")\n",
        "\n",
        "\n",
        "ploty(\n",
        "    title=\"Precision\",\n",
        "    title_plural = \"Precisions\",\n",
        "    train_values = train_precisions,\n",
        "    val_values = val_precisions,\n",
        "    epochs = epochs\n",
        ")\n",
        "\n",
        "ploty(\n",
        "    title=\"Recall\",\n",
        "    title_plural = \"Recalls\",\n",
        "    train_values = train_recalls,\n",
        "    val_values = val_recalls,\n",
        "    epochs = epochs\n",
        ")\n",
        "\n",
        "ploty(\n",
        "    title=\"F1 Score\",\n",
        "    title_plural = \"F1 Scores\",\n",
        "    train_values = train_f1s,\n",
        "    val_values = val_f1s,\n",
        "    epochs = epochs\n",
        ")"
      ],
      "metadata": {
        "id": "N6USldYCQBVV",
        "ExecuteTime": {
          "end_time": "2023-12-11T22:08:34.991339Z",
          "start_time": "2023-12-11T22:08:34.990808Z"
        },
        "colab": {
          "base_uri": "https://localhost:8080/",
          "height": 1000
        },
        "outputId": "161675c5-e7fb-4d14-ce16-5275e50c8a6c"
      },
      "execution_count": null,
      "outputs": [
        {
          "output_type": "display_data",
          "data": {
            "text/plain": [
              "<Figure size 1200x600 with 1 Axes>"
            ],
            "image/png": "[encoded data removed]"
          },
          "metadata": {}
        },
        {
          "output_type": "display_data",
          "data": {
            "text/plain": [
              "<Figure size 1200x600 with 1 Axes>"
            ],
            "image/png": "[encoded data removed]"
          },
          "metadata": {}
        },
        {
          "output_type": "display_data",
          "data": {
            "text/plain": [
              "<Figure size 1200x600 with 1 Axes>"
            ],
            "image/png": "[encoded data removed]"
          },
          "metadata": {}
        },
        {
          "output_type": "display_data",
          "data": {
            "text/plain": [
              "<Figure size 1200x600 with 1 Axes>"
            ],
            "image/png": "[encoded data removed]"
          },
          "metadata": {}
        },
        {
          "output_type": "display_data",
          "data": {
            "text/plain": [
              "<Figure size 1200x600 with 1 Axes>"
            ],
            "image/png": "[encoded data removed]"
          },
          "metadata": {}
        }
      ]
    },
    {
      "cell_type": "markdown",
      "source": [
        "# Test the model"
      ],
      "metadata": {
        "id": "PigVz0NVoFgb"
      }
    },
    {
      "cell_type": "code",
      "source": [
        "import torch\n",
        "from transformers import AutoTokenizer\n",
        "import torch.nn.functional as F\n",
        "\n",
        "# Load the trained model and tokenizer\n",
        "model_name = \"SpanBERT/spanbert-base-cased\"\n",
        "tokenizer = AutoTokenizer.from_pretrained(model_name)\n",
        "\n",
        "id_to_label = {v: k for k, v in label_to_id.items()}\n",
        "\n",
        "\n",
        "# Function to test the model on new text\n",
        "def test_model(text):\n",
        "    # Tokenize the input text\n",
        "    inputs = tokenizer(text, padding=True, truncation=True, return_tensors=\"pt\", max_length=512)\n",
        "\n",
        "    model = AutoModelForTokenClassification.from_pretrained(model_name, num_labels=9)\n",
        "    state_dict = torch.load('best_model_state_dict.pt')\n",
        "    model.load_state_dict(state_dict)\n",
        "\n",
        "    device = torch.device(\"cuda\" if torch.cuda.is_available() else \"cpu\")\n",
        "    model.to(device)\n",
        "\n",
        "    # Move tensors to the same device as the model\n",
        "    input_ids = inputs[\"input_ids\"].to(model.device)\n",
        "    attention_mask = inputs[\"attention_mask\"].to(model.device)\n",
        "\n",
        "    # Model inference\n",
        "    with torch.no_grad():\n",
        "        outputs = model(input_ids, attention_mask=attention_mask)\n",
        "\n",
        "    # Apply softmax to the model output to get probabilities\n",
        "    predictions = F.softmax(outputs.logits, dim=-1)\n",
        "\n",
        "    # Get the most likely class for each token\n",
        "    predicted_indices = torch.argmax(predictions, dim=-1)\n",
        "    predicted_indices = predicted_indices.cpu().numpy()\n",
        "\n",
        "    # Convert predicted indices to class names\n",
        "    # Assuming you have a dictionary `id_to_label` mapping label IDs to label names\n",
        "    predicted_labels = [[id_to_label[idx] for idx in indices] for indices in predicted_indices]\n",
        "\n",
        "    return predicted_labels\n",
        "\n",
        "# Example usage\n",
        "text = \"Regarding the performance of wall linings, a wall includes: the internal surface of internal and external glazing (except glazing in doors)any part of a ceiling that slopes at an angle greater than 70o to the horizontalHowever\"\n",
        "predicted_labels = test_model(text)  # Assuming test_model returns token-level labels\n",
        "\n",
        "# Tokenize the text\n",
        "inputs = tokenizer(text, padding=True, truncation=True, return_tensors=\"pt\", max_length=512)\n",
        "input_ids = inputs[\"input_ids\"][0]\n",
        "\n",
        "# Decode each token ID and pair it with its predicted label\n",
        "decoded_tokens_with_labels = []\n",
        "for idx, token_id in enumerate(input_ids):\n",
        "    token = tokenizer.decode(token_id, skip_special_tokens=False)\n",
        "    if token not in tokenizer.all_special_tokens:\n",
        "        # Get the label for the token\n",
        "        label = predicted_labels[0][idx] if idx < len(predicted_labels[0]) else 'O'\n",
        "        if str(label).strip() == \"O\":\n",
        "          label = \"\"\n",
        "        else:\n",
        "          label = f\" ({label})\"\n",
        "        decoded_tokens_with_labels.append(f\"{token}{label}\")\n",
        "\n",
        "# Create the formatted string\n",
        "formatted_text = ' '.join(decoded_tokens_with_labels)\n",
        "print(formatted_text)"
      ],
      "metadata": {
        "id": "GBwqkGz9M73I",
        "ExecuteTime": {
          "start_time": "2023-12-11T22:08:34.990856Z"
        },
        "colab": {
          "base_uri": "https://localhost:8080/",
          "height": 508
        },
        "outputId": "50693e16-3537-418c-f39a-3fd2583ad6c7"
      },
      "execution_count": null,
      "outputs": [
        {
          "output_type": "stream",
          "name": "stderr",
          "text": [
            "Some weights of BertForTokenClassification were not initialized from the model checkpoint at SpanBERT/spanbert-base-cased and are newly initialized: ['classifier.weight', 'classifier.bias']\n",
            "You should probably TRAIN this model on a down-stream task to be able to use it for predictions and inference.\n"
          ]
        },
        {
          "output_type": "error",
          "ename": "RuntimeError",
          "evalue": "ignored",
          "traceback": [
            "\u001b[0;31m---------------------------------------------------------------------------\u001b[0m",
            "\u001b[0;31mRuntimeError\u001b[0m                              Traceback (most recent call last)",
            "\u001b[0;32m<ipython-input-10-9027ceb4a08b>\u001b[0m in \u001b[0;36m<cell line: 47>\u001b[0;34m()\u001b[0m\n\u001b[1;32m     45\u001b[0m \u001b[0;31m# Example usage\u001b[0m\u001b[0;34m\u001b[0m\u001b[0;34m\u001b[0m\u001b[0m\n\u001b[1;32m     46\u001b[0m \u001b[0mtext\u001b[0m \u001b[0;34m=\u001b[0m \u001b[0;34m\"Regarding the performance of wall linings, a wall includes: the internal surface of internal and external glazing (except glazing in doors)any part of a ceiling that slopes at an angle greater than 70o to the horizontalHowever\"\u001b[0m\u001b[0;34m\u001b[0m\u001b[0;34m\u001b[0m\u001b[0m\n\u001b[0;32m---> 47\u001b[0;31m \u001b[0mpredicted_labels\u001b[0m \u001b[0;34m=\u001b[0m \u001b[0mtest_model\u001b[0m\u001b[0;34m(\u001b[0m\u001b[0mtext\u001b[0m\u001b[0;34m)\u001b[0m  \u001b[0;31m# Assuming test_model returns token-level labels\u001b[0m\u001b[0;34m\u001b[0m\u001b[0;34m\u001b[0m\u001b[0m\n\u001b[0m\u001b[1;32m     48\u001b[0m \u001b[0;34m\u001b[0m\u001b[0m\n\u001b[1;32m     49\u001b[0m \u001b[0;31m# Tokenize the text\u001b[0m\u001b[0;34m\u001b[0m\u001b[0;34m\u001b[0m\u001b[0m\n",
            "\u001b[0;32m<ipython-input-10-9027ceb4a08b>\u001b[0m in \u001b[0;36mtest_model\u001b[0;34m(text)\u001b[0m\n\u001b[1;32m     17\u001b[0m     \u001b[0mmodel\u001b[0m \u001b[0;34m=\u001b[0m \u001b[0mAutoModelForTokenClassification\u001b[0m\u001b[0;34m.\u001b[0m\u001b[0mfrom_pretrained\u001b[0m\u001b[0;34m(\u001b[0m\u001b[0mmodel_name\u001b[0m\u001b[0;34m,\u001b[0m \u001b[0mnum_labels\u001b[0m\u001b[0;34m=\u001b[0m\u001b[0;36m9\u001b[0m\u001b[0;34m)\u001b[0m\u001b[0;34m\u001b[0m\u001b[0;34m\u001b[0m\u001b[0m\n\u001b[1;32m     18\u001b[0m     \u001b[0mstate_dict\u001b[0m \u001b[0;34m=\u001b[0m \u001b[0mtorch\u001b[0m\u001b[0;34m.\u001b[0m\u001b[0mload\u001b[0m\u001b[0;34m(\u001b[0m\u001b[0;34m'best_model_state_dict.pt'\u001b[0m\u001b[0;34m)\u001b[0m\u001b[0;34m\u001b[0m\u001b[0;34m\u001b[0m\u001b[0m\n\u001b[0;32m---> 19\u001b[0;31m     \u001b[0mmodel\u001b[0m\u001b[0;34m.\u001b[0m\u001b[0mload_state_dict\u001b[0m\u001b[0;34m(\u001b[0m\u001b[0mstate_dict\u001b[0m\u001b[0;34m)\u001b[0m\u001b[0;34m\u001b[0m\u001b[0;34m\u001b[0m\u001b[0m\n\u001b[0m\u001b[1;32m     20\u001b[0m \u001b[0;34m\u001b[0m\u001b[0m\n\u001b[1;32m     21\u001b[0m     \u001b[0mdevice\u001b[0m \u001b[0;34m=\u001b[0m \u001b[0mtorch\u001b[0m\u001b[0;34m.\u001b[0m\u001b[0mdevice\u001b[0m\u001b[0;34m(\u001b[0m\u001b[0;34m\"cuda\"\u001b[0m \u001b[0;32mif\u001b[0m \u001b[0mtorch\u001b[0m\u001b[0;34m.\u001b[0m\u001b[0mcuda\u001b[0m\u001b[0;34m.\u001b[0m\u001b[0mis_available\u001b[0m\u001b[0;34m(\u001b[0m\u001b[0;34m)\u001b[0m \u001b[0;32melse\u001b[0m \u001b[0;34m\"cpu\"\u001b[0m\u001b[0;34m)\u001b[0m\u001b[0;34m\u001b[0m\u001b[0;34m\u001b[0m\u001b[0m\n",
            "\u001b[0;32m/usr/local/lib/python3.10/dist-packages/torch/nn/modules/module.py\u001b[0m in \u001b[0;36mload_state_dict\u001b[0;34m(self, state_dict, strict, assign)\u001b[0m\n\u001b[1;32m   2150\u001b[0m \u001b[0;34m\u001b[0m\u001b[0m\n\u001b[1;32m   2151\u001b[0m         \u001b[0;32mif\u001b[0m \u001b[0mlen\u001b[0m\u001b[0;34m(\u001b[0m\u001b[0merror_msgs\u001b[0m\u001b[0;34m)\u001b[0m \u001b[0;34m>\u001b[0m \u001b[0;36m0\u001b[0m\u001b[0;34m:\u001b[0m\u001b[0;34m\u001b[0m\u001b[0;34m\u001b[0m\u001b[0m\n\u001b[0;32m-> 2152\u001b[0;31m             raise RuntimeError('Error(s) in loading state_dict for {}:\\n\\t{}'.format(\n\u001b[0m\u001b[1;32m   2153\u001b[0m                                self.__class__.__name__, \"\\n\\t\".join(error_msgs)))\n\u001b[1;32m   2154\u001b[0m         \u001b[0;32mreturn\u001b[0m \u001b[0m_IncompatibleKeys\u001b[0m\u001b[0;34m(\u001b[0m\u001b[0mmissing_keys\u001b[0m\u001b[0;34m,\u001b[0m \u001b[0munexpected_keys\u001b[0m\u001b[0;34m)\u001b[0m\u001b[0;34m\u001b[0m\u001b[0;34m\u001b[0m\u001b[0m\n",
            "\u001b[0;31mRuntimeError\u001b[0m: Error(s) in loading state_dict for BertForTokenClassification:\n\tsize mismatch for classifier.weight: copying a param with shape torch.Size([4, 768]) from checkpoint, the shape in current model is torch.Size([9, 768]).\n\tsize mismatch for classifier.bias: copying a param with shape torch.Size([4]) from checkpoint, the shape in current model is torch.Size([9])."
          ]
        }
      ]
    },
    {
      "cell_type": "code",
      "source": [
        "# Example usage\n",
        "text = \"Regarding the performance of wall linings, a wall includes: the internal surface of internal and external glazing (except glazing in doors)any part of a ceiling that slopes at an angle greater than 70o to the horizontalHowever\"\n",
        "predicted_labels = test_model(text)  # Assuming test_model returns token-level labels\n",
        "\n",
        "# Tokenize the text\n",
        "inputs = tokenizer(text, padding=True, truncation=True, return_tensors=\"pt\", max_length=512)\n",
        "input_ids = inputs[\"input_ids\"][0]"
      ],
      "metadata": {
        "id": "uzh6Y0GaR649",
        "ExecuteTime": {
          "start_time": "2023-12-11T22:08:34.990895Z"
        }
      },
      "execution_count": null,
      "outputs": []
    }
  ]
}